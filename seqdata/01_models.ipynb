{
 "cells": [
  {
   "cell_type": "raw",
   "metadata": {},
   "source": [
    "---\n",
    "description: Pytorch Models for Sequential Data\n",
    "output-file: models.html\n",
    "title: Models\n",
    "\n",
    "---\n",
    "\n"
   ]
  },
  {
   "cell_type": "code",
   "execution_count": null,
   "metadata": {},
   "outputs": [],
   "source": [
    "#| default_exp models.core\n",
    "#| default_cls_lvl 3"
   ]
  },
  {
   "cell_type": "code",
   "execution_count": null,
   "metadata": {},
   "outputs": [],
   "source": [
    "#| export\n",
    "from seqdata.core import *\n",
    "from fastai.basics import *\n",
    "from fastai.callback.progress import *\n",
    "from torch.nn.utils import weight_norm\n",
    "from torch.nn import Parameter"
   ]
  },
  {
   "cell_type": "code",
   "execution_count": null,
   "metadata": {},
   "outputs": [],
   "source": [
    "seq = DataBlock(blocks=(SequenceBlock.from_hdf(['current','voltage'],TensorSequencesInput,clm_shift=[0,-1]),\n",
    "                        SequenceBlock.from_hdf(['voltage'],TensorSequencesOutput,clm_shift=[-1])),\n",
    "                 get_items=CreateDict([DfHDFCreateWindows(win_sz=100+1,stp_sz=100,clm='current')]),\n",
    "                 splitter=ApplyToDict(ParentSplitter()))\n",
    "db = seq.dataloaders(get_hdf_files('test_data/battery'))"
   ]
  },
  {
   "attachments": {},
   "cell_type": "markdown",
   "metadata": {},
   "source": [
    "## Batchnorm"
   ]
  },
  {
   "cell_type": "code",
   "execution_count": null,
   "metadata": {},
   "outputs": [],
   "source": [
    "#| export\n",
    "class BatchNorm_1D_Stateful(nn.Module):\n",
    "    '''Batchnorm for stateful models. Stores batch statistics for for every timestep seperately to mitigate transient effects.'''\n",
    "    __constants__ = ['track_running_stats', 'momentum', 'eps', 'weight', 'bias',\n",
    "                     'running_mean', 'running_var', 'num_batches_tracked']\n",
    "\n",
    "    def __init__(self, hidden_size, seq_len=None,stateful=False,batch_first=True, eps=1e-7, momentum=0.1, affine=True,\n",
    "                 track_running_stats=True):#num_features\n",
    "        super().__init__()\n",
    "        channel_d=hidden_size\n",
    "        self.seq_len = seq_len\n",
    "        self.stateful = stateful\n",
    "        self.batch_first = batch_first\n",
    "        self.eps = eps\n",
    "        self.momentum = momentum\n",
    "        self.affine = affine\n",
    "        self.track_running_stats = track_running_stats\n",
    "        self.axes=(1,)\n",
    "        if self.affine:\n",
    "            self.weight = Parameter(torch.Tensor(channel_d))\n",
    "            self.bias = Parameter(torch.Tensor(channel_d))\n",
    "            self.register_parameter('weight', self.weight)\n",
    "            self.register_parameter('bias', self.bias)\n",
    "        else:\n",
    "            self.register_parameter('weight', None)\n",
    "            self.register_parameter('bias', None)\n",
    "        if self.track_running_stats:\n",
    "            if seq_len is not None:\n",
    "                self.register_buffer('running_mean', torch.zeros(seq_len,channel_d))\n",
    "                self.register_buffer('running_var', torch.ones(seq_len,channel_d))\n",
    "            self.register_buffer('num_batches_tracked', torch.tensor(0, dtype=torch.long))\n",
    "        else:\n",
    "            self.register_parameter('running_mean', None)\n",
    "            self.register_parameter('running_var', None)\n",
    "            self.register_parameter('num_batches_tracked', None)\n",
    "        self.reset_parameters()\n",
    "        self.reset_state()\n",
    "        \n",
    "    def reset_state(self):\n",
    "        self.seq_idx = 0\n",
    "\n",
    "    def reset_parameters(self):\n",
    "        if self.track_running_stats and self.seq_len is not None:\n",
    "            self.running_mean.zero_()\n",
    "            self.running_var.fill_(1)\n",
    "            self.num_batches_tracked.zero_()\n",
    "        if self.affine:\n",
    "            self.weight.data.fill_(1.0)\n",
    "            self.bias.data.fill_(0.0)\n",
    "            \n",
    "    def forward(self, input, BN_start=None):\n",
    "        if input.dim() != 3:\n",
    "            raise ValueError('expected 3D input (got {}D input)'.format(input.dim()))\n",
    "        if self.batch_first: input = input.transpose(0,1)\n",
    "            \n",
    "        input_t,n_batch,hidden_size =input.size()\n",
    "        \n",
    "        if self.track_running_stats and self.seq_len is None:\n",
    "            self.seq_len = input_t\n",
    "            self.register_buffer('running_mean', torch.zeros((input_t,hidden_size),device=input.device))\n",
    "            self.register_buffer('running_var', torch.ones((input_t,hidden_size),device=input.device))\n",
    "            \n",
    "        if BN_start is None:\n",
    "            if self.stateful:\n",
    "                BN_start = self.seq_idx\n",
    "            else:\n",
    "                BN_start = 0\n",
    "\n",
    "        exponential_average_factor = 0.0\n",
    "        if self.training and self.track_running_stats:\n",
    "            if self.num_batches_tracked is not None:\n",
    "                self.num_batches_tracked += 1\n",
    "                if self.momentum is None:  # use cumulative moving average\n",
    "                    exponential_average_factor = 1.0 / float(self.num_batches_tracked)\n",
    "                else:  # use exponential moving average\n",
    "                    exponential_average_factor = self.momentum\n",
    "\n",
    "        BN_stop = BN_start+input_t\n",
    "        self.seq_idx = BN_stop #new starting point for next forward call \n",
    "        \n",
    "        \n",
    "        if self.training:\n",
    "            mean = input.mean(1)\n",
    "            var = input.var(1, unbiased=False)# use biased var in train\n",
    "            \n",
    "            if self.seq_len-BN_start > 0: #frame has to be in statistics window for updates\n",
    "                with torch.no_grad():\n",
    "                    self.running_mean[BN_start:BN_stop] = exponential_average_factor * mean[:self.seq_len-BN_start] + (1 - exponential_average_factor) * self.running_mean[BN_start:BN_stop]\n",
    "                    self.running_var[BN_start:BN_stop] = exponential_average_factor * var[:self.seq_len-BN_start] * n_batch / (n_batch - 1)  + (1 - exponential_average_factor) * self.running_var[BN_start:BN_stop] # update running_var with unbiased var\n",
    "        else:        \n",
    "            mean = self.running_mean[BN_start:BN_stop]\n",
    "            var = self.running_var[BN_start:BN_stop]\n",
    "            \n",
    "            #if elements outside of the statistics are requested, append the last element repeatedly\n",
    "#             import pdb;pdb.set_trace()\n",
    "            if BN_stop >= self.seq_len:\n",
    "                cat_len = input_t - max(self.seq_len-BN_start,0)  # min(BN_stop-self.seq_len,self.seq_len) \n",
    "                mean = torch.cat((mean,self.running_mean[-1:].repeat(cat_len,1)))\n",
    "                var = torch.cat((var,self.running_var[-1:].repeat(cat_len,1)))\n",
    "\n",
    "        output = (input - mean[:, None, :]) / (torch.sqrt(var[:, None, :] + self.eps))\n",
    "        if self.affine:\n",
    "            output = output * self.weight[None, None, :] + self.bias[None, None, :]#[None, :, None, None]\n",
    "            \n",
    "\n",
    "        if self.batch_first: output = output.transpose(0,1)\n",
    "            \n",
    "        return output"
   ]
  },
  {
   "attachments": {},
   "cell_type": "markdown",
   "metadata": {},
   "source": [
    "## Linear"
   ]
  },
  {
   "cell_type": "code",
   "execution_count": null,
   "metadata": {},
   "outputs": [],
   "source": [
    "#| export\n",
    "class SeqLinear(nn.Module):\n",
    "    \n",
    "    def __init__(self,input_size,output_size,hidden_size=100,hidden_layer=1,act=Mish,batch_first=True):\n",
    "        super().__init__()\n",
    "        self.batch_first = batch_first\n",
    "        def conv_act(inp,out): return nn.Sequential(nn.Conv1d(inp,out,1),act())\n",
    "        \n",
    "        if hidden_layer < 1:\n",
    "            self.lin = nn.Conv1d(input_size,output_size,1)\n",
    "        else:\n",
    "            self.lin = nn.Sequential(conv_act(input_size,hidden_size),\n",
    "                                     *[conv_act(hidden_size,hidden_size) for _ in range(hidden_layer-1)],\n",
    "                                    nn.Conv1d(hidden_size,output_size,1))\n",
    "            \n",
    "    def forward(self, x):\n",
    "        if not self.batch_first: x = x.transpose(0,1)\n",
    "        out = self.lin(x.transpose(1,2)).transpose(1,2)\n",
    "        \n",
    "        if not self.batch_first: out = out.transpose(0,1)\n",
    "        return out"
   ]
  },
  {
   "attachments": {},
   "cell_type": "markdown",
   "metadata": {},
   "source": [
    "## RNNs"
   ]
  },
  {
   "attachments": {},
   "cell_type": "markdown",
   "metadata": {},
   "source": [
    "### Basic RNN"
   ]
  },
  {
   "cell_type": "code",
   "execution_count": null,
   "metadata": {},
   "outputs": [],
   "source": [
    "#| export\n",
    "from fastai.text.models.awdlstm import RNNDropout,WeightDropout\n",
    "\n",
    "class RNN(nn.Module):\n",
    "    \"inspired by https://arxiv.org/abs/1708.02182\"\n",
    "\n",
    "    def __init__(self, input_size,hidden_size, num_layers, \n",
    "                 hidden_p=0.0, input_p=0.0, weight_p=0.0,\n",
    "                 rnn_type='gru',ret_full_hidden=False,stateful=False,\n",
    "                 normalization='',**kwargs):\n",
    "        super().__init__()\n",
    "        store_attr()\n",
    "        self.bs = 1\n",
    "        \n",
    "        self.rnns = nn.ModuleList([self._one_rnn(input_size if l == 0 else hidden_size,\n",
    "                                                 hidden_size,weight_p,rnn_type,**kwargs) for l in range(num_layers)])\n",
    "        \n",
    "        self.input_dp = RNNDropout(input_p)\n",
    "        self.hidden_dps = nn.ModuleList([RNNDropout(hidden_p) for l in range(num_layers)])\n",
    "        \n",
    "        if normalization == '':\n",
    "            self.norm_layers = [None]*num_layers\n",
    "        elif normalization == 'layernorm':\n",
    "            self.norm_layers = nn.ModuleList([nn.LayerNorm(hidden_size,elementwise_affine=False) for l in range(num_layers)])\n",
    "        elif normalization == 'batchnorm':\n",
    "            self.norm_layers = nn.ModuleList([(BatchNorm_1D_Stateful(hidden_size,stateful=stateful,batch_first=True,affine=False)) for i in range(num_layers)])  \n",
    "        else:\n",
    "            raise ValueError('Invalid value for normalization')\n",
    "        self.reset_state()\n",
    "\n",
    "    def forward(self, inp, h_init=None):\n",
    "        bs,seq_len,_ = inp.shape\n",
    "        if h_init is None and self.stateful: h_init = self._get_hidden(bs)\n",
    "                \n",
    "        r_input = self.input_dp(inp) if self.input_p > 0 else inp\n",
    "        full_hid,new_hidden = [],[]\n",
    "#         import pdb; pdb.set_trace()\n",
    "        for l, (rnn,hid_dp,nrm) in enumerate(zip(self.rnns,self.hidden_dps,self.norm_layers)):\n",
    "            r_output, h = rnn(r_input,h_init[l] if h_init is not None else None)\n",
    "            \n",
    "            if self.normalization != '':\n",
    "                r_output = nrm(r_output)\n",
    "                \n",
    "            if l != self.num_layers - 1: \n",
    "                r_output = hid_dp(r_output)\n",
    "            \n",
    "            full_hid.append(r_output)\n",
    "            new_hidden.append(h)\n",
    "            r_input = r_output\n",
    "\n",
    "        if self.stateful:\n",
    "            self.hidden =  to_detach(new_hidden, cpu=False, gather=False)\n",
    "            self.bs = bs\n",
    "        output = r_output if not self.ret_full_hidden else torch.stack(full_hid, 0)\n",
    "        \n",
    "        return output, new_hidden\n",
    "\n",
    "    def _get_hidden(self,bs):\n",
    "        '''retrieve internal hidden state, check if model device has changed'''\n",
    "        if self.hidden is None: return None\n",
    "        if bs!=self.bs: return None\n",
    "        if self.hidden[0][0].device != one_param(self).device: return None\n",
    "#         import pdb; pdb.set_trace()\n",
    "        return self.hidden\n",
    "    \n",
    "    def _one_rnn(self, n_in, n_out, weight_p, rnn_type,**kwargs):\n",
    "        \"Return one of the inner rnn\"\n",
    "        if rnn_type == 'gru':\n",
    "            rnn = nn.GRU(n_in, n_out,1,batch_first=True,**kwargs)\n",
    "            if weight_p > 0: \n",
    "                rnn = WeightDropout(rnn,weight_p)\n",
    "        elif rnn_type == 'lstm':\n",
    "            rnn = nn.LSTM(n_in, n_out,1,batch_first=True,**kwargs)\n",
    "            if weight_p > 0: \n",
    "                rnn = WeightDropout(rnn,weight_p)\n",
    "        elif rnn_type == 'rnn':\n",
    "            rnn = nn.RNN(n_in, n_out,1,batch_first=True,**kwargs)\n",
    "            if weight_p > 0: \n",
    "                rnn = WeightDropout(rnn,weight_p)\n",
    "        else:\n",
    "            raise Exception\n",
    "        return rnn\n",
    "    \n",
    "    def reset_state(self):\n",
    "        self.hidden = None"
   ]
  },
  {
   "cell_type": "code",
   "execution_count": null,
   "metadata": {},
   "outputs": [],
   "source": [
    "#| export\n",
    "class Sequential_RNN(RNN):\n",
    "    '''RNN Variant for Sequential Modules'''\n",
    "    def forward(self, inp, h_init=None):\n",
    "        return super().forward(inp, h_init)[0]"
   ]
  },
  {
   "cell_type": "code",
   "execution_count": null,
   "metadata": {},
   "outputs": [],
   "source": [
    "#| export\n",
    "class SimpleRNN(nn.Module):\n",
    "    \n",
    "    @delegates(RNN, keep=True)\n",
    "    def __init__(self,input_size,output_size,num_layers=1,hidden_size=100,linear_layers=0,return_state=False,**kwargs):\n",
    "        super().__init__()\n",
    "        self.return_state = return_state\n",
    "        self.rnn = RNN(input_size=input_size,hidden_size=hidden_size,num_layers=num_layers,**kwargs)\n",
    "        self.final = SeqLinear(hidden_size,output_size,hidden_size=hidden_size,hidden_layer=linear_layers,act=nn.LeakyReLU)\n",
    "    def forward(self, x, h_init=None):\n",
    "        out,h = self.rnn(x,h_init)\n",
    "        out = self.final(out)\n",
    "        return out if not self.return_state else (out,h)"
   ]
  },
  {
   "cell_type": "code",
   "execution_count": null,
   "metadata": {},
   "outputs": [],
   "source": [
    "model = SimpleRNN(2,1,2,stateful=False,normalization='batchnorm')\n",
    "lrn = Learner(db,model,loss_func=nn.MSELoss())#.fit(10)"
   ]
  },
  {
   "cell_type": "code",
   "execution_count": null,
   "metadata": {},
   "outputs": [
    {
     "data": {
      "text/html": [
       "<table border=\"1\" class=\"dataframe\">\n",
       "  <thead>\n",
       "    <tr style=\"text-align: left;\">\n",
       "      <th>epoch</th>\n",
       "      <th>train_loss</th>\n",
       "      <th>valid_loss</th>\n",
       "      <th>time</th>\n",
       "    </tr>\n",
       "  </thead>\n",
       "  <tbody>\n",
       "    <tr>\n",
       "      <td>0</td>\n",
       "      <td>1.351431</td>\n",
       "      <td>0.331577</td>\n",
       "      <td>00:01</td>\n",
       "    </tr>\n",
       "  </tbody>\n",
       "</table>"
      ],
      "text/plain": [
       "<IPython.core.display.HTML object>"
      ]
     },
     "metadata": {},
     "output_type": "display_data"
    }
   ],
   "source": [
    "model = SimpleRNN(2,1,2,rnn_type='lstm')\n",
    "lrn = Learner(db,model,loss_func=nn.MSELoss()).fit(1)"
   ]
  },
  {
   "cell_type": "code",
   "execution_count": null,
   "metadata": {},
   "outputs": [
    {
     "data": {
      "text/html": [
       "<table border=\"1\" class=\"dataframe\">\n",
       "  <thead>\n",
       "    <tr style=\"text-align: left;\">\n",
       "      <th>epoch</th>\n",
       "      <th>train_loss</th>\n",
       "      <th>valid_loss</th>\n",
       "      <th>time</th>\n",
       "    </tr>\n",
       "  </thead>\n",
       "  <tbody>\n",
       "    <tr>\n",
       "      <td>0</td>\n",
       "      <td>0.967161</td>\n",
       "      <td>0.181972</td>\n",
       "      <td>00:01</td>\n",
       "    </tr>\n",
       "    <tr>\n",
       "      <td>1</td>\n",
       "      <td>0.268786</td>\n",
       "      <td>0.112177</td>\n",
       "      <td>00:01</td>\n",
       "    </tr>\n",
       "  </tbody>\n",
       "</table>"
      ],
      "text/plain": [
       "<IPython.core.display.HTML object>"
      ]
     },
     "metadata": {},
     "output_type": "display_data"
    }
   ],
   "source": [
    "model = SimpleRNN(2,1,2,rnn_type='gru')\n",
    "lrn = Learner(db,model,loss_func=nn.MSELoss()).fit(2)"
   ]
  },
  {
   "attachments": {},
   "cell_type": "markdown",
   "metadata": {},
   "source": [
    "### Residual RNN"
   ]
  },
  {
   "cell_type": "code",
   "execution_count": null,
   "metadata": {},
   "outputs": [],
   "source": [
    "#| export\n",
    "class ResidualBlock_RNN(nn.Module):\n",
    "    \n",
    "    @delegates(RNN, keep=True)\n",
    "    def __init__(self, input_size,hidden_size,**kwargs):\n",
    "        super().__init__()\n",
    "        self.rnn1 = RNN(input_size,hidden_size,num_layers=1,**kwargs)\n",
    "        self.rnn2 = RNN(hidden_size,hidden_size,num_layers=1,**kwargs)\n",
    "        self.residual = SeqLinear(input_size,hidden_size,hidden_layer=0) if hidden_size!=input_size else noop\n",
    "\n",
    "    def forward(self, x):\n",
    "        out,_ = self.rnn1(x)\n",
    "        out,_ = self.rnn2(out)\n",
    "        return out+self.residual(x)"
   ]
  },
  {
   "cell_type": "code",
   "execution_count": null,
   "metadata": {},
   "outputs": [],
   "source": [
    "#| export\n",
    "class SimpleResidualRNN(nn.Sequential):\n",
    "    \n",
    "    @delegates(ResidualBlock_RNN, keep=True)\n",
    "    def __init__(self, input_size,output_size,num_blocks=1,hidden_size=100,**kwargs):\n",
    "        super().__init__()\n",
    "        for i in range(num_blocks):\n",
    "            self.add_module('rnn%d'%i, ResidualBlock_RNN(input_size if i==0 else hidden_size,hidden_size,**kwargs))\n",
    "\n",
    "        self.add_module('linear', SeqLinear(hidden_size,output_size,hidden_size,hidden_layer=1))"
   ]
  },
  {
   "cell_type": "code",
   "execution_count": null,
   "metadata": {},
   "outputs": [
    {
     "data": {
      "text/html": [
       "<table border=\"1\" class=\"dataframe\">\n",
       "  <thead>\n",
       "    <tr style=\"text-align: left;\">\n",
       "      <th>epoch</th>\n",
       "      <th>train_loss</th>\n",
       "      <th>valid_loss</th>\n",
       "      <th>time</th>\n",
       "    </tr>\n",
       "  </thead>\n",
       "  <tbody>\n",
       "    <tr>\n",
       "      <td>0</td>\n",
       "      <td>0.545710</td>\n",
       "      <td>0.011952</td>\n",
       "      <td>00:01</td>\n",
       "    </tr>\n",
       "  </tbody>\n",
       "</table>"
      ],
      "text/plain": [
       "<IPython.core.display.HTML object>"
      ]
     },
     "metadata": {},
     "output_type": "display_data"
    }
   ],
   "source": [
    "model = SimpleResidualRNN(2,1,1,stateful=False,normalization='')\n",
    "lrn = Learner(db,model,loss_func=nn.MSELoss()).fit(1)"
   ]
  },
  {
   "attachments": {},
   "cell_type": "markdown",
   "metadata": {},
   "source": [
    "### Dense RNN"
   ]
  },
  {
   "cell_type": "code",
   "execution_count": null,
   "metadata": {},
   "outputs": [],
   "source": [
    "#| export\n",
    "class DenseLayer_RNN(nn.Module):\n",
    "    \n",
    "    @delegates(RNN, keep=True)\n",
    "    def __init__(self, input_size,hidden_size,**kwargs):\n",
    "        super().__init__()\n",
    "        self.rnn1 = RNN(input_size,hidden_size,num_layers=1,**kwargs)\n",
    "        self.rnn2 = RNN(hidden_size,hidden_size,num_layers=1,**kwargs)\n",
    "\n",
    "    def forward(self, x):\n",
    "        out,_ = self.rnn1(x)\n",
    "        out,_ = self.rnn2(out)\n",
    "        return torch.cat([x, out], 2) \n",
    "    \n",
    "class DenseBlock_RNN(nn.Sequential):\n",
    "    @delegates(DenseLayer_RNN, keep=True)\n",
    "    def __init__(self, num_layers, num_input_features,growth_rate,**kwargs):\n",
    "        super().__init__()\n",
    "        for i in range(num_layers):\n",
    "            self.add_module('denselayer%d' % i, DenseLayer_RNN(num_input_features + i * growth_rate,growth_rate,**kwargs))\n",
    "            "
   ]
  },
  {
   "cell_type": "code",
   "execution_count": null,
   "metadata": {},
   "outputs": [],
   "source": [
    "#| export\n",
    "class DenseNet_RNN(nn.Sequential):\n",
    "    \n",
    "    @delegates(RNN, keep=True)\n",
    "    def __init__(self, input_size, output_size, growth_rate=32, block_config=(3,3),\n",
    "                 num_init_features=32,**kwargs):\n",
    "\n",
    "        super().__init__()\n",
    "        self.add_module('rnn0', Sequential_RNN(input_size, num_init_features,1,**kwargs))      \n",
    "\n",
    "        # Each denseblock\n",
    "        num_features = num_init_features  \n",
    "        for i, num_layers in enumerate(block_config):\n",
    "            self.add_module('denseblock%d' % i, DenseBlock_RNN(num_layers, num_features,growth_rate=growth_rate,**kwargs))\n",
    "            num_features=num_features + num_layers * growth_rate\n",
    "            \n",
    "            self.add_module('transition%d' % i,  Sequential_RNN(num_features, num_features // 2,1,**kwargs))\n",
    "            num_features = num_features // 2\n",
    "        self.add_module('final',  SeqLinear(num_features, output_size ,hidden_layer=0))"
   ]
  },
  {
   "cell_type": "code",
   "execution_count": null,
   "metadata": {},
   "outputs": [
    {
     "data": {
      "text/html": [
       "<table border=\"1\" class=\"dataframe\">\n",
       "  <thead>\n",
       "    <tr style=\"text-align: left;\">\n",
       "      <th>epoch</th>\n",
       "      <th>train_loss</th>\n",
       "      <th>valid_loss</th>\n",
       "      <th>time</th>\n",
       "    </tr>\n",
       "  </thead>\n",
       "  <tbody>\n",
       "    <tr>\n",
       "      <td>0</td>\n",
       "      <td>8.697123</td>\n",
       "      <td>5.166397</td>\n",
       "      <td>00:01</td>\n",
       "    </tr>\n",
       "  </tbody>\n",
       "</table>"
      ],
      "text/plain": [
       "<IPython.core.display.HTML object>"
      ]
     },
     "metadata": {},
     "output_type": "display_data"
    }
   ],
   "source": [
    "model = DenseNet_RNN(2,1,growth_rate=10,block_config=(1,1),num_init_features=2)\n",
    "lrn = Learner(db,model,loss_func=nn.MSELoss()).fit(1)"
   ]
  },
  {
   "attachments": {},
   "cell_type": "markdown",
   "metadata": {},
   "source": [
    "### Seperate RNN"
   ]
  },
  {
   "cell_type": "code",
   "execution_count": null,
   "metadata": {},
   "outputs": [],
   "source": [
    "#| export\n",
    "class SeperateRNN(nn.Module):\n",
    "    \n",
    "    @delegates(RNN, keep=True)\n",
    "    def __init__(self,input_list,output_size,num_layers=1,hidden_size=100,linear_layers=1,**kwargs):\n",
    "        super().__init__()\n",
    "        self.input_list = input_list\n",
    "        \n",
    "        rnn_width = hidden_size//len(input_list)\n",
    "        \n",
    "        self.rnns =nn.ModuleList([ RNN(input_size=len(n),hidden_size=rnn_width,num_layers=1,**kwargs)\n",
    "                        for n in input_list])\n",
    "        \n",
    "        self.rnn =RNN(input_size=rnn_width*len(input_list),hidden_size=hidden_size,\n",
    "                      num_layers=num_layers,**kwargs)\n",
    "        self.final = SeqLinear(hidden_size,output_size,hidden_size=hidden_size,hidden_layer=linear_layers)\n",
    "\n",
    "    def forward(self, x):      \n",
    "        rnn_out = [rnn(x[...,group])[0] for rnn,group in zip(self.rnns,self.input_list)]\n",
    "        out = torch.cat(rnn_out,dim=-1)\n",
    "        out,_ = self.rnn(out)\n",
    "        out = self.final(out)\n",
    "        return out"
   ]
  },
  {
   "cell_type": "code",
   "execution_count": null,
   "metadata": {},
   "outputs": [
    {
     "data": {
      "text/html": [
       "<table border=\"1\" class=\"dataframe\">\n",
       "  <thead>\n",
       "    <tr style=\"text-align: left;\">\n",
       "      <th>epoch</th>\n",
       "      <th>train_loss</th>\n",
       "      <th>valid_loss</th>\n",
       "      <th>time</th>\n",
       "    </tr>\n",
       "  </thead>\n",
       "  <tbody>\n",
       "    <tr>\n",
       "      <td>0</td>\n",
       "      <td>1.202369</td>\n",
       "      <td>0.210770</td>\n",
       "      <td>00:01</td>\n",
       "    </tr>\n",
       "  </tbody>\n",
       "</table>"
      ],
      "text/plain": [
       "<IPython.core.display.HTML object>"
      ]
     },
     "metadata": {},
     "output_type": "display_data"
    }
   ],
   "source": [
    "model = SeperateRNN([[0],[1],[0,1]],1,1,stateful=False,rnn_type='lstm')\n",
    "lrn = Learner(db,model,loss_func=nn.MSELoss()).fit(1)"
   ]
  },
  {
   "attachments": {},
   "cell_type": "markdown",
   "metadata": {},
   "source": [
    "## CNNs"
   ]
  },
  {
   "cell_type": "code",
   "execution_count": null,
   "metadata": {},
   "outputs": [],
   "source": [
    "#| export\n",
    "class CausalConv1d(torch.nn.Conv1d):\n",
    "    def __init__(self,\n",
    "                 in_channels,\n",
    "                 out_channels,\n",
    "                 kernel_size,\n",
    "                 stride=1,\n",
    "                 dilation=1,\n",
    "                 groups=1,\n",
    "                 bias=True,\n",
    "                stateful=False):\n",
    "\n",
    "        super().__init__(\n",
    "            in_channels,\n",
    "            out_channels,\n",
    "            kernel_size=kernel_size,\n",
    "            stride=stride,\n",
    "            padding=0,\n",
    "            dilation=dilation,\n",
    "            groups=groups,\n",
    "            bias=bias)\n",
    "        self.__init_size = (kernel_size - 1) * dilation\n",
    "        self.x_init = None\n",
    "        self.stateful = stateful\n",
    "        \n",
    "    def forward(self, x):\n",
    "        if self.x_init is not None and self.x_init.shape[0] != x.shape[0]: \n",
    "            self.x_init = None\n",
    "        \n",
    "        if self.x_init is None or not self.stateful:\n",
    "            self.x_init = torch.zeros((x.shape[0],x.shape[1],self.__init_size),device=x.device)\n",
    "            \n",
    "        x = torch.cat([self.x_init,x],dim=-1)\n",
    "        \n",
    "        out = super().forward(x)\n",
    "    \n",
    "        if self.stateful: self.x_init =to_detach( x[...,-self.__init_size:], cpu=False, gather=False) \n",
    "            \n",
    "        return out\n",
    "    \n",
    "    def reset_state(self):\n",
    "        self.x_init = None"
   ]
  },
  {
   "cell_type": "code",
   "execution_count": null,
   "metadata": {},
   "outputs": [],
   "source": [
    "#| export\n",
    "@delegates(CausalConv1d, keep=True)\n",
    "def CConv1D(input_size,output_size,kernel_size=2,activation = Mish,wn=True, bn = False, **kwargs):\n",
    "    conv = CausalConv1d(input_size,output_size,kernel_size,**kwargs)\n",
    "    if wn: conv = weight_norm(conv)\n",
    "    act = activation() if activation is not None else None\n",
    "    bn = nn.BatchNorm1d(input_size) if bn else None\n",
    "    m = [m for m in [bn,conv,act] if m is not None]\n",
    "    return nn.Sequential(*m)"
   ]
  },
  {
   "cell_type": "code",
   "execution_count": null,
   "metadata": {},
   "outputs": [],
   "source": [
    "#| export\n",
    "@delegates(CausalConv1d, keep=True)\n",
    "class TCN_Block(nn.Module):\n",
    "    def __init__(self,input_size,output_size,num_layers=1,\n",
    "                 activation = Mish,wn=True, bn = False,stateful=False, **kwargs):\n",
    "        super().__init__()\n",
    "        \n",
    "        layers=[]\n",
    "        for _ in range(num_layers):\n",
    "            conv = CausalConv1d(input_size,output_size,2,stateful=stateful,**kwargs)\n",
    "            if wn: conv = weight_norm(conv)\n",
    "            act = activation() if activation is not None else None\n",
    "            bn = nn.BatchNorm1d(input_size) if bn else None\n",
    "            layers += [m for m in [bn,conv,act] if m is not None]\n",
    "            \n",
    "        self.layers = nn.Sequential(*layers)\n",
    "        \n",
    "        self.residual = nn.Conv1d(input_size,output_size,kernel_size=1) if output_size!=input_size else None\n",
    "        \n",
    "    def forward(self, x):      \n",
    "        out = self.layers(x)\n",
    "        out = out + (x if self.residual is None else self.residual(x))  \n",
    "        return out"
   ]
  },
  {
   "cell_type": "code",
   "execution_count": null,
   "metadata": {},
   "outputs": [],
   "source": [
    "#| export\n",
    "class TCN(nn.Module):\n",
    "    def __init__(self,input_size,output_size,hl_depth=1,hl_width=10,act = Mish,bn=False,stateful=False):\n",
    "        super().__init__()\n",
    "        \n",
    "        conv_layers = [TCN_Block(input_size if i==0 else hl_width,hl_width,\n",
    "                                      dilation=2**(i),bn=bn,activation=act,stateful=stateful)\n",
    "                                          for i in range(hl_depth)]\n",
    "        self.conv_layers = nn.Sequential(*conv_layers)\n",
    "        self.final = nn.Conv1d(hl_width,output_size,kernel_size=1)\n",
    "        \n",
    "    def forward(self, x):      \n",
    "        x_in = x.transpose(1,2)\n",
    "        out = self.conv_layers(x_in)\n",
    "        out = self.final(out).transpose(1,2)\n",
    "        return out"
   ]
  },
  {
   "cell_type": "code",
   "execution_count": null,
   "metadata": {},
   "outputs": [
    {
     "data": {
      "text/html": [
       "<table border=\"1\" class=\"dataframe\">\n",
       "  <thead>\n",
       "    <tr style=\"text-align: left;\">\n",
       "      <th>epoch</th>\n",
       "      <th>train_loss</th>\n",
       "      <th>valid_loss</th>\n",
       "      <th>time</th>\n",
       "    </tr>\n",
       "  </thead>\n",
       "  <tbody>\n",
       "    <tr>\n",
       "      <td>0</td>\n",
       "      <td>6.132711</td>\n",
       "      <td>1.952240</td>\n",
       "      <td>00:01</td>\n",
       "    </tr>\n",
       "  </tbody>\n",
       "</table>"
      ],
      "text/plain": [
       "<IPython.core.display.HTML object>"
      ]
     },
     "metadata": {},
     "output_type": "display_data"
    }
   ],
   "source": [
    "model = TCN(2,1,hl_depth=3)\n",
    "lrn = Learner(db,model,loss_func=nn.MSELoss()).fit(1)"
   ]
  },
  {
   "cell_type": "code",
   "execution_count": null,
   "metadata": {},
   "outputs": [],
   "source": [
    "#| export\n",
    "class SeperateTCN(nn.Module):\n",
    "    def __init__(self,input_list,output_size,hl_depth=1,hl_width=10,act = Mish,bn=False,stateful=False,final_layer=3):\n",
    "        super().__init__()\n",
    "        self.input_list =np.cumsum([0] + input_list)\n",
    "        \n",
    "        tcn_width = hl_width//len(input_list)\n",
    "        layers = [ [TCN_Block(n if i==0 else tcn_width,tcn_width,\n",
    "                                      dilation=2**(i),bn=bn,activation=act)\n",
    "                                          for i in range(hl_depth)]\n",
    "                        for n in input_list]\n",
    "        self.layers = nn.ModuleList([nn.Sequential(*l) for l in layers])\n",
    "        \n",
    "        self.rec_field = (2**hl_depth)-1\n",
    "        self.final = SeqLinear(tcn_width*len(input_list),output_size,hidden_size=hl_width,hidden_layer=final_layer)\n",
    "        self.x_init = None\n",
    "        self.stateful = stateful\n",
    "        \n",
    "    def forward(self, x):      \n",
    "        if self.x_init is not None:\n",
    "            if self.x_init.shape[0] != x.shape[0]: \n",
    "                self.x_init = None\n",
    "            elif self.stateful: \n",
    "                x = torch.cat([self.x_init,x],dim=1)\n",
    "        \n",
    "        tcn_out = [layer(x[...,self.input_list[i]:self.input_list[i+1]].transpose(1,2)) \n",
    "                   for i,layer in enumerate(self.layers)]\n",
    "        out = torch.cat(tcn_out,dim=1).transpose(1,2)\n",
    "        \n",
    "        out = self.final(out)\n",
    "        \n",
    "        if self.stateful:\n",
    "            if self.x_init is not None: out = out[:,self.rec_field:]\n",
    "            self.x_init = x[:,-self.rec_field:]\n",
    "            \n",
    "        return out\n",
    "    \n",
    "    def reset_state(self):\n",
    "        self.x_init = None"
   ]
  },
  {
   "attachments": {},
   "cell_type": "markdown",
   "metadata": {},
   "source": [
    "## CRNNs"
   ]
  },
  {
   "cell_type": "code",
   "execution_count": null,
   "metadata": {},
   "outputs": [],
   "source": [
    "#| export\n",
    "class CRNN(nn.Module):\n",
    "    def __init__(self,input_size,output_size,num_ft=10,num_cnn_layers=4,num_rnn_layers=2,hs_cnn=10,hs_rnn=10,\n",
    "         hidden_p=0, input_p=0, weight_p=0, rnn_type='gru',stateful=False):\n",
    "        super().__init__()\n",
    "        self.cnn = TCN(input_size,num_ft,num_cnn_layers,hs_cnn,act=nn.ReLU,stateful=stateful)\n",
    "        self.rnn = SimpleRNN(num_ft,output_size,num_layers=num_rnn_layers,hidden_size=hs_rnn,\n",
    "                       hidden_p=hidden_p, input_p=input_p, weight_p=weight_p, \n",
    "                        rnn_type=rnn_type,stateful=stateful)\n",
    "        \n",
    "    def forward(self, x):\n",
    "        return self.rnn(self.cnn(x))\n",
    "    "
   ]
  },
  {
   "cell_type": "code",
   "execution_count": null,
   "metadata": {},
   "outputs": [
    {
     "data": {
      "text/html": [
       "<table border=\"1\" class=\"dataframe\">\n",
       "  <thead>\n",
       "    <tr style=\"text-align: left;\">\n",
       "      <th>epoch</th>\n",
       "      <th>train_loss</th>\n",
       "      <th>valid_loss</th>\n",
       "      <th>time</th>\n",
       "    </tr>\n",
       "  </thead>\n",
       "  <tbody>\n",
       "    <tr>\n",
       "      <td>0</td>\n",
       "      <td>6.566520</td>\n",
       "      <td>3.546462</td>\n",
       "      <td>00:01</td>\n",
       "    </tr>\n",
       "  </tbody>\n",
       "</table>"
      ],
      "text/plain": [
       "<IPython.core.display.HTML object>"
      ]
     },
     "metadata": {},
     "output_type": "display_data"
    }
   ],
   "source": [
    "model = CRNN(2,1,10)\n",
    "lrn = Learner(db,model,loss_func=nn.MSELoss()).fit(1)"
   ]
  },
  {
   "cell_type": "code",
   "execution_count": null,
   "metadata": {},
   "outputs": [
    {
     "data": {
      "text/html": [
       "<table border=\"1\" class=\"dataframe\">\n",
       "  <thead>\n",
       "    <tr style=\"text-align: left;\">\n",
       "      <th>epoch</th>\n",
       "      <th>train_loss</th>\n",
       "      <th>valid_loss</th>\n",
       "      <th>time</th>\n",
       "    </tr>\n",
       "  </thead>\n",
       "  <tbody>\n",
       "    <tr>\n",
       "      <td>0</td>\n",
       "      <td>6.051477</td>\n",
       "      <td>3.024387</td>\n",
       "      <td>00:01</td>\n",
       "    </tr>\n",
       "  </tbody>\n",
       "</table>"
      ],
      "text/plain": [
       "<IPython.core.display.HTML object>"
      ]
     },
     "metadata": {},
     "output_type": "display_data"
    }
   ],
   "source": [
    "model = CRNN(2,1,10,rnn_type='gru')\n",
    "lrn = Learner(db,model,loss_func=nn.MSELoss()).fit(1)"
   ]
  },
  {
   "cell_type": "code",
   "execution_count": null,
   "metadata": {},
   "outputs": [],
   "source": [
    "#| export\n",
    "class SeperateCRNN(nn.Module):\n",
    "    def __init__(self,input_list,output_size,num_ft=10,num_cnn_layers=4,num_rnn_layers=2,hs_cnn=10,hs_rnn=10,\n",
    "         hidden_p=0, input_p=0, weight_p=0, rnn_type='gru',stateful=False):\n",
    "        super().__init__()\n",
    "        self.cnn = SeperateTCN(input_list,num_ft,num_cnn_layers,hs_cnn,act=nn.ReLU,stateful=stateful,final_layer=0)\n",
    "        self.rnn = SimpleRNN(num_ft,output_size,num_layers=num_rnn_layers,hidden_size=hs_rnn,\n",
    "                       hidden_p=hidden_p, input_p=input_p, weight_p=weight_p, \n",
    "                        rnn_type=rnn_type,stateful=stateful)\n",
    "        \n",
    "    def forward(self, x):\n",
    "        return self.rnn(self.cnn(x))"
   ]
  },
  {
   "attachments": {},
   "cell_type": "markdown",
   "metadata": {},
   "source": [
    "## Autoregressive Models"
   ]
  },
  {
   "cell_type": "code",
   "execution_count": null,
   "metadata": {},
   "outputs": [],
   "source": [
    "#| export\n",
    "class Normalizer1D(nn.Module):\n",
    "    _epsilon = 1e-16\n",
    "\n",
    "    def __init__(self, mean, std):\n",
    "        super(Normalizer1D, self).__init__()\n",
    "        self.register_buffer('std', std.clone().detach() + self._epsilon)\n",
    "        self.register_buffer('mean', mean.clone().detach())\n",
    "\n",
    "    def normalize(self, x):\n",
    "        if x.device != self.mean.device:\n",
    "            self.mean = self.mean.to(x.device)\n",
    "            self.std = self.std.to(x.device)\n",
    "        return (x-self.mean)/self.std\n",
    "\n",
    "    def unnormalize(self, x):\n",
    "        if x.device != self.mean.device:\n",
    "            self.mean = self.mean.to(x.device)\n",
    "            self.std = self.std.to(x.device)\n",
    "        return x*self.std + self.mean"
   ]
  },
  {
   "cell_type": "code",
   "execution_count": null,
   "metadata": {},
   "outputs": [],
   "source": [
    "#| export\n",
    "class AR_Model(nn.Module):\n",
    "    '''\n",
    "    Autoregressive model container which work autoregressively if the sequence y is not provided, otherwise it works as a normal model.\n",
    "    This way it can be trained either with teacher forcing or with autoregression \n",
    "    '''\n",
    "    def __init__(self,model,ar=True,stateful=False,model_has_state=False,return_state=False,out_sz=None):\n",
    "        super().__init__()\n",
    "        store_attr()\n",
    "        if return_state and not model_has_state: raise ValueError('return_state=True requires model_has_state=True')\n",
    "        self.norm = None\n",
    "        self.y_init = None\n",
    "    \n",
    "    def init_normalize(self, batch,axes = [0,1]):\n",
    "        x = batch[1]\n",
    "        mean = x.mean(axes, keepdim=True)\n",
    "        std = x.std(axes, keepdim=True)\n",
    "        self.init_normalize_values(mean,std)\n",
    "        \n",
    "    def init_normalize_values(self, mean, std):\n",
    "        self.norm = Normalizer1D(mean,std)\n",
    "        \n",
    "    def forward(self, u,y=None,h_init=None,ar=None):\n",
    "        if ar is None: ar = self.ar\n",
    "\n",
    "        if ar: #autoregressive mode\n",
    "            y_e = []\n",
    "            \n",
    "            y_next = self.y_init if self.y_init is not None else torch.zeros(u.shape[0],1,self.out_sz).to(u.device)\n",
    "\n",
    "            #two loops in the if clause to avoid the if inside the loop\n",
    "            if self.model_has_state:\n",
    "                h0 = h_init\n",
    "                for u_in in u.split(1,dim=1):\n",
    "                    x = torch.cat((u_in, y_next), dim=2)\n",
    "                    y_next,h0 = self.model(x,h0)\n",
    "                    y_e.append(y_next)\n",
    "            else:\n",
    "                for u_in in u.split(1,dim=1):\n",
    "                    x = torch.cat((u_in, y_next), dim=2)\n",
    "                    y_next = self.model(x)\n",
    "                    y_e.append(y_next)\n",
    "                    \n",
    "            y_e = torch.cat(y_e,dim=1)\n",
    "            \n",
    "        else: #teacherforcing mode\n",
    "            if y is None: raise ValueError('y must be provided in teacher forcing mode')\n",
    "\n",
    "            x = torch.cat([u,y],dim=2)\n",
    "\n",
    "            if self.model_has_state:\n",
    "                y_e,h0 = self.model(x,h_init)\n",
    "            else:\n",
    "                y_e = self.model(x)\n",
    "                \n",
    "        if self.stateful:\n",
    "            self.y_init = to_detach(y_e[:,-1:], cpu=False, gather=False) \n",
    "\n",
    "        if self.norm is not None: y_e = self.norm.unnormalize(y_e)\n",
    "        return y_e if not self.return_state else (y_e,h0)\n",
    "    \n",
    "    def reset_state(self):\n",
    "        self.y_init = None"
   ]
  },
  {
   "cell_type": "code",
   "execution_count": null,
   "metadata": {},
   "outputs": [
    {
     "data": {
      "text/html": [
       "<table border=\"1\" class=\"dataframe\">\n",
       "  <thead>\n",
       "    <tr style=\"text-align: left;\">\n",
       "      <th>epoch</th>\n",
       "      <th>train_loss</th>\n",
       "      <th>valid_loss</th>\n",
       "      <th>time</th>\n",
       "    </tr>\n",
       "  </thead>\n",
       "  <tbody>\n",
       "    <tr>\n",
       "      <td>0</td>\n",
       "      <td>0.023746</td>\n",
       "      <td>0.003404</td>\n",
       "      <td>00:05</td>\n",
       "    </tr>\n",
       "  </tbody>\n",
       "</table>"
      ],
      "text/plain": [
       "<IPython.core.display.HTML object>"
      ]
     },
     "metadata": {},
     "output_type": "display_data"
    }
   ],
   "source": [
    "model = AR_Model(SimpleRNN(3,1,return_state=True),model_has_state=True,ar=True,out_sz=1)\n",
    "model.init_normalize(db.one_batch())\n",
    "lrn = Learner(db,model,loss_func=nn.MSELoss()).fit(1)"
   ]
  },
  {
   "cell_type": "code",
   "execution_count": null,
   "metadata": {},
   "outputs": [],
   "source": [
    "# model = AR_Model(SimpleRNN(3,1,stateful=True),ar=True,out_sz=1,stateful=True)\n",
    "# model.init_normalize(db.one_batch())\n",
    "# lrn = Learner(db,model,loss_func=nn.MSELoss())#.fit(1)\n",
    "# from seqdata.dataloaders import *\n",
    "# lrn.add_cb(TbpttResetCB())\n",
    "# from fastai.callback.schedule import *\n",
    "# lrn.fit_flat_cos(40,3e-3,pct_start=0.2)"
   ]
  },
  {
   "cell_type": "code",
   "execution_count": null,
   "metadata": {},
   "outputs": [],
   "source": [
    "#| include: false\n",
    "import nbdev; nbdev.nbdev_export()"
   ]
  },
  {
   "cell_type": "code",
   "execution_count": null,
   "metadata": {},
   "outputs": [],
   "source": []
  }
 ],
 "metadata": {
  "kernelspec": {
   "display_name": "python3",
   "language": "python",
   "name": "python3"
  }
 },
 "nbformat": 4,
 "nbformat_minor": 4
}
