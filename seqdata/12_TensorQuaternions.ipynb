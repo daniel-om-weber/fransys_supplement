{
 "cells": [
  {
   "cell_type": "raw",
   "metadata": {},
   "source": [
    "---\n",
    "description: Pytorch Models for Sequential Data\n",
    "output-file: tensorquaternions.html\n",
    "title: Tensor Quaternion Module\n",
    "\n",
    "---\n",
    "\n"
   ]
  },
  {
   "cell_type": "code",
   "execution_count": null,
   "metadata": {},
   "outputs": [],
   "source": [
    "#| default_exp quaternions\n",
    "#| default_cls_lvl 3"
   ]
  },
  {
   "cell_type": "code",
   "execution_count": null,
   "metadata": {},
   "outputs": [],
   "source": [
    "#| include: false\n",
    "# %load_ext line_profiler\n",
    "%matplotlib widget"
   ]
  },
  {
   "cell_type": "code",
   "execution_count": null,
   "metadata": {},
   "outputs": [],
   "source": [
    "#| export\n",
    "from seqdata.core import *\n",
    "from seqdata.models.core import *\n",
    "from seqdata.learner import *\n",
    "from fastai.basics import *\n",
    "from fastai.callback.progress import *\n",
    "from fastai.callback.schedule import *"
   ]
  },
  {
   "cell_type": "markdown",
   "metadata": {},
   "source": [
    "## Quaternion Type"
   ]
  },
  {
   "cell_type": "code",
   "execution_count": null,
   "metadata": {},
   "outputs": [],
   "source": [
    "#| export\n",
    "class TensorQuaternionInclination(TensorSequences): pass\n",
    "class TensorQuaternionAngle(TensorSequences): pass"
   ]
  },
  {
   "cell_type": "code",
   "execution_count": null,
   "metadata": {},
   "outputs": [],
   "source": [
    "f_paths = Path.cwd() / 'test_data/orientation'\n",
    "\n",
    "hdf_files = get_hdf_files(f_paths,recurse=False)\n",
    "tfm_src = CreateDict([DfHDFCreateWindows(win_sz=1000,stp_sz=100,clm='acc_x')])\n",
    "u = ['acc_x','acc_y','acc_z','gyr_x','gyr_y','gyr_z']\n",
    "# u = ['acc_x','acc_y','acc_z','gyr_x','gyr_y','gyr_z','mag_x','mag_y','mag_z']\n",
    "y =['opt_a','opt_b','opt_c','opt_d']\n",
    "dls = DataBlock(blocks=(SequenceBlock.from_hdf(u,TensorSequencesInput),\n",
    "                        SequenceBlock.from_hdf(y,TensorQuaternionInclination)),\n",
    "                get_items=tfm_src,\n",
    "                splitter=RandomSplitter(0.1)\n",
    "               ).dataloaders(hdf_files,shufflish=True,bs=128)"
   ]
  },
  {
   "cell_type": "markdown",
   "metadata": {},
   "source": [
    "## Basic Operations"
   ]
  },
  {
   "cell_type": "code",
   "execution_count": null,
   "metadata": {},
   "outputs": [],
   "source": [
    "tq1 = tensor([\n",
    "    [1,0,0,0],\n",
    "    [0.5,0.5,0.5,0.5],\n",
    "    ])\n",
    "tq2 = tensor([\n",
    "    [0.5,0.5,0.5,0.5],\n",
    "    [0.5,0.5,0.5,0.5],\n",
    "    ])\n",
    "tq1.shape"
   ]
  },
  {
   "cell_type": "code",
   "execution_count": null,
   "metadata": {},
   "outputs": [],
   "source": [
    "#| export\n",
    "_pi = torch.Tensor([3.14159265358979323846])\n",
    "def rad2deg(t):\n",
    "    return 180. * t / _pi.to(t.device).type(t.dtype)"
   ]
  },
  {
   "cell_type": "code",
   "execution_count": null,
   "metadata": {},
   "outputs": [],
   "source": [
    "test_eq(float(rad2deg(_pi)),180)"
   ]
  },
  {
   "cell_type": "code",
   "execution_count": null,
   "metadata": {},
   "outputs": [],
   "source": [
    "#| export\n",
    "@torch.jit.script\n",
    "def multiplyQuat(q1, q2):\n",
    "    \"\"\"quat1*quat2\"\"\"\n",
    "    o1 = q1[..., 0] * q2[..., 0] - q1[..., 1] * q2[..., 1] - q1[..., 2] * q2[..., 2] - q1[..., 3] * q2[..., 3]\n",
    "    o2 = q1[..., 0] * q2[..., 1] + q1[..., 1] * q2[..., 0] + q1[..., 2] * q2[..., 3] - q1[..., 3] * q2[..., 2]\n",
    "    o3 = q1[..., 0] * q2[..., 2] - q1[..., 1] * q2[..., 3] + q1[..., 2] * q2[..., 0] + q1[..., 3] * q2[..., 1]\n",
    "    o4 = q1[..., 0] * q2[..., 3] + q1[..., 1] * q2[..., 2] - q1[..., 2] * q2[..., 1] + q1[..., 3] * q2[..., 0]\n",
    "    return torch.stack([o1,o2,o3,o4],dim=-1)"
   ]
  },
  {
   "cell_type": "code",
   "execution_count": null,
   "metadata": {},
   "outputs": [],
   "source": [
    "# q = tq1.repeat(1000,1)"
   ]
  },
  {
   "cell_type": "code",
   "execution_count": null,
   "metadata": {},
   "outputs": [],
   "source": [
    "# %%timeit\n",
    "# torch.cumprod(q,dim=-1)"
   ]
  },
  {
   "cell_type": "code",
   "execution_count": null,
   "metadata": {},
   "outputs": [],
   "source": [
    "# %%timeit\n",
    "# [q*q for _ in range(1000)]"
   ]
  },
  {
   "cell_type": "code",
   "execution_count": null,
   "metadata": {},
   "outputs": [],
   "source": [
    "test_eq(multiplyQuat(tq1,tq2),tensor([[ 0.5000,  0.5000,  0.5000,  0.5000],\n",
    "                                    [-0.5000,  0.5000,  0.5000,  0.5000]]))"
   ]
  },
  {
   "cell_type": "code",
   "execution_count": null,
   "metadata": {},
   "outputs": [],
   "source": [
    "#| export\n",
    "def norm_quaternion(q):\n",
    "    return q / q.norm( p=2,dim=-1)[...,None]"
   ]
  },
  {
   "cell_type": "code",
   "execution_count": null,
   "metadata": {},
   "outputs": [],
   "source": [
    "test_eq(norm_quaternion(tq1*5),tq1)\n",
    "test_eq(norm_quaternion(tq1/_pi),tq1)\n",
    "test_eq(norm_quaternion(tq1[None,...]),tq1[None,...])"
   ]
  },
  {
   "cell_type": "code",
   "execution_count": null,
   "metadata": {},
   "outputs": [],
   "source": [
    "#| export\n",
    "_conjugate_quaternion = tensor([1,-1,-1,-1])\n",
    "\n",
    "def conjQuat(q):\n",
    "    return q*_conjugate_quaternion.to(q.device).type(q.dtype)"
   ]
  },
  {
   "cell_type": "code",
   "execution_count": null,
   "metadata": {},
   "outputs": [],
   "source": [
    "test_eq(conjQuat(tq1),tensor([[ 1.0000, -0.0000, -0.0000, -0.0000],\n",
    "                             [ 0.5000, -0.5000, -0.5000, -0.5000]]))"
   ]
  },
  {
   "cell_type": "code",
   "execution_count": null,
   "metadata": {},
   "outputs": [],
   "source": [
    "#| export\n",
    "def diffQuat(q1,q2,norm=True):\n",
    "    if norm:\n",
    "        nq1 = norm_quaternion(q1)\n",
    "        nq2 = norm_quaternion(q2)\n",
    "    else:\n",
    "        nq1 = q1\n",
    "        nq2 = q2\n",
    "        \n",
    "        \n",
    "    return relativeQuat(nq1,nq2) #somehow relativeQuat does not work for backpropagation\n",
    "#     return multiplyQuat(nq1, conjQuat(nq2))\n",
    "\n",
    "\n",
    "@torch.jit.script\n",
    "def relativeQuat(q1, q2):\n",
    "    \"\"\"quat1*inv(quat2)\"\"\"\n",
    "    \n",
    "    o1 =  q1[..., 0] * q2[..., 0] + q1[..., 1] * q2[..., 1] + q1[..., 2] * q2[..., 2] + q1[..., 3] * q2[..., 3]\n",
    "    o2 = -q1[..., 0] * q2[..., 1] + q1[..., 1] * q2[..., 0] - q1[..., 2] * q2[..., 3] + q1[..., 3] * q2[..., 2]\n",
    "    o3 = -q1[..., 0] * q2[..., 2] + q1[..., 1] * q2[..., 3] + q1[..., 2] * q2[..., 0] - q1[..., 3] * q2[..., 1]\n",
    "    o4 = -q1[..., 0] * q2[..., 3] - q1[..., 1] * q2[..., 2] + q1[..., 2] * q2[..., 1] + q1[..., 3] * q2[..., 0]\n",
    "    \n",
    "    return torch.stack([o1,o2,o3,o4],dim=-1)"
   ]
  },
  {
   "cell_type": "code",
   "execution_count": null,
   "metadata": {},
   "outputs": [],
   "source": [
    "test_eq(diffQuat(tq1,tq2),diffQuat(tq1,tq2*5))\n",
    "test_ne(diffQuat(tq1,tq2),diffQuat(tq1,tq2*5,norm=False))\n",
    "test_ne(diffQuat(tq1,tq2),diffQuat(tq1[None,...],tq2[None,...]))"
   ]
  },
  {
   "cell_type": "code",
   "execution_count": null,
   "metadata": {},
   "outputs": [],
   "source": [
    "#| export\n",
    "def safe_acos(t,eps = 4e-8):\n",
    "    '''numericaly stable variant of arcuscosine'''\n",
    "#     eps = 4e-8 #minimum value for acos(1) != 0\n",
    "    return t.clamp(-1.0 + eps, 1.0 - eps).acos()"
   ]
  },
  {
   "cell_type": "code",
   "execution_count": null,
   "metadata": {},
   "outputs": [],
   "source": [
    "test_ne(safe_acos(tensor(1.))*1e6,0)\n",
    "test_eq(safe_acos(tensor(-0.)),_pi/2)"
   ]
  },
  {
   "cell_type": "code",
   "execution_count": null,
   "metadata": {},
   "outputs": [],
   "source": [
    "#| export\n",
    "def safe_acos_double(t,eps = 1e-16):\n",
    "    '''numericaly stable variant of arcuscosine, uses 64bit floats for internal computation for increased accuracy and gradient propagation'''\n",
    "    return t.type(torch.float64).clamp(-1.0 + eps, 1.0 - eps).acos().type(t.dtype)"
   ]
  },
  {
   "cell_type": "code",
   "execution_count": null,
   "metadata": {},
   "outputs": [],
   "source": [
    "test_ne(safe_acos_double(tensor(1.))*1e6,0)\n",
    "test_eq(safe_acos_double(tensor(-0.)),_pi/2)"
   ]
  },
  {
   "cell_type": "code",
   "execution_count": null,
   "metadata": {},
   "outputs": [],
   "source": [
    "#| export\n",
    "def inclinationAngle(q1,q2):\n",
    "    \n",
    "    q = diffQuat(q1,q2)\n",
    "    return 2*safe_acos_double((q[..., 3]**2 + q[..., 0]**2).sqrt())\n",
    "\n",
    "def relativeAngle(q1,q2):\n",
    "    q = diffQuat(q1,q2)\n",
    "    return 2*safe_acos_double((q[..., 0]).abs())"
   ]
  },
  {
   "cell_type": "code",
   "execution_count": null,
   "metadata": {},
   "outputs": [],
   "source": [
    "print('inclination:', rad2deg(inclinationAngle(tq1,tq2)))\n",
    "print('relative:', rad2deg(relativeAngle(tq1,tq2)))"
   ]
  },
  {
   "cell_type": "code",
   "execution_count": null,
   "metadata": {},
   "outputs": [],
   "source": [
    "#| export\n",
    "def rollAngle(q1,q2):\n",
    "    q = diffQuat(q1,q2)\n",
    "    w,x,y,z= q[...,0],q[...,1],q[...,2],q[...,3]\n",
    "    t0 = +2.0 * (w * x + y * z)\n",
    "    t1 = +1.0 - 2.0 * (x * x + y * y)\n",
    "    return torch.atan2(t0, t1)\n",
    "\n",
    "def pitchAngle(q1,q2):\n",
    "    q = diffQuat(q1,q2)\n",
    "    w,x,y,z= q[...,0],q[...,1],q[...,2],q[...,3]\n",
    "    t2 = +2.0 * (w * y - z * x)\n",
    "    t2 = t2.clamp(-1.0, 1.0 )\n",
    "    return torch.asin(t2)"
   ]
  },
  {
   "cell_type": "code",
   "execution_count": null,
   "metadata": {},
   "outputs": [],
   "source": [
    "print('roll:', rad2deg(rollAngle(tq1,tq2)))\n",
    "print('pitch:', rad2deg(pitchAngle(tq1,tq2)))"
   ]
  },
  {
   "cell_type": "code",
   "execution_count": null,
   "metadata": {},
   "outputs": [],
   "source": [
    "#| export\n",
    "_unit_quaternion = tensor([1.,0,0,0])\n",
    "def inclinationAngleAbs(q):\n",
    "    q = diffQuat(q,_unit_quaternion[None,:])\n",
    "    return 2*((q[..., 3]**2 + q[..., 0]**2).sqrt()).acos()"
   ]
  },
  {
   "cell_type": "code",
   "execution_count": null,
   "metadata": {},
   "outputs": [],
   "source": [
    "rad2deg(inclinationAngleAbs(tq1))"
   ]
  },
  {
   "cell_type": "code",
   "execution_count": null,
   "metadata": {},
   "outputs": [],
   "source": [
    "#| export\n",
    "def rand_quat():\n",
    "    q = torch.rand((4))*2-1\n",
    "    q /= q.norm()\n",
    "    return q"
   ]
  },
  {
   "cell_type": "code",
   "execution_count": null,
   "metadata": {},
   "outputs": [],
   "source": [
    "#| export\n",
    "def rot_vec(v,q):\n",
    "    v = F.pad(v, (1,0), \"constant\", 0)\n",
    "    return multiplyQuat(conjQuat(q),multiplyQuat(v,q))[...,1:]\n",
    "#     return multiplyQuat(q,multiplyQuat(v,conjQuat(q)))[...,1:]"
   ]
  },
  {
   "cell_type": "code",
   "execution_count": null,
   "metadata": {},
   "outputs": [],
   "source": [
    "g = tensor([[9.81,0,0]]*5)"
   ]
  },
  {
   "cell_type": "code",
   "execution_count": null,
   "metadata": {},
   "outputs": [],
   "source": [
    "r_quat = rand_quat()\n",
    "rot_vec(g,r_quat)"
   ]
  },
  {
   "cell_type": "code",
   "execution_count": null,
   "metadata": {},
   "outputs": [],
   "source": [
    "#| export\n",
    "def quatFromAngleAxis(angle, axis):\n",
    "    if len(axis.shape) == 2:\n",
    "        N = max(angle.shape[0], axis.shape[0])\n",
    "        assert angle.shape in ((1,), (N,))\n",
    "        assert axis.shape == (N, 3) or axis.shape == (1, 3)\n",
    "    else:\n",
    "        N = angle.shape[0]\n",
    "        assert angle.shape == (N,)\n",
    "        assert axis.shape == (3,)\n",
    "        axis = axis[None, :]\n",
    "\n",
    "    axis = axis/torch.norm(axis, dim=1)[:, None]\n",
    "    quat = torch.cat([torch.cos(angle/2)[:,None],axis*torch.sin(angle/2)[:, None]],dim=-1)\n",
    "    return quat"
   ]
  },
  {
   "cell_type": "code",
   "execution_count": null,
   "metadata": {},
   "outputs": [],
   "source": [
    "#| export\n",
    "def quatInterp(quat, ind, extend=False):\n",
    "    \"\"\"\n",
    "    Interpolates an array of quaternions of (non-integer) indices using Slerp. Sampling indices are in the range\n",
    "    0..N-1, for values outside of this range, depending on \"extend\", the first/last element or NaN is returned.\n",
    "\n",
    "    See also csg_bigdata.dp.utils.vecInterp.\n",
    "\n",
    "    :param quat: array of input quaternions (N(xB)x4)\n",
    "    :param ind: vector containing the sampling indices, shape (M,)\n",
    "    :param extend: if true, the input data is virtually extended by the first/last value\n",
    "    :return: interpolated quaternions (Mx4)\n",
    "    \"\"\"\n",
    "    N = quat.shape[0]\n",
    "    M = ind.shape[0]\n",
    "    assert quat.shape[-1] == 4\n",
    "    assert ind.shape == (M,)\n",
    "\n",
    "    ind = ind.to(quat.device)\n",
    "    ind0 = torch.clamp(torch.floor(ind).type(torch.long), 0, N-1)\n",
    "    ind1 = torch.clamp(torch.ceil(ind).type(torch.long), 0, N-1)\n",
    "\n",
    "    q0 = quat[ind0].type(torch.float64)\n",
    "    q1 = quat[ind1].type(torch.float64)\n",
    "    q_1_0 = diffQuat(q0, q1)\n",
    "\n",
    "    # normalize the quaternion for positive w component to ensure\n",
    "    # that the angle will be [0, 180°]\n",
    "    invert_sign_ind = q_1_0[..., 0] < 0\n",
    "    q_1_0[invert_sign_ind] = -q_1_0[invert_sign_ind]\n",
    "\n",
    "#     angle = 2 * torch.acos(torch.clamp(q_1_0[:, 0], -1, 1))\n",
    "    angle = 2*safe_acos_double((q_1_0[..., 0]))#.type_as(quat)\n",
    "    axis = q_1_0[..., 1:]\n",
    "\n",
    "    # copy over (almost) direct hits\n",
    "#     with np.errstate(invalid='ignore'):\n",
    "    direct_ind = angle < 1e-06\n",
    "    quat_out = torch.empty_like(q0)\n",
    "    # print(quat_out.shape, direct_ind.shape, q0.shape)\n",
    "    quat_out[direct_ind] = q0[direct_ind]\n",
    "\n",
    "    interp_ind = ~direct_ind\n",
    "    t01 = ind - ind0\n",
    "    if len(quat.shape) == 3: t01 = t01[:,None] #extend shape if batches are part of the tensor\n",
    "    q_t_0 = quatFromAngleAxis((t01*angle)[interp_ind], axis[interp_ind])\n",
    "    quat_out[interp_ind] = multiplyQuat(q0[interp_ind], q_t_0)\n",
    "\n",
    "    if not extend:\n",
    "        quat_out[ind < 0] = np.nan\n",
    "        quat_out[ind > N - 1] = np.nan\n",
    "#     import pdb;pdb.set_trace()\n",
    "\n",
    "    \n",
    "    return quat_out.type_as(quat)"
   ]
  },
  {
   "cell_type": "code",
   "execution_count": null,
   "metadata": {},
   "outputs": [],
   "source": [
    "1e-3/_pi*180"
   ]
  },
  {
   "cell_type": "code",
   "execution_count": null,
   "metadata": {},
   "outputs": [],
   "source": [
    "q = torch.rand((1000000,1,4))*2-1\n",
    "q /= q.norm()\n",
    "x = torch.linspace(0,q.shape[0]-1,150001)\n",
    "q_i = quatInterp(q,x)\n",
    "torch.isnan(inclinationAngleAbs(q_i)).sum()"
   ]
  },
  {
   "cell_type": "code",
   "execution_count": null,
   "metadata": {},
   "outputs": [],
   "source": [
    "q_i = quatInterp(q,x)"
   ]
  },
  {
   "cell_type": "code",
   "execution_count": null,
   "metadata": {},
   "outputs": [],
   "source": [
    "plt.figure()\n",
    "plt.plot(inclinationAngleAbs(q))\n",
    "plt.plot(x,inclinationAngleAbs(q_i))"
   ]
  },
  {
   "cell_type": "markdown",
   "metadata": {},
   "source": [
    "## Loss Functions"
   ]
  },
  {
   "cell_type": "code",
   "execution_count": null,
   "metadata": {},
   "outputs": [],
   "source": [
    "#| export\n",
    "def inclination_loss(q1,q2):\n",
    "    q = diffQuat(q1,q2)\n",
    "    q_abs = (q[..., 3]**2 + q[..., 0]**2).sqrt()-1\n",
    "    return (q_abs**2).mean().sqrt()"
   ]
  },
  {
   "cell_type": "code",
   "execution_count": null,
   "metadata": {},
   "outputs": [],
   "source": [
    "inclination_loss(tq1,tq2)"
   ]
  },
  {
   "cell_type": "code",
   "execution_count": null,
   "metadata": {},
   "outputs": [],
   "source": [
    "#| export\n",
    "def inclination_loss_abs(q1,q2):\n",
    "    q = diffQuat(q1,q2)\n",
    "    q_abs = (q[..., 3]**2 + q[..., 0]**2).sqrt()-1\n",
    "    return q_abs.abs().mean()"
   ]
  },
  {
   "cell_type": "code",
   "execution_count": null,
   "metadata": {},
   "outputs": [],
   "source": [
    "inclination_loss_abs(tq1,tq2)"
   ]
  },
  {
   "cell_type": "code",
   "execution_count": null,
   "metadata": {},
   "outputs": [],
   "source": [
    "#| export\n",
    "def inclination_loss_squared(q1,q2):\n",
    "    q = diffQuat(q1,q2)\n",
    "    q_abs = (q[..., 3]**2 + q[..., 0]**2).sqrt()-1\n",
    "    return (q_abs**2).mean()"
   ]
  },
  {
   "cell_type": "code",
   "execution_count": null,
   "metadata": {},
   "outputs": [],
   "source": [
    "# %%timeit\n",
    "inclination_loss_squared(tq1,tq2)"
   ]
  },
  {
   "cell_type": "code",
   "execution_count": null,
   "metadata": {},
   "outputs": [],
   "source": [
    "#| export\n",
    "def inclination_loss_smooth(q1,q2):\n",
    "    q = diffQuat(q1,q2)\n",
    "    q_abs = (q[..., 3]**2 + q[..., 0]**2).sqrt()-1\n",
    "    return F.smooth_l1_loss(q_abs,torch.zeros_like(q_abs))"
   ]
  },
  {
   "cell_type": "code",
   "execution_count": null,
   "metadata": {},
   "outputs": [],
   "source": [
    "# %%timeit\n",
    "inclination_loss_smooth(tq1,tq2)"
   ]
  },
  {
   "cell_type": "code",
   "execution_count": null,
   "metadata": {},
   "outputs": [],
   "source": [
    "#| export\n",
    "def abs_inclination(q1,q2):\n",
    "    inclination = inclinationAngle(q1,q2)\n",
    "    return  inclination.abs().mean()"
   ]
  },
  {
   "cell_type": "code",
   "execution_count": null,
   "metadata": {},
   "outputs": [],
   "source": [
    "abs_inclination(tq1,tq2)"
   ]
  },
  {
   "cell_type": "code",
   "execution_count": null,
   "metadata": {},
   "outputs": [],
   "source": [
    "#| export\n",
    "def ms_inclination(q1,q2):\n",
    "    inclination = inclinationAngle(q1,q2)\n",
    "    return  (inclination**2).mean()"
   ]
  },
  {
   "cell_type": "code",
   "execution_count": null,
   "metadata": {},
   "outputs": [],
   "source": [
    "ms_inclination(tq1,tq2)"
   ]
  },
  {
   "cell_type": "code",
   "execution_count": null,
   "metadata": {},
   "outputs": [],
   "source": [
    "#| export\n",
    "def rms_inclination(q1,q2):\n",
    "    inclination = inclinationAngle(q1,q2)\n",
    "    return (inclination**2).mean().sqrt()"
   ]
  },
  {
   "cell_type": "code",
   "execution_count": null,
   "metadata": {},
   "outputs": [],
   "source": [
    "rms_inclination(tq1,tq2)"
   ]
  },
  {
   "cell_type": "code",
   "execution_count": null,
   "metadata": {},
   "outputs": [],
   "source": [
    "#| export\n",
    "def smooth_inclination(q1,q2):\n",
    "    inclination = inclinationAngle(q1,q2)\n",
    "    return F.smooth_l1_loss(inclination,torch.zeros_like(inclination))"
   ]
  },
  {
   "cell_type": "code",
   "execution_count": null,
   "metadata": {},
   "outputs": [],
   "source": [
    "smooth_inclination(tq1,tq2)"
   ]
  },
  {
   "cell_type": "code",
   "execution_count": null,
   "metadata": {},
   "outputs": [],
   "source": [
    "#| export\n",
    "def rms_inclination_deg(q1,q2):\n",
    "    inclination = inclinationAngle(q1,q2)\n",
    "    return  rad2deg((inclination**2).mean().sqrt())"
   ]
  },
  {
   "cell_type": "code",
   "execution_count": null,
   "metadata": {},
   "outputs": [],
   "source": [
    "rms_inclination_deg(tq1,tq2)"
   ]
  },
  {
   "cell_type": "code",
   "execution_count": null,
   "metadata": {},
   "outputs": [],
   "source": [
    "#| export\n",
    "def rms_pitch_deg(q1,q2):\n",
    "    inclination = pitchAngle(q1,q2)\n",
    "    return  rad2deg((inclination**2).mean().sqrt())"
   ]
  },
  {
   "cell_type": "code",
   "execution_count": null,
   "metadata": {},
   "outputs": [],
   "source": [
    "rms_pitch_deg(tq1,tq2)"
   ]
  },
  {
   "cell_type": "code",
   "execution_count": null,
   "metadata": {},
   "outputs": [],
   "source": [
    "#| export\n",
    "def rms_roll_deg(q1,q2):\n",
    "    inclination = rollAngle(q1,q2)\n",
    "    return  rad2deg((inclination**2).mean().sqrt())"
   ]
  },
  {
   "cell_type": "code",
   "execution_count": null,
   "metadata": {},
   "outputs": [],
   "source": [
    "rms_roll_deg(tq1,tq2)"
   ]
  },
  {
   "cell_type": "code",
   "execution_count": null,
   "metadata": {},
   "outputs": [],
   "source": [
    "#| export\n",
    "def mean_inclination_deg(q1,q2):\n",
    "    inclination = inclinationAngle(q1,q2)\n",
    "    return  rad2deg(inclination.mean())"
   ]
  },
  {
   "cell_type": "code",
   "execution_count": null,
   "metadata": {},
   "outputs": [],
   "source": [
    "mean_inclination_deg(tq1,tq2)"
   ]
  },
  {
   "cell_type": "code",
   "execution_count": null,
   "metadata": {},
   "outputs": [],
   "source": [
    "#| export\n",
    "def angle_loss(q1,q2):\n",
    "    q = diffQuat(q1,q2)\n",
    "    return (q[..., 0]-1).abs().mean()"
   ]
  },
  {
   "cell_type": "code",
   "execution_count": null,
   "metadata": {},
   "outputs": [],
   "source": [
    "#| export\n",
    "def angle_loss_opt(q1,q2):\n",
    "    q1 = norm_quaternion(q1)\n",
    "    q2 = norm_quaternion(q2)\n",
    "    \n",
    "    q2 = conjQuat(q2)\n",
    "    q = q1[..., 0] * q2[..., 0] - q1[..., 1] * q2[..., 1] - q1[..., 2] * q2[..., 2] - q1[..., 3] * q2[..., 3]\n",
    "    return (q-1).abs().mean()"
   ]
  },
  {
   "cell_type": "code",
   "execution_count": null,
   "metadata": {},
   "outputs": [],
   "source": [
    "#| export\n",
    "def ms_rel_angle(q1,q2):\n",
    "    rel_angle = relativeAngle(q1,q2)\n",
    "    return  (rel_angle**2).mean()"
   ]
  },
  {
   "cell_type": "code",
   "execution_count": null,
   "metadata": {},
   "outputs": [],
   "source": [
    "ms_rel_angle(tq1,tq2)"
   ]
  },
  {
   "cell_type": "code",
   "execution_count": null,
   "metadata": {},
   "outputs": [],
   "source": [
    "#| export\n",
    "def abs_rel_angle(q1,q2):\n",
    "    rel_angle = relativeAngle(q1,q2)\n",
    "    return  rel_angle.abs().mean()"
   ]
  },
  {
   "cell_type": "code",
   "execution_count": null,
   "metadata": {},
   "outputs": [],
   "source": [
    "#| export\n",
    "def rms_rel_angle_deg(q1,q2):\n",
    "    rel_angle = relativeAngle(q1,q2)\n",
    "    return  rad2deg((rel_angle**2).mean().sqrt())"
   ]
  },
  {
   "cell_type": "code",
   "execution_count": null,
   "metadata": {},
   "outputs": [],
   "source": [
    "rms_rel_angle_deg(tq1,tq2)"
   ]
  },
  {
   "cell_type": "code",
   "execution_count": null,
   "metadata": {},
   "outputs": [],
   "source": [
    "#| export\n",
    "def mean_rel_angle_deg(q1,q2):\n",
    "    rel_angle = relativeAngle(q1,q2)\n",
    "    return  rad2deg(rel_angle.mean())"
   ]
  },
  {
   "cell_type": "code",
   "execution_count": null,
   "metadata": {},
   "outputs": [],
   "source": [
    "mean_rel_angle_deg(tq1,tq2)"
   ]
  },
  {
   "cell_type": "code",
   "execution_count": null,
   "metadata": {},
   "outputs": [],
   "source": [
    "#| export\n",
    "def deg_rmse(inp, targ):\n",
    "    return rad2deg(fun_rmse(inp, targ))"
   ]
  },
  {
   "cell_type": "markdown",
   "metadata": {},
   "source": [
    "## Callbacks"
   ]
  },
  {
   "cell_type": "markdown",
   "metadata": {},
   "source": [
    "In order to assure that the output of the model are close to unit quaternions the distance will be added to the loss"
   ]
  },
  {
   "cell_type": "code",
   "execution_count": null,
   "metadata": {},
   "outputs": [],
   "source": [
    "#| export\n",
    "from fastai.callback.hook import *\n",
    "@delegates()\n",
    "class QuaternionRegularizer(HookCallback):\n",
    "    \"Callback that adds AR and TAR to the loss, calculated by output of provided layer\"\n",
    "    run_before=TrainEvalCallback\n",
    "    def __init__(self,reg_unit=0.0,detach=False, **kwargs):\n",
    "        super().__init__(detach=detach,**kwargs)\n",
    "        store_attr('reg_unit')\n",
    "        \n",
    "    def hook(self, m, i, o): \n",
    "        if type(o) is torch.Tensor:\n",
    "            self.out = o\n",
    "        else:\n",
    "            self.out = o[0]\n",
    "    \n",
    "    def after_loss(self):\n",
    "        if not self.training: return\n",
    "        h = self.out.float()\n",
    "        \n",
    "        if self.reg_unit != 0.:  \n",
    "            l_a = float(self.reg_unit) * ((1-h.norm(dim=-1))**2).mean()\n",
    "#             import pdb; pdb.set_trace()\n",
    "            self.learn.loss_grad += l_a "
   ]
  },
  {
   "cell_type": "code",
   "execution_count": null,
   "metadata": {},
   "outputs": [],
   "source": [
    "#| export\n",
    "def augmentation_groups(u_groups):\n",
    "    '''returns the rotation list corresponding to the input groups'''\n",
    "    u_groups = np.cumsum([0] + u_groups)\n",
    "    return [[u_groups[i],u_groups[i+1]-1] for i in range(len(u_groups)-1)]"
   ]
  },
  {
   "cell_type": "code",
   "execution_count": null,
   "metadata": {},
   "outputs": [],
   "source": [
    "u_raw_groups = [3,3]\n",
    "test_eq(augmentation_groups(u_raw_groups),[[0,2],[3,5]])"
   ]
  },
  {
   "cell_type": "code",
   "execution_count": null,
   "metadata": {},
   "outputs": [],
   "source": [
    "#| export\n",
    "class QuaternionAugmentation(Transform):\n",
    "    \"A transform that before_call its state at each `__call__`\"\n",
    "    split_idx = 0\n",
    "    def __init__(self,inp_groups, **kwargs):\n",
    "        super().__init__(**kwargs)\n",
    "        self.inp_groups = inp_groups\n",
    "        self.r_quat = None\n",
    "        for g in inp_groups: \n",
    "            l = g[1]-g[0]+1\n",
    "            if l != 4 and l != 3: raise AttributeError\n",
    "\n",
    "    def __call__(self, b, split_idx=None, **kwargs):\n",
    "        #import pdb; pdb.set_trace()\n",
    "        self.r_quat = rand_quat()\n",
    "        return super().__call__(b, split_idx=split_idx, **kwargs) \n",
    "\n",
    "    def encodes(self, x:(TensorSequences)):\n",
    "        #import pdb; pdb.set_trace()\n",
    "        for g in self.inp_groups:\n",
    "            tmp = x[...,g[0]:g[1]+1]\n",
    "            if tmp.shape[-1] == 3:\n",
    "                x[...,g[0]:g[1]+1] = rot_vec(tmp,self.r_quat)\n",
    "            else:\n",
    "                x[...,g[0]:g[1]+1] = multiplyQuat(tmp,self.r_quat)\n",
    "        return x\n",
    "    \n",
    "    def encodes(self, x:(TensorQuaternionInclination,TensorQuaternionAngle)):\n",
    "        return multiplyQuat(x,self.r_quat)"
   ]
  },
  {
   "cell_type": "code",
   "execution_count": null,
   "metadata": {},
   "outputs": [],
   "source": [
    "n_skip = 2**8\n",
    "\n",
    "\n",
    "inp,out = get_inp_out_size(dls)\n",
    "# model = SimpleGRU(inp,out,num_layers=1,hidden_size=100)\n",
    "model = TCN(inp,out,hl_depth=8,hl_width=10)\n",
    "\n",
    "skip = partial(SkipNLoss,n_skip=n_skip)\n",
    "metrics=rms_inclination_deg\n",
    "cbs = [QuaternionRegularizer(reg_unit=1,modules=[model])]\n",
    "\n",
    "lrn = Learner(dls,model,loss_func=ms_inclination,opt_func=ranger,metrics=metrics)"
   ]
  },
  {
   "cell_type": "code",
   "execution_count": null,
   "metadata": {},
   "outputs": [],
   "source": [
    "lrn.fit_one_cycle(1,lr_max=3e-3)"
   ]
  },
  {
   "cell_type": "markdown",
   "metadata": {},
   "source": [
    "## Resampling Model"
   ]
  },
  {
   "cell_type": "code",
   "execution_count": null,
   "metadata": {},
   "outputs": [],
   "source": [
    "#| export\n",
    "from scipy.signal import resample\n",
    "class Quaternion_ResamplingModel(nn.Module):\n",
    "    '''\n",
    "        Module that resamples the signal before and after the prediction of its model.\n",
    "        Usefull for using models on datasets with different samplingrates.\n",
    "        \n",
    "        sampling_method: method used for resampling ['resample','interpolate']\n",
    "    '''\n",
    "    \n",
    "    def __init__(self,model,fs_targ,fs_mean=0,fs_std=1,quaternion_sampling=True):\n",
    "        super().__init__()\n",
    "        self.model =model\n",
    "        self.fs_targ =fs_targ\n",
    "        self.register_buffer('fs_mean',tensor(fs_mean))\n",
    "        self.register_buffer('fs_std',tensor(fs_std))\n",
    "        self.quaternion_sampling = quaternion_sampling\n",
    "\n",
    "    def forward(self, x):\n",
    "        dt = (x[0,0,-1]*self.fs_std)+self.fs_mean\n",
    "        fs_src = 1/dt\n",
    "        x_len = x.shape[1]\n",
    "        res_len = int(x.shape[1]*self.fs_targ/(fs_src+10))\n",
    "        x_raw = x[...,:-1]\n",
    "        if x_len == res_len:\n",
    "            res = self.model(x_raw)\n",
    "        else:\n",
    "#             x_new = nn.functional.interpolate(x_raw.transpose(1,2), size=res_len, mode='linear',align_corners=False).transpose(1,2)\n",
    "#             import pdb;pdb.set_trace()\n",
    "            x_new = tensor(resample(x_raw.detach().cpu().numpy(),res_len,axis =1)).to(x_raw.device) \n",
    "            res = self.model(x_new)\n",
    "            if self.quaternion_sampling: \n",
    "                res = quatInterp(res.transpose(0,1),torch.linspace(0,res.shape[1]-1,x_len)).transpose(0,1)\n",
    "            else:\n",
    "                res = nn.functional.interpolate(res.transpose(1,2), size=x_len, mode='linear',align_corners=False).transpose(1,2)\n",
    "        \n",
    "        return res"
   ]
  },
  {
   "cell_type": "code",
   "execution_count": null,
   "metadata": {},
   "outputs": [],
   "source": [
    "# dls = DataBlock(blocks=(SequenceBlock.from_hdf(u + ['dt'],TensorSequencesInput),\n",
    "#                         SequenceBlock.from_hdf(y,TensorQuaternionInclination)),\n",
    "#                 get_items=tfm_src,\n",
    "#                 splitter=ApplyToDict(FuncSplitter(lambda o: 'experiment2' in str(o)))\n",
    "#                ).dataloaders(hdf_files,shufflish=True,bs=128)\n",
    "# model = TCN(inp,out,hl_depth=8,hl_width=10)\n",
    "# Learner(dls,Quaternion_ResamplingModel(model,10,quaternion_sampling=False),loss_func=ms_inclination).fit(1)"
   ]
  },
  {
   "cell_type": "markdown",
   "metadata": {},
   "source": [
    "## Quaternion Datablock"
   ]
  },
  {
   "cell_type": "code",
   "execution_count": null,
   "metadata": {},
   "outputs": [],
   "source": [
    "#| exporti\n",
    "def relativeQuat_np(q1, q2):\n",
    "    \"\"\"inv(quat1)*quat2\"\"\"\n",
    "    if isinstance(q1, np.ndarray) and q1.shape == (4,):\n",
    "        q1 = q1[np.newaxis]  # convert to 1x4 matrix\n",
    "        shape = q2.shape\n",
    "    elif isinstance(q1, np.ndarray) and q1.shape == (1, 4):\n",
    "        shape = q2.shape\n",
    "    elif isinstance(q2, np.ndarray) and q2.shape == (4,):\n",
    "        q2 = q2[np.newaxis]  # convert to 1x4 matrix\n",
    "        shape = q1.shape\n",
    "    elif isinstance(q2, np.ndarray) and q2.shape == (1, 4):\n",
    "        shape = q1.shape\n",
    "    else:\n",
    "        assert q1.shape == q2.shape\n",
    "        shape = q1.shape\n",
    "    output = np.zeros(shape=shape)\n",
    "    output[:, 0] = q1[:, 0] * q2[:, 0] + q1[:, 1] * q2[:, 1] + q1[:, 2] * q2[:, 2] + q1[:, 3] * q2[:, 3]\n",
    "    output[:, 1] = q1[:, 0] * q2[:, 1] - q1[:, 1] * q2[:, 0] - q1[:, 2] * q2[:, 3] + q1[:, 3] * q2[:, 2]\n",
    "    output[:, 2] = q1[:, 0] * q2[:, 2] + q1[:, 1] * q2[:, 3] - q1[:, 2] * q2[:, 0] - q1[:, 3] * q2[:, 1]\n",
    "    output[:, 3] = q1[:, 0] * q2[:, 3] - q1[:, 1] * q2[:, 2] + q1[:, 2] * q2[:, 1] - q1[:, 3] * q2[:, 0]\n",
    "    return output\n",
    "def quatFromAngleAxis_np(angle, axis):\n",
    "    \"\"\"\n",
    "        Get quaternion from angle and axis.\n",
    "\n",
    "        If angle is 0, the output will be an identity quaternion.\n",
    "        If axis is zero vector, a ValueError will be raised unless corresponding angle is 0.\n",
    "        If  Nx3 axis or N angle are given, the output will be row-wise broadcasted into Nx4:\n",
    "\n",
    "        >>> q = csgimu.quatFromAngleAxis([0, 1, 2], [1, 0, 0])\n",
    "        >>> q\n",
    "        array([[1.        , 0.        , 0.        , 0.        ],\n",
    "               [0.87758256, 0.47942554, 0.        , 0.        ],\n",
    "               [0.54030231, 0.84147098, 0.        , 0.        ]])\n",
    "\n",
    "        :param angle: scalar or N angle in rad input\n",
    "        :param axis: Nx3 or 1x3 vector input array\n",
    "        :param debug: enables debug output\n",
    "        :param plot: enables debug plot\n",
    "        :return:\n",
    "            - output: Nx4 or 1x4 quaternion output array\n",
    "            - debug: dict with debug values (only if debug==True)\n",
    "\n",
    "        \"\"\"\n",
    "\n",
    "    angle = np.asarray(angle, np.float64)\n",
    "    axis = np.asarray(axis, np.float64)\n",
    "\n",
    "    is1D = (angle.shape == tuple() or angle.shape == (1,)) and axis.shape == (3,)\n",
    "\n",
    "    if angle.shape == tuple():\n",
    "        angle = angle.reshape(1)  # equivalent to np.atleast_1d\n",
    "    if axis.shape == (3,):\n",
    "        axis = axis.reshape((1, 3))\n",
    "\n",
    "    N = max(angle.shape[0], axis.shape[0])\n",
    "\n",
    "    # for (1x1) case\n",
    "    if angle.shape == (1, 1):\n",
    "        angle = angle.ravel()\n",
    "\n",
    "    assert angle.shape == (N,) or angle.shape == (1,), f'invalid angle shape: {angle.shape}'\n",
    "    assert axis.shape == (N, 3) or axis.shape == (1, 3), f'invalid axis shape: {axis.shape}'\n",
    "\n",
    "    angle_brodcasted = np.broadcast_to(angle, (N,))\n",
    "    axis_brodcasted = np.broadcast_to(axis, (N, 3))\n",
    "\n",
    "    norm = np.linalg.norm(axis_brodcasted, axis=1)\n",
    "\n",
    "    identity = norm < np.finfo(np.float64).eps\n",
    "\n",
    "    q = np.zeros((N, 4), np.float64)\n",
    "    q[identity] = np.array([1, 0, 0, 0])\n",
    "    q[~identity] = np.concatenate((np.cos(angle_brodcasted[~identity][:, np.newaxis] / 2), axis_brodcasted[~identity]\n",
    "                                 * np.array(np.sin(angle_brodcasted[~identity] / 2.0) / norm[~identity])[:, np.newaxis]),\n",
    "                                axis=1)\n",
    "\n",
    "    if is1D:\n",
    "        q = q.reshape((4,))\n",
    "\n",
    "    return q\n",
    "\n",
    "def multiplyQuat_np(q1, q2):\n",
    "    \"\"\"quat1*quat2\"\"\"\n",
    "    if isinstance(q1, np.ndarray) and q1.shape == (4,):\n",
    "        q1 = q1[np.newaxis]  # convert to 1x4 matrix\n",
    "        shape = q2.shape\n",
    "    elif isinstance(q1, np.ndarray) and q1.shape == (1, 4):\n",
    "        shape = q2.shape\n",
    "    elif isinstance(q2, np.ndarray) and q2.shape == (4,):\n",
    "        q2 = q2[np.newaxis]  # convert to 1x4 matrix\n",
    "        shape = q1.shape\n",
    "    elif isinstance(q2, np.ndarray) and q2.shape == (1, 4):\n",
    "        shape = q1.shape\n",
    "    else:\n",
    "        assert q1.shape == q2.shape\n",
    "        shape = q1.shape\n",
    "    output = np.zeros(shape=shape)\n",
    "    output[:, 0] = q1[:, 0] * q2[:, 0] - q1[:, 1] * q2[:, 1] - q1[:, 2] * q2[:, 2] - q1[:, 3] * q2[:, 3]\n",
    "    output[:, 1] = q1[:, 0] * q2[:, 1] + q1[:, 1] * q2[:, 0] + q1[:, 2] * q2[:, 3] - q1[:, 3] * q2[:, 2]\n",
    "    output[:, 2] = q1[:, 0] * q2[:, 2] - q1[:, 1] * q2[:, 3] + q1[:, 2] * q2[:, 0] + q1[:, 3] * q2[:, 1]\n",
    "    output[:, 3] = q1[:, 0] * q2[:, 3] + q1[:, 1] * q2[:, 2] - q1[:, 2] * q2[:, 1] + q1[:, 3] * q2[:, 0]\n",
    "    return output\n",
    "\n",
    "\n",
    "def quatInterp_np(quat, ind, extend=True):\n",
    "    \"\"\"\n",
    "    Interpolates an array of quaternions (Nx4) of (non-integer) indices using Slerp. Sampling indices are in the range\n",
    "    0..N-1. For values outside of this range, depending on \"extend\", the first/last element or NaN is returned.\n",
    "    If the input consists 2 quaternions and ind =[0.5], the result should be (1,4) and be the 50/50 interpolation\n",
    "    between the two input quaternions.\n",
    "\n",
    "    >>> a=csgimu.quatInterp(np.array([[1,0,0,0],[0,0,1,0]]), np.array([0.5]), extend=True,debug=False,plot=False)\n",
    "    >>> a\n",
    "        array([[0, 0, 0, 0]])\n",
    "\n",
    "    :param quat: array of input quaternions (Nx4)\n",
    "    :param ind: vector containing the sampling indices for desired output, shape (M,)\n",
    "    :param extend: if true, the input data is virtually extended by the first/last value\n",
    "    :return: interpolated quaternions (Mx4)\n",
    "    \"\"\"\n",
    "    ind = np.atleast_1d(ind)\n",
    "    N = quat.shape[0]\n",
    "    M = ind.shape[0]\n",
    "    assert quat.shape == (N, 4)\n",
    "    assert ind.shape == (M,)\n",
    "\n",
    "    ind0 = np.clip(np.floor(ind).astype(int), 0, N-1)\n",
    "    ind1 = np.clip(np.ceil(ind).astype(int), 0, N-1)\n",
    "\n",
    "    q0 = quat[ind0]\n",
    "    q1 = quat[ind1]\n",
    "    q_1_0 = relativeQuat_np(q0, q1)\n",
    "\n",
    "    # normalize the quaternion for positive w component to ensure\n",
    "    # that the angle will be [0, 180°]\n",
    "    invert_sign_ind = q_1_0[:, 0] < 0\n",
    "    q_1_0[invert_sign_ind] = -q_1_0[invert_sign_ind]\n",
    "\n",
    "    angle = 2 * np.arccos(np.clip(q_1_0[:, 0], -1, 1))\n",
    "    axis = q_1_0[:, 1:]\n",
    "\n",
    "    # copy over (almost) direct hits\n",
    "    with np.errstate(invalid='ignore'):\n",
    "        direct_ind = angle < 1e-06\n",
    "    quat_out = np.empty_like(q0)\n",
    "    # print(quat_out.shape, direct_ind.shape, q0.shape)\n",
    "    quat_out[direct_ind] = q0[direct_ind]\n",
    "\n",
    "    interp_ind = ~direct_ind\n",
    "    t01 = ind - ind0\n",
    "    q_t_0 = quatFromAngleAxis_np((t01*angle)[interp_ind], axis[interp_ind])\n",
    "    quat_out[interp_ind] = multiplyQuat_np(q0[interp_ind], q_t_0)\n",
    "\n",
    "    if not extend:\n",
    "        quat_out[ind < 0] = np.nan\n",
    "        quat_out[ind > N - 1] = np.nan\n",
    "\n",
    "    quat_out_norm = np.linalg.norm(quat_out, axis=1)\n",
    "\n",
    "    return quat_out"
   ]
  },
  {
   "cell_type": "code",
   "execution_count": null,
   "metadata": {},
   "outputs": [],
   "source": [
    "#| export\n",
    "import h5py\n",
    "\n",
    "\n",
    "class HDF2Quaternion(HDF2Sequence):\n",
    "\n",
    "    def _hdf_extract_sequence(self,hdf_path,dataset = None, l_slc = None, r_slc= None, resampling_factor=None, fs_idx =None,dt_idx =False,fast_resample=True):\n",
    "        '''\n",
    "        extracts a sequence with the shape [seq_len x num_features]\n",
    "\n",
    "        hdf_path: file path of hdf file, may be a string or path type\n",
    "        clms: list of dataset names of sequences in hdf file\n",
    "        dataset: dataset root for clms. Useful for multiples sequences stored in one file.\n",
    "        l_slc: left boundary for extraction of a window of the whole sequence\n",
    "        r_slc: right boundary for extraction of a window of the whole sequence\n",
    "        resampling_factor: scaling factor for the sequence length, uses 'resample_interp' for resampling\n",
    "        fs_idx: clms list idx of fs entry in sequence. Will be scaled by resampling_factor after resampling\n",
    "        dt_idx: clms list idx of dt entry in sequence. Will be scaled by resampling_factor after resampling\n",
    "        '''\n",
    "\n",
    "        if resampling_factor is not None:\n",
    "            seq_len = r_slc-l_slc if l_slc is not None and r_slc is not None else None #calculate seq_len for later slicing, necesary because of rounding errors in resampling\n",
    "            if l_slc is not None: l_slc= math.floor(l_slc/resampling_factor)\n",
    "            if r_slc is not None: r_slc= math.ceil(r_slc/resampling_factor)\n",
    "\n",
    "        with h5py.File(hdf_path,'r') as f:\n",
    "            ds = f if dataset is None else f[dataset]\n",
    "            l_array = [(ds[n][l_slc:r_slc]) for n in self.clm_names]\n",
    "            seq = np.stack(l_array,axis=-1)\n",
    "\n",
    "        if resampling_factor is not None:\n",
    "#             res_seq = resample_interp(seq,resampling_factor)\n",
    "            res_seq = quatInterp_np(seq,np.linspace(0,seq.shape[0]-1,int(seq.shape[0]*resampling_factor)))\n",
    "            if fs_idx is not None: res_seq[:,fs_idx] = seq[0,fs_idx] * resampling_factor\n",
    "            if dt_idx is not None: res_seq[:,dt_idx] = seq[0,dt_idx] / resampling_factor\n",
    "            seq = res_seq\n",
    "\n",
    "            if seq_len is not None: seq = seq[:seq_len] #cut the part of the sequence that is too long because of resampling rounding errors\n",
    "\n",
    "        return seq"
   ]
  },
  {
   "cell_type": "code",
   "execution_count": null,
   "metadata": {},
   "outputs": [],
   "source": [
    "#| export\n",
    "class QuaternionBlock(TransformBlock):\n",
    "    def __init__(self, seq_extract,padding=False):\n",
    "        return super().__init__(type_tfms=[seq_extract],\n",
    "                                batch_tfms=[Normalize(axes=[0,1])],\n",
    "                                dls_kwargs={} if not padding else {'before_batch': pad_sequence})\n",
    "\n",
    "    @classmethod\n",
    "    @delegates(HDF2Quaternion, keep=True)\n",
    "    def from_hdf(cls, clm_names, seq_cls=TensorQuaternionInclination,padding=False, **kwargs):\n",
    "        return cls(HDF2Quaternion(clm_names,to_cls=seq_cls,**kwargs), padding)"
   ]
  },
  {
   "cell_type": "code",
   "execution_count": null,
   "metadata": {},
   "outputs": [],
   "source": [
    "tfm_src = CreateDict([DfResamplingFactor(2000/7,np.linspace(50,500,10)),DfHDFCreateWindows(win_sz=1000,stp_sz=100,clm='acc_x')])\n",
    "dls = DataBlock(blocks=(SequenceBlock.from_hdf(u,TensorSequencesInput),\n",
    "                        QuaternionBlock.from_hdf(y)),\n",
    "                get_items=tfm_src,\n",
    "                splitter=RandomSplitter(0.5)\n",
    "               ).dataloaders(hdf_files,bs=2)"
   ]
  },
  {
   "cell_type": "code",
   "execution_count": null,
   "metadata": {},
   "outputs": [],
   "source": [
    "#test_eq(len(dls.items),83877) "
   ]
  },
  {
   "cell_type": "markdown",
   "metadata": {},
   "source": [
    "## Inclination Datablock"
   ]
  },
  {
   "cell_type": "code",
   "execution_count": null,
   "metadata": {},
   "outputs": [],
   "source": [
    "#| export\n",
    "class TensorInclination(TensorSequences): pass"
   ]
  },
  {
   "cell_type": "code",
   "execution_count": null,
   "metadata": {},
   "outputs": [],
   "source": [
    "#| export\n",
    "import h5py\n",
    "class HDF2Inclination(HDF2Sequence):\n",
    "        \n",
    "    def _hdf_extract_sequence(self,hdf_path,dataset = None, l_slc = None, r_slc= None,down_s=None):\n",
    "        with h5py.File(hdf_path,'r') as f:\n",
    "            ds = f if dataset is None else f[dataset]\n",
    "            l_array = [ds[n][l_slc:r_slc] for n in self.clm_names]\n",
    "            seq = np.vstack(l_array).T\n",
    "            seq = array(inclinationAngleAbs(tensor(seq))[:,None])\n",
    "            return seq"
   ]
  },
  {
   "cell_type": "code",
   "execution_count": null,
   "metadata": {},
   "outputs": [],
   "source": [
    "#| export\n",
    "class InclinationBlock(TransformBlock):\n",
    "    def __init__(self, seq_extract,padding=False):\n",
    "        return super().__init__(type_tfms=[seq_extract],\n",
    "                                batch_tfms=[Normalize(axes=[0,1])],\n",
    "                                dls_kwargs={} if not padding else {'before_batch': pad_sequence})\n",
    "\n",
    "    @classmethod\n",
    "    @delegates(HDF2Inclination, keep=True)\n",
    "    def from_hdf(cls, clm_names, seq_cls=TensorInclination,padding=False, **kwargs):\n",
    "        return cls(HDF2Inclination(clm_names,to_cls=seq_cls,**kwargs), padding)"
   ]
  },
  {
   "cell_type": "code",
   "execution_count": null,
   "metadata": {},
   "outputs": [],
   "source": [
    "# f_paths = '/mnt/Data/Systemidentification/Orientation_Estimation/'\n",
    "# hdf_files = get_hdf_files(f_paths)\n",
    "# tfm_src = CreateDict([DfHDFCreateWindows(win_sz=1000,stp_sz=100,clm='acc_x')])\n",
    "# u = ['acc_x','acc_y','acc_z','gyr_x','gyr_y','gyr_z']\n",
    "# # u = ['acc_x','acc_y','acc_z','gyr_x','gyr_y','gyr_z','mag_x','mag_y','mag_z']\n",
    "# y =['opt_a','opt_b','opt_c','opt_d']\n",
    "# dls = DataBlock(blocks=(SequenceBlock.from_hdf(u),\n",
    "#                         InclinationBlock.from_hdf(y)),\n",
    "#                 get_items=tfm_src,\n",
    "#                 splitter=ApplyToDict(FuncSplitter(lambda o: 'experiment2' in str(o)))\n",
    "#                ).dataloaders(hdf_files,shufflish=True,bs=128)"
   ]
  },
  {
   "cell_type": "markdown",
   "metadata": {},
   "source": [
    "## Show Results"
   ]
  },
  {
   "cell_type": "code",
   "execution_count": null,
   "metadata": {},
   "outputs": [],
   "source": [
    "#| export\n",
    "def plot_scalar_inclination(axs,in_sig,targ_sig,out_sig=None, **kwargs):\n",
    "#     import pdb; pdb.set_trace()\n",
    "    first_targ = targ_sig[0].repeat(targ_sig.shape[0],1)\n",
    "    axs[0].plot(rad2deg(targ_sig).detach().numpy())\n",
    "    axs[0].label_outer()\n",
    "    axs[0].set_ylabel('inclination[°]')\n",
    "    \n",
    "    if out_sig is not None:\n",
    "        axs[0].plot(rad2deg(out_sig).detach().numpy())\n",
    "        axs[0].legend(['y','ŷ'])\n",
    "        axs[1].plot(rad2deg(targ_sig-out_sig).detach().numpy())\n",
    "        axs[1].label_outer()\n",
    "        axs[1].set_ylabel('error[°]')\n",
    "        \n",
    "    axs[-1].plot(in_sig)"
   ]
  },
  {
   "cell_type": "code",
   "execution_count": null,
   "metadata": {},
   "outputs": [],
   "source": [
    "#| export\n",
    "def plot_quaternion_inclination(axs,in_sig,targ_sig,out_sig=None, **kwargs):\n",
    "#     import pdb; pdb.set_trace()\n",
    "    axs[0].plot(rad2deg(inclinationAngleAbs(targ_sig)).detach().numpy())\n",
    "    axs[0].label_outer()\n",
    "    axs[0].legend(['y'])\n",
    "    axs[0].set_ylabel('inclination[°]')\n",
    "    \n",
    "    if out_sig is not None:\n",
    "        axs[0].plot(rad2deg(inclinationAngleAbs(out_sig)).detach().numpy())\n",
    "        axs[0].legend(['y','ŷ'])\n",
    "        axs[1].plot(rad2deg(inclinationAngle(out_sig,targ_sig)).detach().numpy())\n",
    "        axs[1].label_outer()\n",
    "        axs[1].set_ylabel('error[°]')\n",
    "        if 'ref' in kwargs:\n",
    "#             axs[0].plot(rad2deg(inclinationAngleAbs(kwargs['ref'])))\n",
    "#             axs[0].legend(['y','ŷ','y_ref'])\n",
    "            axs[1].plot(rad2deg(inclinationAngle(targ_sig,kwargs['ref'])).detach().numpy())\n",
    "            axs[1].legend(['ŷ','y_ref'])\n",
    "        \n",
    "    axs[-1].plot(in_sig)"
   ]
  },
  {
   "cell_type": "code",
   "execution_count": null,
   "metadata": {},
   "outputs": [],
   "source": [
    "#| export\n",
    "def plot_quaternion_rel_angle(axs,in_sig,targ_sig,out_sig=None, **kwargs):\n",
    "#     import pdb; pdb.set_trace()\n",
    "    first_targ = targ_sig[0].repeat(targ_sig.shape[0],1)\n",
    "    axs[0].plot(rad2deg(relativeAngle(first_targ,targ_sig)).detach().numpy())\n",
    "    axs[0].label_outer()\n",
    "    axs[0].legend(['y'])\n",
    "    axs[0].set_ylabel('angle[°]')\n",
    "    \n",
    "    if out_sig is not None:\n",
    "        axs[0].plot(rad2deg(relativeAngle(first_targ,out_sig)).detach().numpy())\n",
    "        axs[0].legend(['y','ŷ'])\n",
    "        axs[1].plot(rad2deg(relativeAngle(out_sig,targ_sig)).detach().numpy())\n",
    "        axs[1].label_outer()\n",
    "        axs[1].set_ylabel('error[°]')\n",
    "        \n",
    "    axs[-1].plot(in_sig)"
   ]
  },
  {
   "cell_type": "code",
   "execution_count": null,
   "metadata": {},
   "outputs": [],
   "source": [
    "dls.show_batch(max_n=3,ds_idx=0)"
   ]
  },
  {
   "cell_type": "code",
   "execution_count": null,
   "metadata": {},
   "outputs": [],
   "source": [
    "#| export\n",
    "@typedispatch\n",
    "def show_results(x:TensorSequences, y:TensorInclination, samples, outs, ctxs=None, max_n=2, **kwargs):\n",
    "    n_samples = min(len(samples), max_n)\n",
    "    n_targ = 2\n",
    "    if n_samples > 3:\n",
    "        #if there are more then 3 samples to plot then put them in a single figure\n",
    "        plot_seqs_single_figure(n_samples,n_targ,samples,plot_scalar_inclination,outs, **kwargs)\n",
    "    else:\n",
    "        #if there are less then 3 samples to plot then put each in its own figure\n",
    "        plot_seqs_multi_figures(n_samples,n_targ,samples,plot_scalar_inclination,outs, **kwargs)\n",
    "    return ctxs"
   ]
  },
  {
   "cell_type": "code",
   "execution_count": null,
   "metadata": {},
   "outputs": [],
   "source": [
    "#| export\n",
    "@typedispatch\n",
    "def show_batch(x:TensorSequences, y:TensorInclination, samples, ctxs=None, max_n=6, **kwargs):\n",
    "    n_samples = min(len(samples), max_n)\n",
    "    n_targ = 1\n",
    "    if n_samples > 3:\n",
    "        #if there are more then 3 samples to plot then put them in a single figure\n",
    "        plot_seqs_single_figure(n_samples,n_targ,samples,plot_scalar_inclination, **kwargs)\n",
    "    else:\n",
    "        #if there are less then 3 samples to plot then put each in its own figure\n",
    "        plot_seqs_multi_figures(n_samples,n_targ,samples,plot_scalar_inclination, **kwargs)\n",
    "    return ctxs"
   ]
  },
  {
   "cell_type": "code",
   "execution_count": null,
   "metadata": {},
   "outputs": [],
   "source": [
    "#| export\n",
    "@typedispatch\n",
    "def show_results(x:TensorSequences, y:TensorQuaternionInclination, samples, outs, ctxs=None, max_n=2, **kwargs):\n",
    "    if 'quat' in kwargs: return show_results(x,TensorSequencesOutput(y), samples,outs, ctxs, max_n , **kwargs)\n",
    "    n_samples = min(len(samples), max_n)\n",
    "    n_targ = 2\n",
    "    if n_samples > 3:\n",
    "        #if there are more then 3 samples to plot then put them in a single figure\n",
    "        plot_seqs_single_figure(n_samples,n_targ,samples,plot_quaternion_inclination,outs,**kwargs)\n",
    "    else:\n",
    "        #if there are less then 3 samples to plot then put each in its own figure\n",
    "        plot_seqs_multi_figures(n_samples,n_targ,samples,plot_quaternion_inclination,outs,**kwargs)\n",
    "    return ctxs"
   ]
  },
  {
   "cell_type": "code",
   "execution_count": null,
   "metadata": {},
   "outputs": [],
   "source": [
    "#| export\n",
    "@typedispatch\n",
    "def show_batch(x:TensorSequences, y:TensorQuaternionInclination, samples, ctxs=None, max_n=6, **kwargs):\n",
    "    n_samples = min(len(samples), max_n)\n",
    "    n_targ = 1\n",
    "    if n_samples > 3:\n",
    "        #if there are more then 3 samples to plot then put them in a single figure\n",
    "        plot_seqs_single_figure(n_samples,n_targ,samples,plot_quaternion_inclination)\n",
    "    else:\n",
    "        #if there are less then 3 samples to plot then put each in its own figure\n",
    "        plot_seqs_multi_figures(n_samples,n_targ,samples,plot_quaternion_inclination)\n",
    "    return ctxs"
   ]
  },
  {
   "cell_type": "code",
   "execution_count": null,
   "metadata": {},
   "outputs": [],
   "source": [
    "#| export\n",
    "@typedispatch\n",
    "def show_results(x:TensorSequences, y:TensorQuaternionAngle, samples, outs, ctxs=None, max_n=2, **kwargs):\n",
    "    n_samples = min(len(samples), max_n)\n",
    "    n_targ = 2\n",
    "    if n_samples > 3:\n",
    "        #if there are more then 3 samples to plot then put them in a single figure\n",
    "        plot_seqs_single_figure(n_samples,n_targ,samples,plot_quaternion_rel_angle,outs, **kwargs)\n",
    "    else:\n",
    "        #if there are less then 3 samples to plot then put each in its own figure\n",
    "        plot_seqs_multi_figures(n_samples,n_targ,samples,plot_quaternion_rel_angle,outs, **kwargs)\n",
    "    return ctxs"
   ]
  },
  {
   "cell_type": "code",
   "execution_count": null,
   "metadata": {},
   "outputs": [],
   "source": [
    "#| export\n",
    "@typedispatch\n",
    "def show_batch(x:TensorSequences, y:TensorQuaternionAngle, samples, ctxs=None, max_n=6, **kwargs):\n",
    "    n_samples = min(len(samples), max_n)\n",
    "    n_targ = 1\n",
    "    if n_samples > 3:\n",
    "        #if there are more then 3 samples to plot then put them in a single figure\n",
    "        plot_seqs_single_figure(n_samples,n_targ,samples,plot_quaternion_rel_angle, **kwargs)\n",
    "    else:\n",
    "        #if there are less then 3 samples to plot then put each in its own figure\n",
    "        plot_seqs_multi_figures(n_samples,n_targ,samples,plot_quaternion_rel_angle, **kwargs)\n",
    "    return ctxs"
   ]
  },
  {
   "cell_type": "code",
   "execution_count": null,
   "metadata": {},
   "outputs": [],
   "source": [
    "lrn.show_results(max_n=3,ds_idx=0,shuffle=True,quat=True)"
   ]
  },
  {
   "cell_type": "code",
   "execution_count": null,
   "metadata": {},
   "outputs": [
    {
     "ename": "UnicodeDecodeError",
     "evalue": "'ascii' codec can't decode byte 0xc5 in position 38510: ordinal not in range(128)",
     "output_type": "error",
     "traceback": [
      "\u001b[0;31m---------------------------------------------------------------------------\u001b[0m",
      "\u001b[0;31mUnicodeDecodeError\u001b[0m                        Traceback (most recent call last)",
      "Cell \u001b[0;32mIn[104], line 2\u001b[0m\n\u001b[1;32m      1\u001b[0m \u001b[38;5;66;03m#| include: false\u001b[39;00m\n\u001b[0;32m----> 2\u001b[0m \u001b[38;5;28;01mimport\u001b[39;00m \u001b[38;5;21;01mnbdev\u001b[39;00m; \u001b[43mnbdev\u001b[49m\u001b[38;5;241;43m.\u001b[39;49m\u001b[43mnbdev_export\u001b[49m\u001b[43m(\u001b[49m\u001b[43m)\u001b[49m\n",
      "File \u001b[0;32m~/miniconda3/envs/env_fastai/lib/python3.10/site-packages/fastcore/script.py:110\u001b[0m, in \u001b[0;36mcall_parse.<locals>._f\u001b[0;34m(*args, **kwargs)\u001b[0m\n\u001b[1;32m    107\u001b[0m \u001b[38;5;129m@wraps\u001b[39m(func)\n\u001b[1;32m    108\u001b[0m \u001b[38;5;28;01mdef\u001b[39;00m \u001b[38;5;21m_f\u001b[39m(\u001b[38;5;241m*\u001b[39margs, \u001b[38;5;241m*\u001b[39m\u001b[38;5;241m*\u001b[39mkwargs):\n\u001b[1;32m    109\u001b[0m     mod \u001b[38;5;241m=\u001b[39m inspect\u001b[38;5;241m.\u001b[39mgetmodule(inspect\u001b[38;5;241m.\u001b[39mcurrentframe()\u001b[38;5;241m.\u001b[39mf_back)\n\u001b[0;32m--> 110\u001b[0m     \u001b[38;5;28;01mif\u001b[39;00m \u001b[38;5;129;01mnot\u001b[39;00m mod: \u001b[38;5;28;01mreturn\u001b[39;00m \u001b[43mfunc\u001b[49m\u001b[43m(\u001b[49m\u001b[38;5;241;43m*\u001b[39;49m\u001b[43margs\u001b[49m\u001b[43m,\u001b[49m\u001b[43m \u001b[49m\u001b[38;5;241;43m*\u001b[39;49m\u001b[38;5;241;43m*\u001b[39;49m\u001b[43mkwargs\u001b[49m\u001b[43m)\u001b[49m\n\u001b[1;32m    111\u001b[0m     \u001b[38;5;28;01mif\u001b[39;00m \u001b[38;5;129;01mnot\u001b[39;00m SCRIPT_INFO\u001b[38;5;241m.\u001b[39mfunc \u001b[38;5;129;01mand\u001b[39;00m mod\u001b[38;5;241m.\u001b[39m\u001b[38;5;18m__name__\u001b[39m\u001b[38;5;241m==\u001b[39m\u001b[38;5;124m\"\u001b[39m\u001b[38;5;124m__main__\u001b[39m\u001b[38;5;124m\"\u001b[39m: SCRIPT_INFO\u001b[38;5;241m.\u001b[39mfunc \u001b[38;5;241m=\u001b[39m func\u001b[38;5;241m.\u001b[39m\u001b[38;5;18m__name__\u001b[39m\n\u001b[1;32m    112\u001b[0m     \u001b[38;5;28;01mif\u001b[39;00m \u001b[38;5;28mlen\u001b[39m(sys\u001b[38;5;241m.\u001b[39margv)\u001b[38;5;241m>\u001b[39m\u001b[38;5;241m1\u001b[39m \u001b[38;5;129;01mand\u001b[39;00m sys\u001b[38;5;241m.\u001b[39margv[\u001b[38;5;241m1\u001b[39m]\u001b[38;5;241m==\u001b[39m\u001b[38;5;124m'\u001b[39m\u001b[38;5;124m'\u001b[39m: sys\u001b[38;5;241m.\u001b[39margv\u001b[38;5;241m.\u001b[39mpop(\u001b[38;5;241m1\u001b[39m)\n",
      "File \u001b[0;32m~/miniconda3/envs/env_fastai/lib/python3.10/site-packages/nbdev/doclinks.py:140\u001b[0m, in \u001b[0;36mnbdev_export\u001b[0;34m(path, **kwargs)\u001b[0m\n\u001b[1;32m    138\u001b[0m \u001b[38;5;28;01mfor\u001b[39;00m f \u001b[38;5;129;01min\u001b[39;00m files: nb_export(f)\n\u001b[1;32m    139\u001b[0m add_init(get_config()\u001b[38;5;241m.\u001b[39mlib_path)\n\u001b[0;32m--> 140\u001b[0m \u001b[43m_build_modidx\u001b[49m\u001b[43m(\u001b[49m\u001b[43m)\u001b[49m\n",
      "File \u001b[0;32m~/miniconda3/envs/env_fastai/lib/python3.10/site-packages/nbdev/doclinks.py:102\u001b[0m, in \u001b[0;36m_build_modidx\u001b[0;34m(dest, nbs_path, skip_exists)\u001b[0m\n\u001b[1;32m    100\u001b[0m code_root \u001b[38;5;241m=\u001b[39m dest\u001b[38;5;241m.\u001b[39mparent\u001b[38;5;241m.\u001b[39mresolve()\n\u001b[1;32m    101\u001b[0m \u001b[38;5;28;01mfor\u001b[39;00m file \u001b[38;5;129;01min\u001b[39;00m globtastic(dest, file_glob\u001b[38;5;241m=\u001b[39m\u001b[38;5;124m\"\u001b[39m\u001b[38;5;124m*.py\u001b[39m\u001b[38;5;124m\"\u001b[39m, skip_file_re\u001b[38;5;241m=\u001b[39m\u001b[38;5;124m'\u001b[39m\u001b[38;5;124m^_\u001b[39m\u001b[38;5;124m'\u001b[39m, skip_folder_re\u001b[38;5;241m=\u001b[39m\u001b[38;5;124m\"\u001b[39m\u001b[38;5;124m\\\u001b[39m\u001b[38;5;124m.ipynb_checkpoints\u001b[39m\u001b[38;5;124m\"\u001b[39m):\n\u001b[0;32m--> 102\u001b[0m     res[\u001b[38;5;124m'\u001b[39m\u001b[38;5;124msyms\u001b[39m\u001b[38;5;124m'\u001b[39m]\u001b[38;5;241m.\u001b[39mupdate(\u001b[43m_get_modidx\u001b[49m\u001b[43m(\u001b[49m\u001b[43m(\u001b[49m\u001b[43mdest\u001b[49m\u001b[38;5;241;43m.\u001b[39;49m\u001b[43mparent\u001b[49m\u001b[38;5;241;43m/\u001b[39;49m\u001b[43mfile\u001b[49m\u001b[43m)\u001b[49m\u001b[38;5;241;43m.\u001b[39;49m\u001b[43mresolve\u001b[49m\u001b[43m(\u001b[49m\u001b[43m)\u001b[49m\u001b[43m,\u001b[49m\u001b[43m \u001b[49m\u001b[43mcode_root\u001b[49m\u001b[43m,\u001b[49m\u001b[43m \u001b[49m\u001b[43mnbs_path\u001b[49m\u001b[38;5;241;43m=\u001b[39;49m\u001b[43mnbs_path\u001b[49m\u001b[43m)\u001b[49m)\n\u001b[1;32m    103\u001b[0m idxfile\u001b[38;5;241m.\u001b[39mwrite_text(\u001b[38;5;124m\"\u001b[39m\u001b[38;5;124m# Autogenerated by nbdev\u001b[39m\u001b[38;5;130;01m\\n\u001b[39;00m\u001b[38;5;130;01m\\n\u001b[39;00m\u001b[38;5;124md = \u001b[39m\u001b[38;5;124m\"\u001b[39m\u001b[38;5;241m+\u001b[39mpformat(res, width\u001b[38;5;241m=\u001b[39m\u001b[38;5;241m140\u001b[39m, indent\u001b[38;5;241m=\u001b[39m\u001b[38;5;241m2\u001b[39m, compact\u001b[38;5;241m=\u001b[39m\u001b[38;5;28;01mTrue\u001b[39;00m)\u001b[38;5;241m+\u001b[39m\u001b[38;5;124m'\u001b[39m\u001b[38;5;130;01m\\n\u001b[39;00m\u001b[38;5;124m'\u001b[39m)\n",
      "File \u001b[0;32m~/miniconda3/envs/env_fastai/lib/python3.10/site-packages/nbdev/doclinks.py:73\u001b[0m, in \u001b[0;36m_get_modidx\u001b[0;34m(py_path, code_root, nbs_path)\u001b[0m\n\u001b[1;32m     71\u001b[0m _def_types \u001b[38;5;241m=\u001b[39m ast\u001b[38;5;241m.\u001b[39mFunctionDef,ast\u001b[38;5;241m.\u001b[39mAsyncFunctionDef,ast\u001b[38;5;241m.\u001b[39mClassDef\n\u001b[1;32m     72\u001b[0m d \u001b[38;5;241m=\u001b[39m {}\n\u001b[0;32m---> 73\u001b[0m \u001b[38;5;28;01mfor\u001b[39;00m cell \u001b[38;5;129;01min\u001b[39;00m _iter_py_cells(py_path):\n\u001b[1;32m     74\u001b[0m     \u001b[38;5;28;01mif\u001b[39;00m cell\u001b[38;5;241m.\u001b[39mnb \u001b[38;5;241m==\u001b[39m \u001b[38;5;124m'\u001b[39m\u001b[38;5;124mauto\u001b[39m\u001b[38;5;124m'\u001b[39m: \u001b[38;5;28;01mcontinue\u001b[39;00m\n\u001b[1;32m     75\u001b[0m     loc \u001b[38;5;241m=\u001b[39m _nbpath2html(cell\u001b[38;5;241m.\u001b[39mnb_path\u001b[38;5;241m.\u001b[39mrelative_to(nbs_path))\n",
      "File \u001b[0;32m~/miniconda3/envs/env_fastai/lib/python3.10/site-packages/nbdev/doclinks.py:49\u001b[0m, in \u001b[0;36m_iter_py_cells\u001b[0;34m(p)\u001b[0m\n\u001b[1;32m     47\u001b[0m \u001b[38;5;124m\"\u001b[39m\u001b[38;5;124mYield cells from an exported Python file.\u001b[39m\u001b[38;5;124m\"\u001b[39m\n\u001b[1;32m     48\u001b[0m p \u001b[38;5;241m=\u001b[39m Path(p)\n\u001b[0;32m---> 49\u001b[0m cells \u001b[38;5;241m=\u001b[39m \u001b[43mp\u001b[49m\u001b[38;5;241;43m.\u001b[39;49m\u001b[43mread_text\u001b[49m\u001b[43m(\u001b[49m\u001b[43m)\u001b[49m\u001b[38;5;241m.\u001b[39msplit(\u001b[38;5;124m\"\u001b[39m\u001b[38;5;130;01m\\n\u001b[39;00m\u001b[38;5;124m# \u001b[39m\u001b[38;5;132;01m%%\u001b[39;00m\u001b[38;5;124m \u001b[39m\u001b[38;5;124m\"\u001b[39m)\n\u001b[1;32m     50\u001b[0m \u001b[38;5;28;01mfor\u001b[39;00m cell \u001b[38;5;129;01min\u001b[39;00m cells[\u001b[38;5;241m1\u001b[39m:]:\n\u001b[1;32m     51\u001b[0m     top,code \u001b[38;5;241m=\u001b[39m cell\u001b[38;5;241m.\u001b[39msplit(\u001b[38;5;124m'\u001b[39m\u001b[38;5;130;01m\\n\u001b[39;00m\u001b[38;5;124m'\u001b[39m, \u001b[38;5;241m1\u001b[39m)\n",
      "File \u001b[0;32m~/miniconda3/envs/env_fastai/lib/python3.10/pathlib.py:1135\u001b[0m, in \u001b[0;36mPath.read_text\u001b[0;34m(self, encoding, errors)\u001b[0m\n\u001b[1;32m   1133\u001b[0m encoding \u001b[38;5;241m=\u001b[39m io\u001b[38;5;241m.\u001b[39mtext_encoding(encoding)\n\u001b[1;32m   1134\u001b[0m \u001b[38;5;28;01mwith\u001b[39;00m \u001b[38;5;28mself\u001b[39m\u001b[38;5;241m.\u001b[39mopen(mode\u001b[38;5;241m=\u001b[39m\u001b[38;5;124m'\u001b[39m\u001b[38;5;124mr\u001b[39m\u001b[38;5;124m'\u001b[39m, encoding\u001b[38;5;241m=\u001b[39mencoding, errors\u001b[38;5;241m=\u001b[39merrors) \u001b[38;5;28;01mas\u001b[39;00m f:\n\u001b[0;32m-> 1135\u001b[0m     \u001b[38;5;28;01mreturn\u001b[39;00m \u001b[43mf\u001b[49m\u001b[38;5;241;43m.\u001b[39;49m\u001b[43mread\u001b[49m\u001b[43m(\u001b[49m\u001b[43m)\u001b[49m\n",
      "File \u001b[0;32m~/miniconda3/envs/env_fastai/lib/python3.10/encodings/ascii.py:26\u001b[0m, in \u001b[0;36mIncrementalDecoder.decode\u001b[0;34m(self, input, final)\u001b[0m\n\u001b[1;32m     25\u001b[0m \u001b[38;5;28;01mdef\u001b[39;00m \u001b[38;5;21mdecode\u001b[39m(\u001b[38;5;28mself\u001b[39m, \u001b[38;5;28minput\u001b[39m, final\u001b[38;5;241m=\u001b[39m\u001b[38;5;28;01mFalse\u001b[39;00m):\n\u001b[0;32m---> 26\u001b[0m     \u001b[38;5;28;01mreturn\u001b[39;00m \u001b[43mcodecs\u001b[49m\u001b[38;5;241;43m.\u001b[39;49m\u001b[43mascii_decode\u001b[49m\u001b[43m(\u001b[49m\u001b[38;5;28;43minput\u001b[39;49m\u001b[43m,\u001b[49m\u001b[43m \u001b[49m\u001b[38;5;28;43mself\u001b[39;49m\u001b[38;5;241;43m.\u001b[39;49m\u001b[43merrors\u001b[49m\u001b[43m)\u001b[49m[\u001b[38;5;241m0\u001b[39m]\n",
      "\u001b[0;31mUnicodeDecodeError\u001b[0m: 'ascii' codec can't decode byte 0xc5 in position 38510: ordinal not in range(128)"
     ]
    }
   ],
   "source": [
    "#| include: false\n",
    "import nbdev; nbdev.nbdev_export()"
   ]
  },
  {
   "cell_type": "code",
   "execution_count": null,
   "metadata": {},
   "outputs": [],
   "source": []
  }
 ],
 "metadata": {
  "kernelspec": {
   "display_name": "python3",
   "language": "python",
   "name": "python3"
  }
 },
 "nbformat": 4,
 "nbformat_minor": 4
}
