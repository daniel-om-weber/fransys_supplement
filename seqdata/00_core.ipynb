{
 "cells": [
  {
   "cell_type": "raw",
   "metadata": {},
   "source": [
    "---\n",
    "description: Corefunctionality for data preparation of sequential data for pytorch,\n",
    "  fastai models\n",
    "output-file: core.html\n",
    "title: Corefunctions\n",
    "\n",
    "---\n",
    "\n"
   ]
  },
  {
   "cell_type": "code",
   "execution_count": null,
   "metadata": {},
   "outputs": [],
   "source": [
    "#| default_exp core\n",
    "#| default_cls_lvl 3"
   ]
  },
  {
   "cell_type": "code",
   "execution_count": null,
   "metadata": {},
   "outputs": [],
   "source": [
    "#| include: false\n",
    "# %load_ext line_profiler\n",
    "%matplotlib widget"
   ]
  },
  {
   "cell_type": "markdown",
   "metadata": {},
   "source": [
    "# Application Structure\n",
    "The data will be extracted and prepared via transforms. Those are grouped in:\n",
    "- Type Transforms: Those extraxt the needed components from the source items, like input sequences or target scalar values. The work on single tensors.\n",
    "- Item Transforms: Those Transforms may work on tuple level and therefore may process relationships between input and output.\n",
    "- Batch Transform: Those transforms work on batch level. They receive batched tensors and may apply lazy transforms like normalization very effeciently.\n",
    "\n",
    "An application example may look like the following:\n",
    "- sourceitems: \n",
    "    - path extraction with hdf5 file endings\n",
    "    - create pandas dataframe with information for type transforms, like slices\n",
    "    - filter items in pandas dataframe\n",
    "- type transforms: \n",
    "    - extract hdf5 input and output sequence\n",
    "    - create windows\n",
    "- item transforms: \n",
    "    - filter sequence by value\n",
    "    - shift output sequence by 1 element\n",
    "- batch transforms: \n",
    "    - noise injection\n",
    "    - normalization\n",
    "    "
   ]
  },
  {
   "cell_type": "code",
   "execution_count": null,
   "metadata": {},
   "outputs": [],
   "source": [
    "#| export\n",
    "from fastai.data.all import *\n",
    "from fastai.vision.augment import RandTransform\n",
    "import h5py"
   ]
  },
  {
   "cell_type": "code",
   "execution_count": null,
   "metadata": {},
   "outputs": [],
   "source": [
    "#| export\n",
    "def obj_in_lst(lst,cls):\n",
    "    '''retrieve first object of type cls from a list'''\n",
    "    return next(o for o in lst if type(o) is cls)"
   ]
  },
  {
   "cell_type": "code",
   "execution_count": null,
   "metadata": {},
   "outputs": [],
   "source": [
    "#| export\n",
    "def count_parameters(model):\n",
    "    '''retrieve number of trainable parameters of a model'''\n",
    "    return sum(p.numel() for p in model.parameters() if p.requires_grad)"
   ]
  },
  {
   "cell_type": "markdown",
   "metadata": {},
   "source": [
    "## 1. Extract Source Items\n",
    "The file paths may be extracted with `get_files` of fastai2. `get_hdf_files` removes the need of writing the hdf5 file extension.\n",
    "\n",
    "Then a pandas dataframe may be created in case further information for the source items need to be stored like slices for the windowing function."
   ]
  },
  {
   "cell_type": "markdown",
   "metadata": {},
   "source": [
    "### 1.1 Extract File Paths"
   ]
  },
  {
   "cell_type": "code",
   "execution_count": null,
   "metadata": {},
   "outputs": [
    {
     "data": {
      "text/plain": [
       "(3,\n",
       " Path('/home/pheenix/Development/seqdata/test_data/battery/train/Sim_RealisticCycle1.hdf5'))"
      ]
     },
     "execution_count": null,
     "metadata": {},
     "output_type": "execute_result"
    }
   ],
   "source": [
    "f_path = Path.cwd() / 'test_data/battery'\n",
    "hdf_files = get_files(f_path,extensions='.hdf5',recurse=True)\n",
    "len(hdf_files),hdf_files[0]"
   ]
  },
  {
   "cell_type": "code",
   "execution_count": null,
   "metadata": {},
   "outputs": [],
   "source": [
    "#| export\n",
    "hdf_extensions = ['.hdf5']\n",
    "def get_hdf_files(path,recurse=True, folders=None):\n",
    "    \"Get hdf5 files in `path` recursively, only in `folders`, if specified.\"\n",
    "    return get_files(path, extensions=hdf_extensions, recurse=recurse, folders=folders)"
   ]
  },
  {
   "cell_type": "code",
   "execution_count": null,
   "metadata": {},
   "outputs": [
    {
     "data": {
      "text/plain": [
       "(3,\n",
       " Path('/home/pheenix/Development/seqdata/test_data/battery/train/Sim_RealisticCycle1.hdf5'))"
      ]
     },
     "execution_count": null,
     "metadata": {},
     "output_type": "execute_result"
    }
   ],
   "source": [
    "hdf_files = get_hdf_files(f_path)\n",
    "len(hdf_files),hdf_files[0]"
   ]
  },
  {
   "cell_type": "markdown",
   "metadata": {},
   "source": [
    "### 1.2 Create Source Dictionaries\n",
    "In order to extract mulitple realizations of one file with different modifications, we create a list of properties. Pandas Dataframes are to slow for iteration but very fast and convenient for creations. So after creation of the pandas Dataframe we convert it to a list of dictionaries."
   ]
  },
  {
   "cell_type": "code",
   "execution_count": null,
   "metadata": {},
   "outputs": [],
   "source": [
    "#| export\n",
    "def apply_df_tfms(src,pd_tfms = None):\n",
    "    '''Create Pandas Dataframe out of a list of items, with a list of df transforms applied'''\n",
    "    if type(src) is pd.DataFrame:\n",
    "        df = src\n",
    "    else:\n",
    "        df = pd.DataFrame(data=src.items,columns=['path'],dtype=str)\n",
    "    if pd_tfms is not None:\n",
    "        for t in pd_tfms:\n",
    "            df = t(df)\n",
    "    return df"
   ]
  },
  {
   "cell_type": "code",
   "execution_count": null,
   "metadata": {},
   "outputs": [
    {
     "data": {
      "text/html": [
       "<div>\n",
       "<style scoped>\n",
       "    .dataframe tbody tr th:only-of-type {\n",
       "        vertical-align: middle;\n",
       "    }\n",
       "\n",
       "    .dataframe tbody tr th {\n",
       "        vertical-align: top;\n",
       "    }\n",
       "\n",
       "    .dataframe thead th {\n",
       "        text-align: right;\n",
       "    }\n",
       "</style>\n",
       "<table border=\"1\" class=\"dataframe\">\n",
       "  <thead>\n",
       "    <tr style=\"text-align: right;\">\n",
       "      <th></th>\n",
       "      <th>path</th>\n",
       "    </tr>\n",
       "  </thead>\n",
       "  <tbody>\n",
       "    <tr>\n",
       "      <th>0</th>\n",
       "      <td>/home/pheenix/Development/seqdata/test_data/battery/train/Sim_RealisticCycle1.hdf5</td>\n",
       "    </tr>\n",
       "    <tr>\n",
       "      <th>1</th>\n",
       "      <td>/home/pheenix/Development/seqdata/test_data/battery/train/Sim_RealisticCycle2.hdf5</td>\n",
       "    </tr>\n",
       "    <tr>\n",
       "      <th>2</th>\n",
       "      <td>/home/pheenix/Development/seqdata/test_data/battery/valid/Sim_RealisticCycle3.hdf5</td>\n",
       "    </tr>\n",
       "  </tbody>\n",
       "</table>\n",
       "</div>"
      ],
      "text/plain": [
       "                                                                                 path\n",
       "0  /home/pheenix/Development/seqdata/test_data/battery/train/Sim_RealisticCycle1.hdf5\n",
       "1  /home/pheenix/Development/seqdata/test_data/battery/train/Sim_RealisticCycle2.hdf5\n",
       "2  /home/pheenix/Development/seqdata/test_data/battery/valid/Sim_RealisticCycle3.hdf5"
      ]
     },
     "execution_count": null,
     "metadata": {},
     "output_type": "execute_result"
    }
   ],
   "source": [
    "df = apply_df_tfms(hdf_files)\n",
    "df.head()"
   ]
  },
  {
   "cell_type": "code",
   "execution_count": null,
   "metadata": {},
   "outputs": [],
   "source": [
    "test_eq(apply_df_tfms(hdf_files),apply_df_tfms(apply_df_tfms(hdf_files)))"
   ]
  },
  {
   "cell_type": "code",
   "execution_count": null,
   "metadata": {},
   "outputs": [],
   "source": [
    "#| export\n",
    "def CreateDict(pd_tfms = None):\n",
    "    '''Create List of Dictionarys out of a list of items, with a list of df transforms applied'''\n",
    "    def _inner(src):\n",
    "        df = apply_df_tfms(src,pd_tfms)\n",
    "#         df_dict_list = df.to_dict(orient='records') native to_dict is slower than self written approach\n",
    "        df_values = df.values\n",
    "        df_dict = {name:list(df_values[:,i]) for (i,name) in enumerate(df.columns)}\n",
    "        df_dict_list = [{name: df_dict[name][i] for name in df_dict} for i in range(len(df))]\n",
    "        return df_dict_list\n",
    "    return _inner"
   ]
  },
  {
   "cell_type": "code",
   "execution_count": null,
   "metadata": {},
   "outputs": [
    {
     "data": {
      "text/plain": [
       "[{'path': '/home/pheenix/Development/seqdata/test_data/battery/train/Sim_RealisticCycle1.hdf5'},\n",
       " {'path': '/home/pheenix/Development/seqdata/test_data/battery/train/Sim_RealisticCycle2.hdf5'},\n",
       " {'path': '/home/pheenix/Development/seqdata/test_data/battery/valid/Sim_RealisticCycle3.hdf5'}]"
      ]
     },
     "execution_count": null,
     "metadata": {},
     "output_type": "execute_result"
    }
   ],
   "source": [
    "l_dict =CreateDict()(hdf_files)\n",
    "l_dict"
   ]
  },
  {
   "cell_type": "code",
   "execution_count": null,
   "metadata": {},
   "outputs": [],
   "source": [
    "#| export\n",
    "def ValidClmContains(lst_valid):\n",
    "    '''add validation column using a list of strings that are part of the validation frames'''\n",
    "    def _inner(df):\n",
    "        re_valid = '|'.join([re.escape(f) for f in lst_valid])\n",
    "        df['valid'] = df.path.str.contains(re_valid)\n",
    "        return df\n",
    "\n",
    "    return _inner"
   ]
  },
  {
   "cell_type": "code",
   "execution_count": null,
   "metadata": {},
   "outputs": [
    {
     "name": "stdout",
     "output_type": "stream",
     "text": [
      "CPU times: user 744 µs, sys: 141 µs, total: 885 µs\n",
      "Wall time: 884 µs\n"
     ]
    },
    {
     "data": {
      "text/plain": [
       "[{'path': '/home/pheenix/Development/seqdata/test_data/battery/train/Sim_RealisticCycle1.hdf5',\n",
       "  'valid': False},\n",
       " {'path': '/home/pheenix/Development/seqdata/test_data/battery/train/Sim_RealisticCycle2.hdf5',\n",
       "  'valid': False},\n",
       " {'path': '/home/pheenix/Development/seqdata/test_data/battery/valid/Sim_RealisticCycle3.hdf5',\n",
       "  'valid': True}]"
      ]
     },
     "execution_count": null,
     "metadata": {},
     "output_type": "execute_result"
    }
   ],
   "source": [
    "%%time\n",
    "lst_valid = ['valid']\n",
    "CreateDict([ValidClmContains(lst_valid)])(hdf_files)"
   ]
  },
  {
   "cell_type": "code",
   "execution_count": null,
   "metadata": {},
   "outputs": [],
   "source": [
    "#| export\n",
    "def ValidClmIs(lst_valid):\n",
    "    '''adds validation column using a list of validation filenames'''\n",
    "    def _inner(df):\n",
    "        df['valid'] = df.path.isin([str(f) for f in lst_valid])\n",
    "        return df\n",
    "\n",
    "    return _inner"
   ]
  },
  {
   "cell_type": "code",
   "execution_count": null,
   "metadata": {},
   "outputs": [
    {
     "name": "stdout",
     "output_type": "stream",
     "text": [
      "CPU times: user 461 µs, sys: 86 µs, total: 547 µs\n",
      "Wall time: 544 µs\n"
     ]
    },
    {
     "data": {
      "text/plain": [
       "[{'path': '/home/pheenix/Development/seqdata/test_data/battery/train/Sim_RealisticCycle1.hdf5',\n",
       "  'valid': False},\n",
       " {'path': '/home/pheenix/Development/seqdata/test_data/battery/train/Sim_RealisticCycle2.hdf5',\n",
       "  'valid': False},\n",
       " {'path': '/home/pheenix/Development/seqdata/test_data/battery/valid/Sim_RealisticCycle3.hdf5',\n",
       "  'valid': False}]"
      ]
     },
     "execution_count": null,
     "metadata": {},
     "output_type": "execute_result"
    }
   ],
   "source": [
    "%%time\n",
    "lst_valid = ['test_data/battery/train/Sim_RealisticCycle2.hdf5','test_data/battery/valid/Sim_RealisticCycle3.hdf5']\n",
    "CreateDict([ValidClmIs(lst_valid)])(hdf_files)"
   ]
  },
  {
   "cell_type": "code",
   "execution_count": null,
   "metadata": {},
   "outputs": [],
   "source": [
    "#| export\n",
    "def FilterClm(clm_name,func = lambda x:x):\n",
    "    '''adds validation column using a list of validation filenames'''\n",
    "    def _inner(df):\n",
    "        return df[func(df[clm_name])]\n",
    "\n",
    "    return _inner"
   ]
  },
  {
   "cell_type": "code",
   "execution_count": null,
   "metadata": {},
   "outputs": [
    {
     "data": {
      "text/plain": [
       "[]"
      ]
     },
     "execution_count": null,
     "metadata": {},
     "output_type": "execute_result"
    }
   ],
   "source": [
    "CreateDict([ValidClmIs(lst_valid),FilterClm('valid')])(hdf_files)"
   ]
  },
  {
   "cell_type": "code",
   "execution_count": null,
   "metadata": {},
   "outputs": [],
   "source": [
    "#| export\n",
    "def get_hdf_seq_len(df,clm,ds=None):\n",
    "    '''extract the sequence length of the dataset with the 'clm' name and 'f_path' path  '''\n",
    "    with h5py.File(df['path'],'r') as f:\n",
    "        ds = f if 'dataset' not in df else f[df['dataset']]\n",
    "        f_len = max(ds[clm].shape)\n",
    "    return f_len "
   ]
  },
  {
   "cell_type": "code",
   "execution_count": null,
   "metadata": {},
   "outputs": [],
   "source": [
    "#| export\n",
    "def df_get_hdf_seq_len(df,clm,ds=None):\n",
    "    '''extracts the sequence length of every file in advance to prepare repeated window extractions with 'DfHDFCreateWindows' '''\n",
    "#     df['seq_len'] = ([get_hdf_seq_len(row.path,clm) for (idx, row) in df.iterrows()])\n",
    "    df['seq_len'] = df.apply(lambda x: get_hdf_seq_len(x,clm),axis=1)\n",
    "    return df"
   ]
  },
  {
   "cell_type": "code",
   "execution_count": null,
   "metadata": {},
   "outputs": [],
   "source": [
    "#| export\n",
    "def DfHDFGetSeqLen(clm):\n",
    "    def _inner(df):\n",
    "        return df_get_hdf_seq_len(df,clm)\n",
    "    return _inner"
   ]
  },
  {
   "cell_type": "code",
   "execution_count": null,
   "metadata": {},
   "outputs": [
    {
     "data": {
      "text/html": [
       "<div>\n",
       "<style scoped>\n",
       "    .dataframe tbody tr th:only-of-type {\n",
       "        vertical-align: middle;\n",
       "    }\n",
       "\n",
       "    .dataframe tbody tr th {\n",
       "        vertical-align: top;\n",
       "    }\n",
       "\n",
       "    .dataframe thead th {\n",
       "        text-align: right;\n",
       "    }\n",
       "</style>\n",
       "<table border=\"1\" class=\"dataframe\">\n",
       "  <thead>\n",
       "    <tr style=\"text-align: right;\">\n",
       "      <th></th>\n",
       "      <th>path</th>\n",
       "      <th>seq_len</th>\n",
       "    </tr>\n",
       "  </thead>\n",
       "  <tbody>\n",
       "    <tr>\n",
       "      <th>0</th>\n",
       "      <td>/home/pheenix/Development/seqdata/test_data/battery/train/Sim_RealisticCycle1.hdf5</td>\n",
       "      <td>265607</td>\n",
       "    </tr>\n",
       "    <tr>\n",
       "      <th>1</th>\n",
       "      <td>/home/pheenix/Development/seqdata/test_data/battery/train/Sim_RealisticCycle2.hdf5</td>\n",
       "      <td>265598</td>\n",
       "    </tr>\n",
       "    <tr>\n",
       "      <th>2</th>\n",
       "      <td>/home/pheenix/Development/seqdata/test_data/battery/valid/Sim_RealisticCycle3.hdf5</td>\n",
       "      <td>265593</td>\n",
       "    </tr>\n",
       "  </tbody>\n",
       "</table>\n",
       "</div>"
      ],
      "text/plain": [
       "                                                                                 path  \\\n",
       "0  /home/pheenix/Development/seqdata/test_data/battery/train/Sim_RealisticCycle1.hdf5   \n",
       "1  /home/pheenix/Development/seqdata/test_data/battery/train/Sim_RealisticCycle2.hdf5   \n",
       "2  /home/pheenix/Development/seqdata/test_data/battery/valid/Sim_RealisticCycle3.hdf5   \n",
       "\n",
       "   seq_len  \n",
       "0   265607  \n",
       "1   265598  \n",
       "2   265593  "
      ]
     },
     "execution_count": null,
     "metadata": {},
     "output_type": "execute_result"
    }
   ],
   "source": [
    "df_get_hdf_seq_len(df,'current')"
   ]
  },
  {
   "cell_type": "code",
   "execution_count": null,
   "metadata": {},
   "outputs": [
    {
     "data": {
      "text/html": [
       "<div>\n",
       "<style scoped>\n",
       "    .dataframe tbody tr th:only-of-type {\n",
       "        vertical-align: middle;\n",
       "    }\n",
       "\n",
       "    .dataframe tbody tr th {\n",
       "        vertical-align: top;\n",
       "    }\n",
       "\n",
       "    .dataframe thead th {\n",
       "        text-align: right;\n",
       "    }\n",
       "</style>\n",
       "<table border=\"1\" class=\"dataframe\">\n",
       "  <thead>\n",
       "    <tr style=\"text-align: right;\">\n",
       "      <th></th>\n",
       "      <th>path</th>\n",
       "      <th>seq_len</th>\n",
       "    </tr>\n",
       "  </thead>\n",
       "  <tbody>\n",
       "    <tr>\n",
       "      <th>0</th>\n",
       "      <td>/home/pheenix/Development/seqdata/test_data/battery/train/Sim_RealisticCycle1.hdf5</td>\n",
       "      <td>265607</td>\n",
       "    </tr>\n",
       "    <tr>\n",
       "      <th>1</th>\n",
       "      <td>/home/pheenix/Development/seqdata/test_data/battery/train/Sim_RealisticCycle2.hdf5</td>\n",
       "      <td>265598</td>\n",
       "    </tr>\n",
       "    <tr>\n",
       "      <th>2</th>\n",
       "      <td>/home/pheenix/Development/seqdata/test_data/battery/valid/Sim_RealisticCycle3.hdf5</td>\n",
       "      <td>265593</td>\n",
       "    </tr>\n",
       "  </tbody>\n",
       "</table>\n",
       "</div>"
      ],
      "text/plain": [
       "                                                                                 path  \\\n",
       "0  /home/pheenix/Development/seqdata/test_data/battery/train/Sim_RealisticCycle1.hdf5   \n",
       "1  /home/pheenix/Development/seqdata/test_data/battery/train/Sim_RealisticCycle2.hdf5   \n",
       "2  /home/pheenix/Development/seqdata/test_data/battery/valid/Sim_RealisticCycle3.hdf5   \n",
       "\n",
       "   seq_len  \n",
       "0   265607  \n",
       "1   265598  \n",
       "2   265593  "
      ]
     },
     "execution_count": null,
     "metadata": {},
     "output_type": "execute_result"
    }
   ],
   "source": [
    "DfHDFGetSeqLen('current')(df)"
   ]
  },
  {
   "cell_type": "code",
   "execution_count": null,
   "metadata": {},
   "outputs": [],
   "source": [
    "#| export\n",
    "import numbers\n",
    "def DfResamplingFactor(src_fs,lst_targ_fs):\n",
    "    if not isinstance(src_fs, numbers.Number) and not type(src_fs) is str: \n",
    "        raise ValueError('src_fs has to be a column name or a fixed number')\n",
    "    \n",
    "    def _inner(df):\n",
    "        np_targ_fs = array(lst_targ_fs)\n",
    "        pd.options.mode.chained_assignment = None #every row is a reference so we need to suppress the warning messages while copying\n",
    "\n",
    "        #repeat entries for every target fs\n",
    "        res_df = df.iloc[np.repeat(np.arange(len(df)),len(np_targ_fs))] \n",
    "        targ_fs = np.tile(np_targ_fs,len(df))\n",
    "        res_df['targ_fs'] = targ_fs\n",
    "        \n",
    "        if isinstance(src_fs, numbers.Number):\n",
    "            #src_fs is a fixed number\n",
    "            res_df['resampling_factor'] = targ_fs/src_fs\n",
    "        else:\n",
    "            #src_fs is a column name of the df\n",
    "            res_df['resampling_factor'] = targ_fs/res_df[src_fs]\n",
    "\n",
    "        pd.options.mode.chained_assignment = 'warn'\n",
    "        \n",
    "        return res_df\n",
    "    return _inner"
   ]
  },
  {
   "cell_type": "code",
   "execution_count": null,
   "metadata": {},
   "outputs": [],
   "source": [
    "targ_fs = [50,100,300]\n",
    "test_eq(len(DfResamplingFactor(100,targ_fs)(df)),9)   \n",
    "df['src_fs'] = 200.\n",
    "test_eq(len(DfResamplingFactor('src_fs',targ_fs)(df)),9)"
   ]
  },
  {
   "cell_type": "code",
   "execution_count": null,
   "metadata": {},
   "outputs": [],
   "source": [
    "#| export\n",
    "def DfHDFCreateWindows(win_sz,stp_sz, clm, fixed_start = False, fixed_end = False):\n",
    "    '''create windows of sequences, splits sequence into multiple items'''\n",
    "    def _inner(df):\n",
    "        if fixed_start and fixed_end: raise Exception\n",
    "        \n",
    "        if 'seq_len' in df:\n",
    "            np_f_len = df.seq_len.values\n",
    "        else:\n",
    "            np_f_len = np.array([get_hdf_seq_len(row,clm) for (idx, row) in df.iterrows()])\n",
    "            \n",
    "        if 'resampling_factor' in df: np_f_len =(np_f_len*df.resampling_factor.values).astype(int)\n",
    "            \n",
    "        n_win = ((np_f_len-win_sz)//stp_sz)+1\n",
    "        #cast array n_win to int and clip negative values to 0\n",
    "        n_win = n_win.astype(int)\n",
    "        n_win = np.clip(n_win,a_min=0,a_max=None) #remove negative values at instances where the winsize is smaller than the seq_len\n",
    "        lst_idx = np.arange(len(np_f_len))\n",
    "        \n",
    "        pd.options.mode.chained_assignment = None #every row is a reference so we need to suppress the warning messages while copying\n",
    "        \n",
    "        res_df = df.iloc[np.repeat(lst_idx,n_win)]\n",
    "#         res_df = df.loc[np.repeat(lst_idx,n_win)] #the loc variant as a little bit slower because it creates copies and returns wrong values with redundant indexes, but is more robust\n",
    "\n",
    "        step_idx = np.concatenate([np.arange(x) for x in n_win])\n",
    "    \n",
    "        \n",
    "        res_df['l_slc'] = step_idx*stp_sz if not fixed_start else None\n",
    "        res_df['r_slc'] = step_idx*stp_sz + win_sz if not fixed_end else None\n",
    "            \n",
    "        pd.options.mode.chained_assignment = 'warn'\n",
    "            \n",
    "        return res_df\n",
    "    \n",
    "    return _inner"
   ]
  },
  {
   "cell_type": "code",
   "execution_count": null,
   "metadata": {},
   "outputs": [
    {
     "name": "stdout",
     "output_type": "stream",
     "text": [
      "CPU times: user 800 µs, sys: 155 µs, total: 955 µs\n",
      "Wall time: 842 µs\n"
     ]
    },
    {
     "data": {
      "text/html": [
       "<div>\n",
       "<style scoped>\n",
       "    .dataframe tbody tr th:only-of-type {\n",
       "        vertical-align: middle;\n",
       "    }\n",
       "\n",
       "    .dataframe tbody tr th {\n",
       "        vertical-align: top;\n",
       "    }\n",
       "\n",
       "    .dataframe thead th {\n",
       "        text-align: right;\n",
       "    }\n",
       "</style>\n",
       "<table border=\"1\" class=\"dataframe\">\n",
       "  <thead>\n",
       "    <tr style=\"text-align: right;\">\n",
       "      <th></th>\n",
       "      <th>path</th>\n",
       "      <th>seq_len</th>\n",
       "      <th>src_fs</th>\n",
       "      <th>l_slc</th>\n",
       "      <th>r_slc</th>\n",
       "    </tr>\n",
       "  </thead>\n",
       "  <tbody>\n",
       "    <tr>\n",
       "      <th>0</th>\n",
       "      <td>/home/pheenix/Development/seqdata/test_data/battery/train/Sim_RealisticCycle1.hdf5</td>\n",
       "      <td>265607</td>\n",
       "      <td>200.0</td>\n",
       "      <td>0</td>\n",
       "      <td>100.2</td>\n",
       "    </tr>\n",
       "    <tr>\n",
       "      <th>0</th>\n",
       "      <td>/home/pheenix/Development/seqdata/test_data/battery/train/Sim_RealisticCycle1.hdf5</td>\n",
       "      <td>265607</td>\n",
       "      <td>200.0</td>\n",
       "      <td>100</td>\n",
       "      <td>200.2</td>\n",
       "    </tr>\n",
       "    <tr>\n",
       "      <th>0</th>\n",
       "      <td>/home/pheenix/Development/seqdata/test_data/battery/train/Sim_RealisticCycle1.hdf5</td>\n",
       "      <td>265607</td>\n",
       "      <td>200.0</td>\n",
       "      <td>200</td>\n",
       "      <td>300.2</td>\n",
       "    </tr>\n",
       "    <tr>\n",
       "      <th>0</th>\n",
       "      <td>/home/pheenix/Development/seqdata/test_data/battery/train/Sim_RealisticCycle1.hdf5</td>\n",
       "      <td>265607</td>\n",
       "      <td>200.0</td>\n",
       "      <td>300</td>\n",
       "      <td>400.2</td>\n",
       "    </tr>\n",
       "    <tr>\n",
       "      <th>0</th>\n",
       "      <td>/home/pheenix/Development/seqdata/test_data/battery/train/Sim_RealisticCycle1.hdf5</td>\n",
       "      <td>265607</td>\n",
       "      <td>200.0</td>\n",
       "      <td>400</td>\n",
       "      <td>500.2</td>\n",
       "    </tr>\n",
       "    <tr>\n",
       "      <th>...</th>\n",
       "      <td>...</td>\n",
       "      <td>...</td>\n",
       "      <td>...</td>\n",
       "      <td>...</td>\n",
       "      <td>...</td>\n",
       "    </tr>\n",
       "    <tr>\n",
       "      <th>2</th>\n",
       "      <td>/home/pheenix/Development/seqdata/test_data/battery/valid/Sim_RealisticCycle3.hdf5</td>\n",
       "      <td>265593</td>\n",
       "      <td>200.0</td>\n",
       "      <td>265000</td>\n",
       "      <td>265100.2</td>\n",
       "    </tr>\n",
       "    <tr>\n",
       "      <th>2</th>\n",
       "      <td>/home/pheenix/Development/seqdata/test_data/battery/valid/Sim_RealisticCycle3.hdf5</td>\n",
       "      <td>265593</td>\n",
       "      <td>200.0</td>\n",
       "      <td>265100</td>\n",
       "      <td>265200.2</td>\n",
       "    </tr>\n",
       "    <tr>\n",
       "      <th>2</th>\n",
       "      <td>/home/pheenix/Development/seqdata/test_data/battery/valid/Sim_RealisticCycle3.hdf5</td>\n",
       "      <td>265593</td>\n",
       "      <td>200.0</td>\n",
       "      <td>265200</td>\n",
       "      <td>265300.2</td>\n",
       "    </tr>\n",
       "    <tr>\n",
       "      <th>2</th>\n",
       "      <td>/home/pheenix/Development/seqdata/test_data/battery/valid/Sim_RealisticCycle3.hdf5</td>\n",
       "      <td>265593</td>\n",
       "      <td>200.0</td>\n",
       "      <td>265300</td>\n",
       "      <td>265400.2</td>\n",
       "    </tr>\n",
       "    <tr>\n",
       "      <th>2</th>\n",
       "      <td>/home/pheenix/Development/seqdata/test_data/battery/valid/Sim_RealisticCycle3.hdf5</td>\n",
       "      <td>265593</td>\n",
       "      <td>200.0</td>\n",
       "      <td>265400</td>\n",
       "      <td>265500.2</td>\n",
       "    </tr>\n",
       "  </tbody>\n",
       "</table>\n",
       "<p>7966 rows × 5 columns</p>\n",
       "</div>"
      ],
      "text/plain": [
       "                                                                                  path  \\\n",
       "0   /home/pheenix/Development/seqdata/test_data/battery/train/Sim_RealisticCycle1.hdf5   \n",
       "0   /home/pheenix/Development/seqdata/test_data/battery/train/Sim_RealisticCycle1.hdf5   \n",
       "0   /home/pheenix/Development/seqdata/test_data/battery/train/Sim_RealisticCycle1.hdf5   \n",
       "0   /home/pheenix/Development/seqdata/test_data/battery/train/Sim_RealisticCycle1.hdf5   \n",
       "0   /home/pheenix/Development/seqdata/test_data/battery/train/Sim_RealisticCycle1.hdf5   \n",
       "..                                                                                 ...   \n",
       "2   /home/pheenix/Development/seqdata/test_data/battery/valid/Sim_RealisticCycle3.hdf5   \n",
       "2   /home/pheenix/Development/seqdata/test_data/battery/valid/Sim_RealisticCycle3.hdf5   \n",
       "2   /home/pheenix/Development/seqdata/test_data/battery/valid/Sim_RealisticCycle3.hdf5   \n",
       "2   /home/pheenix/Development/seqdata/test_data/battery/valid/Sim_RealisticCycle3.hdf5   \n",
       "2   /home/pheenix/Development/seqdata/test_data/battery/valid/Sim_RealisticCycle3.hdf5   \n",
       "\n",
       "    seq_len  src_fs   l_slc     r_slc  \n",
       "0    265607   200.0       0     100.2  \n",
       "0    265607   200.0     100     200.2  \n",
       "0    265607   200.0     200     300.2  \n",
       "0    265607   200.0     300     400.2  \n",
       "0    265607   200.0     400     500.2  \n",
       "..      ...     ...     ...       ...  \n",
       "2    265593   200.0  265000  265100.2  \n",
       "2    265593   200.0  265100  265200.2  \n",
       "2    265593   200.0  265200  265300.2  \n",
       "2    265593   200.0  265300  265400.2  \n",
       "2    265593   200.0  265400  265500.2  \n",
       "\n",
       "[7966 rows x 5 columns]"
      ]
     },
     "execution_count": null,
     "metadata": {},
     "output_type": "execute_result"
    }
   ],
   "source": [
    "%%time\n",
    "create_win = DfHDFCreateWindows(win_sz=100.2,stp_sz=100,clm='current')\n",
    "win_df = create_win(df)\n",
    "win_df"
   ]
  },
  {
   "cell_type": "code",
   "execution_count": null,
   "metadata": {},
   "outputs": [
    {
     "data": {
      "text/html": [
       "<div>\n",
       "<style scoped>\n",
       "    .dataframe tbody tr th:only-of-type {\n",
       "        vertical-align: middle;\n",
       "    }\n",
       "\n",
       "    .dataframe tbody tr th {\n",
       "        vertical-align: top;\n",
       "    }\n",
       "\n",
       "    .dataframe thead th {\n",
       "        text-align: right;\n",
       "    }\n",
       "</style>\n",
       "<table border=\"1\" class=\"dataframe\">\n",
       "  <thead>\n",
       "    <tr style=\"text-align: right;\">\n",
       "      <th></th>\n",
       "      <th>path</th>\n",
       "      <th>seq_len</th>\n",
       "      <th>src_fs</th>\n",
       "      <th>l_slc</th>\n",
       "      <th>r_slc</th>\n",
       "    </tr>\n",
       "  </thead>\n",
       "  <tbody>\n",
       "    <tr>\n",
       "      <th>0</th>\n",
       "      <td>/home/pheenix/Development/seqdata/test_data/battery/train/Sim_RealisticCycle1.hdf5</td>\n",
       "      <td>265607</td>\n",
       "      <td>200.0</td>\n",
       "      <td>0</td>\n",
       "      <td>265594</td>\n",
       "    </tr>\n",
       "    <tr>\n",
       "      <th>1</th>\n",
       "      <td>/home/pheenix/Development/seqdata/test_data/battery/train/Sim_RealisticCycle2.hdf5</td>\n",
       "      <td>265598</td>\n",
       "      <td>200.0</td>\n",
       "      <td>0</td>\n",
       "      <td>265594</td>\n",
       "    </tr>\n",
       "  </tbody>\n",
       "</table>\n",
       "</div>"
      ],
      "text/plain": [
       "                                                                                 path  \\\n",
       "0  /home/pheenix/Development/seqdata/test_data/battery/train/Sim_RealisticCycle1.hdf5   \n",
       "1  /home/pheenix/Development/seqdata/test_data/battery/train/Sim_RealisticCycle2.hdf5   \n",
       "\n",
       "   seq_len  src_fs  l_slc   r_slc  \n",
       "0   265607   200.0      0  265594  \n",
       "1   265598   200.0      0  265594  "
      ]
     },
     "execution_count": null,
     "metadata": {},
     "output_type": "execute_result"
    }
   ],
   "source": [
    "win_df = DfHDFCreateWindows(win_sz=265594,stp_sz=100,clm='current')(df)\n",
    "test_eq(len(win_df),2)\n",
    "win_df"
   ]
  },
  {
   "cell_type": "code",
   "execution_count": null,
   "metadata": {},
   "outputs": [],
   "source": [
    "test_eq(create_win(df_get_hdf_seq_len(df,'current')) , create_win(df))"
   ]
  },
  {
   "cell_type": "code",
   "execution_count": null,
   "metadata": {},
   "outputs": [
    {
     "data": {
      "text/html": [
       "<div>\n",
       "<style scoped>\n",
       "    .dataframe tbody tr th:only-of-type {\n",
       "        vertical-align: middle;\n",
       "    }\n",
       "\n",
       "    .dataframe tbody tr th {\n",
       "        vertical-align: top;\n",
       "    }\n",
       "\n",
       "    .dataframe thead th {\n",
       "        text-align: right;\n",
       "    }\n",
       "</style>\n",
       "<table border=\"1\" class=\"dataframe\">\n",
       "  <thead>\n",
       "    <tr style=\"text-align: right;\">\n",
       "      <th></th>\n",
       "      <th>path</th>\n",
       "      <th>seq_len</th>\n",
       "      <th>src_fs</th>\n",
       "      <th>targ_fs</th>\n",
       "      <th>resampling_factor</th>\n",
       "      <th>l_slc</th>\n",
       "      <th>r_slc</th>\n",
       "    </tr>\n",
       "  </thead>\n",
       "  <tbody>\n",
       "    <tr>\n",
       "      <th>0</th>\n",
       "      <td>/home/pheenix/Development/seqdata/test_data/battery/train/Sim_RealisticCycle1.hdf5</td>\n",
       "      <td>265607</td>\n",
       "      <td>200.0</td>\n",
       "      <td>0.1</td>\n",
       "      <td>0.0005</td>\n",
       "      <td>0</td>\n",
       "      <td>100.2</td>\n",
       "    </tr>\n",
       "    <tr>\n",
       "      <th>1</th>\n",
       "      <td>/home/pheenix/Development/seqdata/test_data/battery/train/Sim_RealisticCycle2.hdf5</td>\n",
       "      <td>265598</td>\n",
       "      <td>200.0</td>\n",
       "      <td>0.1</td>\n",
       "      <td>0.0005</td>\n",
       "      <td>0</td>\n",
       "      <td>100.2</td>\n",
       "    </tr>\n",
       "    <tr>\n",
       "      <th>2</th>\n",
       "      <td>/home/pheenix/Development/seqdata/test_data/battery/valid/Sim_RealisticCycle3.hdf5</td>\n",
       "      <td>265593</td>\n",
       "      <td>200.0</td>\n",
       "      <td>0.1</td>\n",
       "      <td>0.0005</td>\n",
       "      <td>0</td>\n",
       "      <td>100.2</td>\n",
       "    </tr>\n",
       "  </tbody>\n",
       "</table>\n",
       "</div>"
      ],
      "text/plain": [
       "                                                                                 path  \\\n",
       "0  /home/pheenix/Development/seqdata/test_data/battery/train/Sim_RealisticCycle1.hdf5   \n",
       "1  /home/pheenix/Development/seqdata/test_data/battery/train/Sim_RealisticCycle2.hdf5   \n",
       "2  /home/pheenix/Development/seqdata/test_data/battery/valid/Sim_RealisticCycle3.hdf5   \n",
       "\n",
       "   seq_len  src_fs  targ_fs  resampling_factor  l_slc  r_slc  \n",
       "0   265607   200.0      0.1             0.0005      0  100.2  \n",
       "1   265598   200.0      0.1             0.0005      0  100.2  \n",
       "2   265593   200.0      0.1             0.0005      0  100.2  "
      ]
     },
     "execution_count": null,
     "metadata": {},
     "output_type": "execute_result"
    }
   ],
   "source": [
    "res_win_df = create_win(DfResamplingFactor(200,[0.1])(df))\n",
    "res_win_df"
   ]
  },
  {
   "cell_type": "code",
   "execution_count": null,
   "metadata": {},
   "outputs": [],
   "source": [
    "test_eq(len(res_win_df),3)"
   ]
  },
  {
   "cell_type": "code",
   "execution_count": null,
   "metadata": {},
   "outputs": [
    {
     "data": {
      "text/html": [
       "<div>\n",
       "<style scoped>\n",
       "    .dataframe tbody tr th:only-of-type {\n",
       "        vertical-align: middle;\n",
       "    }\n",
       "\n",
       "    .dataframe tbody tr th {\n",
       "        vertical-align: top;\n",
       "    }\n",
       "\n",
       "    .dataframe thead th {\n",
       "        text-align: right;\n",
       "    }\n",
       "</style>\n",
       "<table border=\"1\" class=\"dataframe\">\n",
       "  <thead>\n",
       "    <tr style=\"text-align: right;\">\n",
       "      <th></th>\n",
       "      <th>path</th>\n",
       "      <th>seq_len</th>\n",
       "      <th>src_fs</th>\n",
       "      <th>l_slc</th>\n",
       "      <th>r_slc</th>\n",
       "    </tr>\n",
       "  </thead>\n",
       "  <tbody>\n",
       "    <tr>\n",
       "      <th>0</th>\n",
       "      <td>/home/pheenix/Development/seqdata/test_data/battery/train/Sim_RealisticCycle1.hdf5</td>\n",
       "      <td>265607</td>\n",
       "      <td>200.0</td>\n",
       "      <td>0</td>\n",
       "      <td>265594</td>\n",
       "    </tr>\n",
       "    <tr>\n",
       "      <th>1</th>\n",
       "      <td>/home/pheenix/Development/seqdata/test_data/battery/train/Sim_RealisticCycle2.hdf5</td>\n",
       "      <td>265598</td>\n",
       "      <td>200.0</td>\n",
       "      <td>0</td>\n",
       "      <td>265594</td>\n",
       "    </tr>\n",
       "  </tbody>\n",
       "</table>\n",
       "</div>"
      ],
      "text/plain": [
       "                                                                                 path  \\\n",
       "0  /home/pheenix/Development/seqdata/test_data/battery/train/Sim_RealisticCycle1.hdf5   \n",
       "1  /home/pheenix/Development/seqdata/test_data/battery/train/Sim_RealisticCycle2.hdf5   \n",
       "\n",
       "   seq_len  src_fs  l_slc   r_slc  \n",
       "0   265607   200.0      0  265594  \n",
       "1   265598   200.0      0  265594  "
      ]
     },
     "execution_count": null,
     "metadata": {},
     "output_type": "execute_result"
    }
   ],
   "source": [
    "query_expr = 'l_slc <= 200'\n",
    "filt_df = win_df.query(query_expr)\n",
    "filt_df"
   ]
  },
  {
   "cell_type": "code",
   "execution_count": null,
   "metadata": {},
   "outputs": [],
   "source": [
    "#| export\n",
    "def DfApplyFuncSplit(split_func,func1,func2):\n",
    "    '''apply two different functions on the dataframe, func1 on the first indices of split_func, func2 on the second indices.\n",
    "        Split_func is a Training, Validation split function'''\n",
    "    def _inner(df):\n",
    "        (idxs1,idxs2) = split_func(df.path)\n",
    "        df1= func1(df.iloc[idxs1])\n",
    "        df2= func2(df.iloc[idxs2])\n",
    "        return pd.concat((df1,df2))\n",
    "    return _inner"
   ]
  },
  {
   "cell_type": "code",
   "execution_count": null,
   "metadata": {},
   "outputs": [
    {
     "data": {
      "text/html": [
       "<div>\n",
       "<style scoped>\n",
       "    .dataframe tbody tr th:only-of-type {\n",
       "        vertical-align: middle;\n",
       "    }\n",
       "\n",
       "    .dataframe tbody tr th {\n",
       "        vertical-align: top;\n",
       "    }\n",
       "\n",
       "    .dataframe thead th {\n",
       "        text-align: right;\n",
       "    }\n",
       "</style>\n",
       "<table border=\"1\" class=\"dataframe\">\n",
       "  <thead>\n",
       "    <tr style=\"text-align: right;\">\n",
       "      <th></th>\n",
       "      <th>path</th>\n",
       "      <th>seq_len</th>\n",
       "      <th>src_fs</th>\n",
       "      <th>l_slc</th>\n",
       "      <th>r_slc</th>\n",
       "    </tr>\n",
       "  </thead>\n",
       "  <tbody>\n",
       "    <tr>\n",
       "      <th>0</th>\n",
       "      <td>/home/pheenix/Development/seqdata/test_data/battery/train/Sim_RealisticCycle1.hdf5</td>\n",
       "      <td>265607</td>\n",
       "      <td>200.0</td>\n",
       "      <td>0</td>\n",
       "      <td>10000</td>\n",
       "    </tr>\n",
       "    <tr>\n",
       "      <th>0</th>\n",
       "      <td>/home/pheenix/Development/seqdata/test_data/battery/train/Sim_RealisticCycle1.hdf5</td>\n",
       "      <td>265607</td>\n",
       "      <td>200.0</td>\n",
       "      <td>1</td>\n",
       "      <td>10001</td>\n",
       "    </tr>\n",
       "    <tr>\n",
       "      <th>0</th>\n",
       "      <td>/home/pheenix/Development/seqdata/test_data/battery/train/Sim_RealisticCycle1.hdf5</td>\n",
       "      <td>265607</td>\n",
       "      <td>200.0</td>\n",
       "      <td>2</td>\n",
       "      <td>10002</td>\n",
       "    </tr>\n",
       "    <tr>\n",
       "      <th>0</th>\n",
       "      <td>/home/pheenix/Development/seqdata/test_data/battery/train/Sim_RealisticCycle1.hdf5</td>\n",
       "      <td>265607</td>\n",
       "      <td>200.0</td>\n",
       "      <td>3</td>\n",
       "      <td>10003</td>\n",
       "    </tr>\n",
       "    <tr>\n",
       "      <th>0</th>\n",
       "      <td>/home/pheenix/Development/seqdata/test_data/battery/train/Sim_RealisticCycle1.hdf5</td>\n",
       "      <td>265607</td>\n",
       "      <td>200.0</td>\n",
       "      <td>4</td>\n",
       "      <td>10004</td>\n",
       "    </tr>\n",
       "    <tr>\n",
       "      <th>...</th>\n",
       "      <td>...</td>\n",
       "      <td>...</td>\n",
       "      <td>...</td>\n",
       "      <td>...</td>\n",
       "      <td>...</td>\n",
       "    </tr>\n",
       "    <tr>\n",
       "      <th>2</th>\n",
       "      <td>/home/pheenix/Development/seqdata/test_data/battery/valid/Sim_RealisticCycle3.hdf5</td>\n",
       "      <td>265593</td>\n",
       "      <td>200.0</td>\n",
       "      <td>210000</td>\n",
       "      <td>220000</td>\n",
       "    </tr>\n",
       "    <tr>\n",
       "      <th>2</th>\n",
       "      <td>/home/pheenix/Development/seqdata/test_data/battery/valid/Sim_RealisticCycle3.hdf5</td>\n",
       "      <td>265593</td>\n",
       "      <td>200.0</td>\n",
       "      <td>220000</td>\n",
       "      <td>230000</td>\n",
       "    </tr>\n",
       "    <tr>\n",
       "      <th>2</th>\n",
       "      <td>/home/pheenix/Development/seqdata/test_data/battery/valid/Sim_RealisticCycle3.hdf5</td>\n",
       "      <td>265593</td>\n",
       "      <td>200.0</td>\n",
       "      <td>230000</td>\n",
       "      <td>240000</td>\n",
       "    </tr>\n",
       "    <tr>\n",
       "      <th>2</th>\n",
       "      <td>/home/pheenix/Development/seqdata/test_data/battery/valid/Sim_RealisticCycle3.hdf5</td>\n",
       "      <td>265593</td>\n",
       "      <td>200.0</td>\n",
       "      <td>240000</td>\n",
       "      <td>250000</td>\n",
       "    </tr>\n",
       "    <tr>\n",
       "      <th>2</th>\n",
       "      <td>/home/pheenix/Development/seqdata/test_data/battery/valid/Sim_RealisticCycle3.hdf5</td>\n",
       "      <td>265593</td>\n",
       "      <td>200.0</td>\n",
       "      <td>250000</td>\n",
       "      <td>260000</td>\n",
       "    </tr>\n",
       "  </tbody>\n",
       "</table>\n",
       "<p>255660 rows × 5 columns</p>\n",
       "</div>"
      ],
      "text/plain": [
       "                                                                                  path  \\\n",
       "0   /home/pheenix/Development/seqdata/test_data/battery/train/Sim_RealisticCycle1.hdf5   \n",
       "0   /home/pheenix/Development/seqdata/test_data/battery/train/Sim_RealisticCycle1.hdf5   \n",
       "0   /home/pheenix/Development/seqdata/test_data/battery/train/Sim_RealisticCycle1.hdf5   \n",
       "0   /home/pheenix/Development/seqdata/test_data/battery/train/Sim_RealisticCycle1.hdf5   \n",
       "0   /home/pheenix/Development/seqdata/test_data/battery/train/Sim_RealisticCycle1.hdf5   \n",
       "..                                                                                 ...   \n",
       "2   /home/pheenix/Development/seqdata/test_data/battery/valid/Sim_RealisticCycle3.hdf5   \n",
       "2   /home/pheenix/Development/seqdata/test_data/battery/valid/Sim_RealisticCycle3.hdf5   \n",
       "2   /home/pheenix/Development/seqdata/test_data/battery/valid/Sim_RealisticCycle3.hdf5   \n",
       "2   /home/pheenix/Development/seqdata/test_data/battery/valid/Sim_RealisticCycle3.hdf5   \n",
       "2   /home/pheenix/Development/seqdata/test_data/battery/valid/Sim_RealisticCycle3.hdf5   \n",
       "\n",
       "    seq_len  src_fs   l_slc   r_slc  \n",
       "0    265607   200.0       0   10000  \n",
       "0    265607   200.0       1   10001  \n",
       "0    265607   200.0       2   10002  \n",
       "0    265607   200.0       3   10003  \n",
       "0    265607   200.0       4   10004  \n",
       "..      ...     ...     ...     ...  \n",
       "2    265593   200.0  210000  220000  \n",
       "2    265593   200.0  220000  230000  \n",
       "2    265593   200.0  230000  240000  \n",
       "2    265593   200.0  240000  250000  \n",
       "2    265593   200.0  250000  260000  \n",
       "\n",
       "[255660 rows x 5 columns]"
      ]
     },
     "execution_count": null,
     "metadata": {},
     "output_type": "execute_result"
    }
   ],
   "source": [
    "create_win_split = DfApplyFuncSplit(\n",
    "    IndexSplitter([1,2]),\n",
    "    DfHDFCreateWindows(win_sz=10000,stp_sz=1,clm='current'),\n",
    "    DfHDFCreateWindows(win_sz=10000,stp_sz=10000,clm='current')\n",
    ")\n",
    "create_win_split(df)"
   ]
  },
  {
   "cell_type": "code",
   "execution_count": null,
   "metadata": {},
   "outputs": [],
   "source": [
    "#| export\n",
    "def DfFilterQuery(query):\n",
    "    def _inner(df):\n",
    "        return df.query(query)\n",
    "    return _inner"
   ]
  },
  {
   "cell_type": "code",
   "execution_count": null,
   "metadata": {},
   "outputs": [],
   "source": [
    "test_eq(DfFilterQuery(query_expr)(win_df),filt_df)"
   ]
  },
  {
   "cell_type": "code",
   "execution_count": null,
   "metadata": {},
   "outputs": [
    {
     "name": "stdout",
     "output_type": "stream",
     "text": [
      "CPU times: user 44.1 ms, sys: 3.93 ms, total: 48.1 ms\n",
      "Wall time: 47.6 ms\n"
     ]
    },
    {
     "data": {
      "text/plain": [
       "[{'path': '/home/pheenix/Development/seqdata/test_data/battery/train/Sim_RealisticCycle1.hdf5',\n",
       "  'valid': False,\n",
       "  'l_slc': 0,\n",
       "  'r_slc': 101},\n",
       " {'path': '/home/pheenix/Development/seqdata/test_data/battery/train/Sim_RealisticCycle1.hdf5',\n",
       "  'valid': False,\n",
       "  'l_slc': 10,\n",
       "  'r_slc': 111},\n",
       " {'path': '/home/pheenix/Development/seqdata/test_data/battery/train/Sim_RealisticCycle1.hdf5',\n",
       "  'valid': False,\n",
       "  'l_slc': 20,\n",
       "  'r_slc': 121},\n",
       " {'path': '/home/pheenix/Development/seqdata/test_data/battery/train/Sim_RealisticCycle1.hdf5',\n",
       "  'valid': False,\n",
       "  'l_slc': 30,\n",
       "  'r_slc': 131},\n",
       " {'path': '/home/pheenix/Development/seqdata/test_data/battery/train/Sim_RealisticCycle1.hdf5',\n",
       "  'valid': False,\n",
       "  'l_slc': 40,\n",
       "  'r_slc': 141}]"
      ]
     },
     "execution_count": null,
     "metadata": {},
     "output_type": "execute_result"
    }
   ],
   "source": [
    "%%time\n",
    "tfm_src = CreateDict([ValidClmContains(['valid']),DfHDFCreateWindows(win_sz=100+1,stp_sz=10,clm='current')])\n",
    "src_dicts = tfm_src(hdf_files)\n",
    "src_dicts[:5]"
   ]
  },
  {
   "cell_type": "code",
   "execution_count": null,
   "metadata": {},
   "outputs": [],
   "source": [
    "#| export\n",
    "def DfDropClmExcept(clms = ['path','l_slc','r_slc','p_sample','resampling_factor']):\n",
    "    '''drop unused dataframe columns as a last optional step to accelerate dictionary conversion'''\n",
    "    def _inner(df):\n",
    "        return df[[c for c in clms if c in df]]\n",
    "    return _inner"
   ]
  },
  {
   "cell_type": "markdown",
   "metadata": {},
   "source": [
    "## 2. Convert Paths to Sequence Objects\n",
    "Der Pfad wird unter Angabe der Spaltennamen in Sequenzen und Skalare Werte umgewandelt, um so am Ende ein 3-Tupel zu erhalten aus:\n",
    "- (Sequence, Scalar, Sequence) <-> (input,input,output)"
   ]
  },
  {
   "cell_type": "markdown",
   "metadata": {},
   "source": [
    "### 2.1 Extract sequential data from hdf5-files\n",
    "Two different functions, based on pandas df and on lists"
   ]
  },
  {
   "cell_type": "markdown",
   "metadata": {},
   "source": [
    "#### 2.1.1 Shift time Series\n",
    "Sometimes we need to shift columns of a sequence by a specific value. Then we cant simply slice the array but have to handle each column individually. First a performance test has to be made."
   ]
  },
  {
   "cell_type": "code",
   "execution_count": null,
   "metadata": {},
   "outputs": [],
   "source": [
    "#| export\n",
    "def calc_shift_offsets(clm_shift):\n",
    "    clm_shift = array(clm_shift)\n",
    "    l_offs = -min(clm_shift.min(),0)\n",
    "    r_offs = -max(clm_shift.max(),0)\n",
    "    l_shift = clm_shift+l_offs\n",
    "    r_shift = clm_shift+r_offs\n",
    "    dim_red = l_offs-r_offs\n",
    "    return l_shift,r_shift,dim_red"
   ]
  },
  {
   "cell_type": "code",
   "execution_count": null,
   "metadata": {},
   "outputs": [
    {
     "data": {
      "text/plain": [
       "(array([1, 1, 0, 2]), array([-1, -1, -2,  0]), 2)"
      ]
     },
     "execution_count": null,
     "metadata": {},
     "output_type": "execute_result"
    }
   ],
   "source": [
    "shft = [0,0,-1,1]\n",
    "calc_shift_offsets(shft)"
   ]
  },
  {
   "cell_type": "markdown",
   "metadata": {},
   "source": [
    "both shifting methods have their own performance character. vstack needs double the time on short sequences, while the creation of a seperate array with copy becomes worse starting at around 5000 elements"
   ]
  },
  {
   "cell_type": "code",
   "execution_count": null,
   "metadata": {},
   "outputs": [],
   "source": [
    "# ta = array([[1,2,3]*2]*10000)"
   ]
  },
  {
   "cell_type": "code",
   "execution_count": null,
   "metadata": {},
   "outputs": [],
   "source": [
    "# %%timeit\n",
    "# y = np.vstack([ta[i:-ta.shape[1]+i,i] for i in range(ta.shape[1])]).T   "
   ]
  },
  {
   "cell_type": "code",
   "execution_count": null,
   "metadata": {},
   "outputs": [],
   "source": [
    "# %%timeit\n",
    "# x = np.zeros((ta.shape[0]-ta.shape[1],ta.shape[1]))\n",
    "# for i in range(ta.shape[1]):\n",
    "#     x[:,i] = ta[i:-ta.shape[1]+i,i]"
   ]
  },
  {
   "cell_type": "markdown",
   "metadata": {},
   "source": [
    "#### 2.1.2 HDF2Sequence\n",
    "HDF5 performance is massively affected by the dtype of the signals. f4 (32 bit floating point) Numbers are faster to load and lead to smaller files then f8 numbers."
   ]
  },
  {
   "cell_type": "code",
   "execution_count": null,
   "metadata": {},
   "outputs": [],
   "source": [
    "#| export\n",
    "def running_mean(x, N):\n",
    "    cumsum = np.cumsum(np.insert(x, 0, 0,axis=0),axis=0) \n",
    "    return (cumsum[N:] - cumsum[:-N]) / float(N)"
   ]
  },
  {
   "cell_type": "code",
   "execution_count": null,
   "metadata": {},
   "outputs": [],
   "source": [
    "#| export\n",
    "def downsample_mean(x,N):\n",
    "    shp = x.shape\n",
    "    trunc = -(x.shape[0] % N)\n",
    "    trunc = trunc if trunc != 0 else None\n",
    "    return x[:trunc,:].reshape((-1,N,x.shape[-1])).mean(axis=1)"
   ]
  },
  {
   "cell_type": "code",
   "execution_count": null,
   "metadata": {},
   "outputs": [],
   "source": [
    "#| export\n",
    "from scipy.signal import butter, lfilter, lfilter_zi\n",
    "from scipy import signal\n",
    "def resample_interp(x,resampling_factor,sequence_first=True, lowpass_cut=1.0, upsample_cubic_cut = None):\n",
    "    '''signal resampling using linear or cubic interpolation\n",
    "    \n",
    "    x: signal to resample with shape: features x resampling_dimension or resampling_dimension x  features if sequence_first=True\n",
    "    resampling_factor: Factor > 0 that scales the signal\n",
    "    lowpass_cut: Upper boundary for resampling_factor that activates the lowpassfilter, low values exchange accuracy for performance, default is 0.7\n",
    "    upsample_cubic_cut: Lower boundary for resampling_factor that activates cubic interpolation at high upsampling values. \n",
    "                        Improves signal dynamics in exchange of performance. None deactivates cubic interpolation\n",
    "    '''\n",
    "    \n",
    "    if sequence_first:\n",
    "        x = x.T\n",
    "    \n",
    "    fs_n = resampling_factor\n",
    "    #if downsampling rate is too high, lowpass filter before interpolation\n",
    "    if fs_n < lowpass_cut:\n",
    "        b,a = butter(2, fs_n)\n",
    "        zi = lfilter_zi(b,a)*x[:,:1] #initialize filter with steady state at first time step value\n",
    "        x,_ = lfilter(b,a,x,axis=-1,zi=zi)\n",
    "\n",
    "#         sos = butter(2, fs_n*1.2,output='sos')\n",
    "# #         sos = signal.cheby2(2,20, fs_n,output='sos')\n",
    "# #         import pdb;pdb.set_trace()\n",
    "#         zi = np.swapaxes(signal.sosfilt_zi(sos)[...,None]*x[:,0],1,2)\n",
    "#         x,_ = signal.sosfilt(sos, x,axis=-1,zi=zi)\n",
    "        \n",
    "    x_int = tensor(x)[None,...]\n",
    "    targ_size = int(x.shape[-1]*fs_n)\n",
    "    \n",
    "#     if upsampling rate is too high, switch from linear to cubic interpolation\n",
    "    if upsample_cubic_cut is None or fs_n <= upsample_cubic_cut:\n",
    "        x = array(nn.functional.interpolate(x_int, size=targ_size, mode='linear',align_corners=False)[0])\n",
    "    else:\n",
    "        x = array(nn.functional.interpolate(x_int[...,None], size=[targ_size,1], mode='bicubic',align_corners=False)[0,...,0])\n",
    "#     x = array(x_int)[0]\n",
    "    \n",
    "    if sequence_first:\n",
    "        x = x.T\n",
    "    \n",
    "    return x"
   ]
  },
  {
   "cell_type": "code",
   "execution_count": null,
   "metadata": {},
   "outputs": [],
   "source": [
    "x = np.random.normal(size=(100000,9))\n",
    "test_eq(resample_interp(x,0.3).shape[0],30000)"
   ]
  },
  {
   "cell_type": "code",
   "execution_count": null,
   "metadata": {},
   "outputs": [],
   "source": [
    "# def plotFFT(buffer,sample_rate,label,fig=plt):\n",
    "#     xf,yf = calcFFT(buffer,sample_rate)\n",
    "#     fig.plot(xf, yf,label=label)\n",
    "    \n",
    "# def calcFFT(buffer,sample_rate):\n",
    "#     N = buffer.shape[0]\n",
    "#     T = 1.0 / sample_rate\n",
    "#     x = np.linspace(0.0, N*T, N)\n",
    "#     y = buffer\n",
    "#     yf = scipy.fft.fft(y)\n",
    "#     xf = np.linspace(0.0, 1.0/(2.0*T), N//2)\n",
    "#     return xf,2.0/N * np.abs(yf[:N//2])\n",
    "\n",
    "# src_fs= 200\n",
    "# n_fs = 0.9\n",
    "# plt.figure()\n",
    "# plotFFT(x[:,0],src_fs,'raw')\n",
    "# plotFFT(resample_interp(x,n_fs)[:,0],n_fs*src_fs,'filtered')\n",
    "# plt.legend()"
   ]
  },
  {
   "cell_type": "code",
   "execution_count": null,
   "metadata": {},
   "outputs": [],
   "source": [
    "#| export\n",
    "from scipy.signal import resample\n",
    "def hdf_extract_sequence(hdf_path,clms,dataset = None, l_slc = None, r_slc= None, resampling_factor=None, fs_idx =None,dt_idx =False,fast_resample=True):\n",
    "    '''\n",
    "    extracts a sequence with the shape [seq_len x num_features]\n",
    "    \n",
    "    hdf_path: file path of hdf file, may be a string or path type\n",
    "    clms: list of dataset names of sequences in hdf file\n",
    "    dataset: dataset root for clms. Useful for multiples sequences stored in one file.\n",
    "    l_slc: left boundary for extraction of a window of the whole sequence\n",
    "    r_slc: right boundary for extraction of a window of the whole sequence\n",
    "    resampling_factor: scaling factor for the sequence length, uses 'resample_interp' for resampling\n",
    "    fs_idx: clms list idx of fs entry in sequence. Will be scaled by resampling_factor after resampling\n",
    "    dt_idx: clms list idx of dt entry in sequence. Will be scaled by resampling_factor after resampling\n",
    "    fast_resample: if True, uses linear interpolation with anti-aliasing filter for faster resampling. Is less accurate than fft based resampling\n",
    "    '''\n",
    "\n",
    "    if resampling_factor is not None:\n",
    "        seq_len = r_slc-l_slc if l_slc is not None and r_slc is not None else None #calculate seq_len for later slicing, necesary because of rounding errors in resampling\n",
    "        if l_slc is not None: l_slc= math.floor(l_slc/resampling_factor)\n",
    "        if r_slc is not None: r_slc= math.ceil(r_slc/resampling_factor)\n",
    "\n",
    "    with h5py.File(hdf_path,'r') as f:\n",
    "        ds = f if dataset is None else f[dataset]\n",
    "        l_array = [(ds[n][l_slc:r_slc]) for n in clms]\n",
    "        seq = np.stack(l_array,axis=-1)\n",
    "\n",
    "    if resampling_factor is not None:\n",
    "        if fast_resample:\n",
    "            res_seq = resample_interp(seq,resampling_factor)\n",
    "        else:\n",
    "            res_seq = resample(seq,int(seq.shape[0]*resampling_factor),window=('kaiser', 14.0))\n",
    "        if fs_idx is not None: res_seq[:,fs_idx] = seq[0,fs_idx] * resampling_factor\n",
    "        if dt_idx is not None: res_seq[:,dt_idx] = seq[0,dt_idx] / resampling_factor\n",
    "        seq = res_seq\n",
    "        \n",
    "        if seq_len is not None: seq = seq[:seq_len] #cut the part of the sequence that is too long because of resampling rounding errors\n",
    "        \n",
    "    return seq"
   ]
  },
  {
   "cell_type": "code",
   "execution_count": null,
   "metadata": {},
   "outputs": [],
   "source": [
    "#| export\n",
    "class Memoize:\n",
    "    def __init__(self, fn):\n",
    "        self.fn = fn\n",
    "        self.memo = {}\n",
    "\n",
    "    def __call__(self, *args):\n",
    "        if args not in self.memo:\n",
    "            self.memo[args] = self.fn(*args)\n",
    "        return self.memo[args]\n",
    "\n"
   ]
  },
  {
   "cell_type": "code",
   "execution_count": null,
   "metadata": {},
   "outputs": [],
   "source": [
    "# #| export\n",
    "# from multiprocessing import shared_memory, Manager, Lock\n",
    "\n",
    "# class MemoizeMP:\n",
    "#     def __init__(self, fn):\n",
    "#         self.fn = fn\n",
    "#         self.manager = Manager()\n",
    "#         self.results_dict = self.manager.dict()  # Stores metadata about computed results\n",
    "#         self.lock = Lock()  # Ensure atomic updates to the results_dict\n",
    "#         self.local_memo = {}  # Local cache for each process\n",
    "#         self.shared_memory_segments = []  # Track all shared memory segments\n",
    "\n",
    "#     def __call__(self, *args):\n",
    "#         if args in self.local_memo:\n",
    "#             return self.local_memo[args][0]\n",
    "\n",
    "#         with self.lock:\n",
    "#             if args in self.results_dict:\n",
    "#                 result_info = self.results_dict[args]\n",
    "#                 existing_shm = shared_memory.SharedMemory(name=result_info['name'])\n",
    "#                 result = np.ndarray(result_info['shape'], dtype=result_info['dtype'], buffer=existing_shm.buf)\n",
    "#                 self.local_memo[args] = (result, existing_shm)\n",
    "#                 return result\n",
    "\n",
    "#         result = self.fn(*args)\n",
    "\n",
    "#         with self.lock:\n",
    "#             if args not in self.results_dict:\n",
    "#                 result_shm = shared_memory.SharedMemory(create=True, size=result.nbytes)\n",
    "#                 shm_array = np.ndarray(result.shape, dtype=result.dtype, buffer=result_shm.buf)\n",
    "#                 shm_array[:] = result[:]\n",
    "                \n",
    "#                 self.results_dict[args] = {\n",
    "#                     'name': result_shm.name,\n",
    "#                     'shape': result.shape,\n",
    "#                     'dtype': result.dtype.str\n",
    "#                 }\n",
    "#                 self.local_memo[args] = (result, result_shm)\n",
    "#                 # Track this shared memory segment for later cleanup\n",
    "#                 self.shared_memory_segments.append(result_shm)\n",
    "\n",
    "#         return result\n",
    "\n",
    "#     def cleanup_shared_memory(self):\n",
    "#         \"\"\"Explicitly cleanup all tracked shared memory segments.\"\"\"\n",
    "#         for shm in self.shared_memory_segments:\n",
    "#             try:\n",
    "#                 shm.close()\n",
    "#                 shm.unlink()\n",
    "#             except FileNotFoundError:\n",
    "#                 # The shared memory segment was already cleaned up\n",
    "#                 pass\n",
    "#         # Clear the list after cleanup\n",
    "#         self.shared_memory_segments.clear()\n",
    "\n",
    "#     def __del__(self):\n",
    "#         self.cleanup_shared_memory()"
   ]
  },
  {
   "cell_type": "code",
   "execution_count": null,
   "metadata": {},
   "outputs": [],
   "source": [
    "#| export\n",
    "from multiprocessing import shared_memory, Manager, Lock\n",
    "class MemoizeMP:\n",
    "    def __init__(self, fn):\n",
    "        self.fn = fn\n",
    "        self.manager = Manager()\n",
    "        self.results_dict = self.manager.dict()  # Stores metadata about computed results\n",
    "        self.lock = Lock()  # Ensure atomic updates to the results_dict\n",
    "        self.local_memo = {}  # Local cache for each process\n",
    "        self.shared_memory_segments = []  # Track all shared memory segments\n",
    "    def __call__(self, *args):\n",
    "        if args in self.local_memo:\n",
    "            return self.local_memo[args][0]\n",
    "        with self.lock:\n",
    "            if args in self.results_dict:\n",
    "                result_info = self.results_dict[args]\n",
    "                existing_shm = shared_memory.SharedMemory(name=result_info['name'])\n",
    "                result = np.ndarray(result_info['shape'], dtype=result_info['dtype'], buffer=existing_shm.buf)\n",
    "                self.local_memo[args] = (result, existing_shm)\n",
    "                return result\n",
    "        result = self.fn(*args)\n",
    "        with self.lock:\n",
    "            if args not in self.results_dict:\n",
    "                result_shm = shared_memory.SharedMemory(create=True, size=result.nbytes)\n",
    "                shm_array = np.ndarray(result.shape, dtype=result.dtype, buffer=result_shm.buf)\n",
    "                shm_array[:] = result[:]\n",
    "              \n",
    "                self.results_dict[args] = {\n",
    "                    'name': result_shm.name,\n",
    "                    'shape': result.shape,\n",
    "                    'dtype': result.dtype.str\n",
    "                }\n",
    "                self.local_memo[args] = (result, result_shm)\n",
    "                # Track this shared memory segment for later cleanup\n",
    "                self.shared_memory_segments.append(result_shm)\n",
    "        return result\n",
    "    def cleanup_shared_memory(self):\n",
    "        \"\"\"Explicitly cleanup all tracked shared memory segments.\"\"\"\n",
    "        for shm in self.shared_memory_segments:\n",
    "            try:\n",
    "                shm.close()\n",
    "                shm.unlink()\n",
    "            except FileNotFoundError:\n",
    "                # The shared memory segment was already cleaned up\n",
    "                pass\n",
    "        # Clear the list after cleanup\n",
    "        self.shared_memory_segments.clear()\n",
    "    def __del__(self):\n",
    "        self.cleanup_shared_memory()"
   ]
  },
  {
   "cell_type": "code",
   "execution_count": null,
   "metadata": {},
   "outputs": [],
   "source": [
    "##| export\n",
    "#from multiprocessing.managers import SharedMemoryManager\n",
    "#from multiprocessing import shared_memory, Manager, Lock\n",
    "#import atexit\n",
    "#\n",
    "#class MemoizeMP:\n",
    "#    def __init__(self, fn):\n",
    "#        self.fn = fn\n",
    "#        self.manager = Manager()\n",
    "#        self.results_dict = self.manager.dict()  # Stores metadata about computed results\n",
    "#        self.lock = Lock()  # Ensure atomic updates to the results_dict\n",
    "#        self.local_memo = {}  # Local cache for each process\n",
    "#        self.shared_memory_manager = SharedMemoryManager()\n",
    "#        self.shared_memory_manager.start()  # Start the shared memory manager process\n",
    "#\n",
    "#    def __call__(self, *args):\n",
    "#        if args in self.local_memo:\n",
    "#            return self.local_memo[args][0]\n",
    "#\n",
    "#        with self.lock:\n",
    "#            if args in self.results_dict:\n",
    "#                result_info = self.results_dict[args]\n",
    "#                existing_shm = shared_memory.SharedMemory(name=result_info['name'])\n",
    "#                result = np.ndarray(result_info['shape'], dtype=result_info['dtype'], buffer=existing_shm.buf)\n",
    "#                self.local_memo[args] = (result, existing_shm)\n",
    "#                return result\n",
    "#\n",
    "#        result = self.fn(*args)\n",
    "#\n",
    "#        with self.lock:\n",
    "#            if args not in self.results_dict:\n",
    "#                # Create a new shared memory block through the manager\n",
    "#                result_shm = self.shared_memory_manager.SharedMemory(size=result.nbytes)\n",
    "#                shm_array = np.ndarray(result.shape, dtype=result.dtype, buffer=result_shm.buf)\n",
    "#                shm_array[:] = result[:]\n",
    "#\n",
    "#                self.results_dict[args] = {\n",
    "#                    'name': result_shm.name,\n",
    "#                    'shape': result.shape,\n",
    "#                    'dtype': result.dtype.str\n",
    "#                }\n",
    "#                self.local_memo[args] = (result, result_shm)\n",
    "#\n",
    "#        return result\n",
    "#\n",
    "#    @atexit.register\n",
    "#    def cleanup_shared_memory(self):\n",
    "#        \"\"\"Explicitly cleanup all shared memory segments managed by SharedMemoryManager.\"\"\"\n",
    "#        self.shared_memory_manager.shutdown()  # This will release all shared memory blocks\n",
    "#\n",
    "#    def __del__(self):\n",
    "#        self.cleanup_shared_memory()"
   ]
  },
  {
   "cell_type": "code",
   "execution_count": null,
   "metadata": {},
   "outputs": [],
   "source": [
    "#| export\n",
    "class HDF2Sequence(Transform):\n",
    "    \n",
    "    def __init__(self, clm_names,clm_shift=None,truncate_sz=None,to_cls=noop,cached=True, fs_idx =None,dt_idx =None,fast_resample=True):\n",
    "        if not clm_shift is None:\n",
    "            assert len(clm_shift)==len(clm_names) and all(isinstance(n, int) for n in clm_shift)\n",
    "            self.l_shift,self.r_shift,_ = calc_shift_offsets(clm_shift)\n",
    "        \n",
    "        if not cached:\n",
    "            self._exseq = self._hdf_extract_sequence \n",
    "        elif cached == 'local':\n",
    "            self._exseq = Memoize(self._hdf_extract_sequence) \n",
    "        else :\n",
    "            self._exseq = Memoize(self._hdf_extract_sequence) \n",
    "            #self._exseq = MemoizeMP(self._hdf_extract_sequence)\n",
    "\n",
    "        self.cached = cached is not None\n",
    "        store_attr('clm_names,clm_shift,truncate_sz,to_cls,fs_idx,dt_idx,fast_resample')\n",
    "        \n",
    "    def _hdf_extract_sequence(self,hdf_path,dataset = None, l_slc = None, r_slc= None, resampling_factor=None, fs_idx =None,dt_idx =None,fast_resample=True):\n",
    "        '''\n",
    "        extracts a sequence with the shape [seq_len x num_features]\n",
    "\n",
    "        hdf_path: file path of hdf file, may be a string or path type\n",
    "        clms: list of dataset names of sequences in hdf file\n",
    "        dataset: dataset root for clms. Useful for multiples sequences stored in one file.\n",
    "        l_slc: left boundary for extraction of a window of the whole sequence\n",
    "        r_slc: right boundary for extraction of a window of the whole sequence\n",
    "        resampling_factor: scaling factor for the sequence length, uses 'resample_interp' for resampling\n",
    "        fs_idx: clms list idx of fs entry in sequence. Will be scaled by resampling_factor after resampling\n",
    "        dt_idx: clms list idx of dt entry in sequence. Will be scaled by resampling_factor after resampling\n",
    "        fast_resample: if True, uses linear interpolation with anti-aliasing filter for faster resampling. Is less accurate than fft based resampling\n",
    "        '''\n",
    "\n",
    "        if resampling_factor is not None:\n",
    "            seq_len = r_slc-l_slc if l_slc is not None and r_slc is not None else None #calculate seq_len for later slicing, necesary because of rounding errors in resampling\n",
    "            if l_slc is not None: l_slc= math.floor(l_slc/resampling_factor)\n",
    "            if r_slc is not None: r_slc= math.ceil(r_slc/resampling_factor)\n",
    "\n",
    "        with h5py.File(hdf_path,'r') as f:\n",
    "            ds = f if dataset is None else f[dataset]\n",
    "            l_array = [(ds[n][l_slc:r_slc]) for n in self.clm_names]\n",
    "            seq = np.stack(l_array,axis=-1)\n",
    "\n",
    "        if resampling_factor is not None:\n",
    "            if fast_resample:\n",
    "                res_seq = resample_interp(seq,resampling_factor)\n",
    "            else:\n",
    "                res_seq = resample(seq,int(seq.shape[0]*resampling_factor),window=('kaiser', 14.0))\n",
    "            \n",
    "            if fs_idx is not None: res_seq[:,fs_idx] = seq[0,fs_idx] * resampling_factor\n",
    "            if dt_idx is not None: res_seq[:,dt_idx] = seq[0,dt_idx] / resampling_factor\n",
    "            seq = res_seq\n",
    "\n",
    "            if seq_len is not None: seq = seq[:seq_len] #cut the part of the sequence that is too long because of resampling rounding errors\n",
    "\n",
    "        return seq\n",
    "    \n",
    "    def _extract_dict_sequence(self,item):\n",
    "        if hasattr(item,'keys'):\n",
    "            path = item['path']\n",
    "            dataset = item['dataset'] if 'dataset' in item else None\n",
    "            l_slc = item['l_slc'] if 'l_slc' in item else None\n",
    "            r_slc = item['r_slc'] if 'r_slc' in item else None\n",
    "            resampling_factor = item['resampling_factor'] if 'resampling_factor' in item else None\n",
    "\n",
    "            if self.cached:\n",
    "                seq = self._exseq(path,dataset,None,None,resampling_factor,self.fs_idx,self.dt_idx,self.fast_resample)[l_slc:r_slc]\n",
    "            else:\n",
    "                seq = self._exseq(path,dataset,l_slc,r_slc,resampling_factor,self.fs_idx,self.dt_idx,self.fast_resample)\n",
    "        else:\n",
    "            seq = self._exseq(str(item),None,None,None,None,None)\n",
    "\n",
    "        #shift clms of result by given value \n",
    "        if not self.clm_shift is None:\n",
    "            l_seq = seq.shape[0]\n",
    "            seq = np.stack([seq[self.l_shift[i]:l_seq+self.r_shift[i],i] for i in range(seq.shape[1])],axis=-1)\n",
    "            \n",
    "        if not self.truncate_sz is None:\n",
    "            seq = seq[truncate_sz:]\n",
    "        \n",
    "        #it is important to slice first and then do the class conversion\n",
    "#         return self.to_cls(seq.astype('f8'))#workaround for random bug, that mitigates convergence if the numpy array is an f4 array. Seems to make no sense because the result does not change. \n",
    "        return self.to_cls(seq)\n",
    "\n",
    "    def encodes(self, item)->None: \n",
    "        return self._extract_dict_sequence(item)"
   ]
  },
  {
   "cell_type": "code",
   "execution_count": null,
   "metadata": {},
   "outputs": [
    {
     "data": {
      "text/plain": [
       "array([[ 0.       ,  4.1873503],\n",
       "       [-0.1      ,  4.18935  ],\n",
       "       [-0.1      ,  4.1896954],\n",
       "       ...,\n",
       "       [ 8.8388   ,  3.3932123],\n",
       "       [ 8.846    ,  3.3928714],\n",
       "       [ 8.8531   ,  3.3925302]], dtype=float32)"
      ]
     },
     "execution_count": null,
     "metadata": {},
     "output_type": "execute_result"
    }
   ],
   "source": [
    "# %%timeit\n",
    "hdf2seq = HDF2Sequence(['current','voltage'],cached=False)\n",
    "hdf2seq(hdf_files[0])"
   ]
  },
  {
   "cell_type": "code",
   "execution_count": null,
   "metadata": {},
   "outputs": [
    {
     "data": {
      "text/plain": [
       "array([[-0.1      ,  4.18935  ],\n",
       "       [-0.1      ,  4.1896954],\n",
       "       [-0.1      ,  4.190037 ],\n",
       "       ...,\n",
       "       [ 8.8388   ,  3.3932123],\n",
       "       [ 8.846    ,  3.3928714],\n",
       "       [ 8.8531   ,  3.3925302]], dtype=float32)"
      ]
     },
     "execution_count": null,
     "metadata": {},
     "output_type": "execute_result"
    }
   ],
   "source": [
    "hdf2seq = HDF2Sequence(['current','voltage'],clm_shift=[1,1])\n",
    "hdf2seq(hdf_files[0])"
   ]
  },
  {
   "cell_type": "code",
   "execution_count": null,
   "metadata": {},
   "outputs": [
    {
     "name": "stdout",
     "output_type": "stream",
     "text": [
      "[[ 0.         4.1873503]\n",
      " [-0.1        4.18935  ]\n",
      " [-0.1        4.1896954]\n",
      " ...\n",
      " [ 8.8388     3.3932123]\n",
      " [ 8.846      3.3928714]\n",
      " [ 8.8531     3.3925302]]\n"
     ]
    }
   ],
   "source": [
    "hdf2seq = HDF2Sequence(['current','voltage'],cached='shared')\n",
    "print(hdf2seq(hdf_files[0]))"
   ]
  },
  {
   "cell_type": "code",
   "execution_count": null,
   "metadata": {},
   "outputs": [
    {
     "data": {
      "text/plain": [
       "array([[ 0.       ,  4.1873503],\n",
       "       [-0.1      ,  4.18935  ],\n",
       "       [-0.1      ,  4.1896954],\n",
       "       ...,\n",
       "       [ 8.8388   ,  3.3932123],\n",
       "       [ 8.846    ,  3.3928714],\n",
       "       [ 8.8531   ,  3.3925302]], dtype=float32)"
      ]
     },
     "execution_count": null,
     "metadata": {},
     "output_type": "execute_result"
    }
   ],
   "source": [
    "# %%timeit\n",
    "hdf2seq(hdf_files[0])"
   ]
  },
  {
   "cell_type": "code",
   "execution_count": null,
   "metadata": {},
   "outputs": [],
   "source": [
    "hdf2seq = HDF2Sequence(['current','voltage'],cached=True)"
   ]
  },
  {
   "cell_type": "code",
   "execution_count": null,
   "metadata": {},
   "outputs": [
    {
     "data": {
      "text/plain": [
       "array([[ 0.       ,  4.1873503],\n",
       "       [-0.1      ,  4.18935  ],\n",
       "       [-0.1      ,  4.1896954],\n",
       "       ...,\n",
       "       [ 8.8388   ,  3.3932123],\n",
       "       [ 8.846    ,  3.3928714],\n",
       "       [ 8.8531   ,  3.3925302]], dtype=float32)"
      ]
     },
     "execution_count": null,
     "metadata": {},
     "output_type": "execute_result"
    }
   ],
   "source": [
    "# %%timeit\n",
    "hdf2seq(hdf_files[0])"
   ]
  },
  {
   "cell_type": "markdown",
   "metadata": {},
   "source": [
    "Die Funktion lässt sich mittels Pipeline auf eine Liste von Quellobjekten (hier Pfade) anwenden "
   ]
  },
  {
   "cell_type": "code",
   "execution_count": null,
   "metadata": {},
   "outputs": [
    {
     "data": {
      "text/plain": [
       "(265607, 1)"
      ]
     },
     "execution_count": null,
     "metadata": {},
     "output_type": "execute_result"
    }
   ],
   "source": [
    "hdf2seq = HDF2Sequence(['current'])\n",
    "hdf2seq(hdf_files[0]).shape"
   ]
  },
  {
   "cell_type": "code",
   "execution_count": null,
   "metadata": {},
   "outputs": [],
   "source": [
    "pipe = Pipeline(HDF2Sequence(['current','voltage']))"
   ]
  },
  {
   "cell_type": "code",
   "execution_count": null,
   "metadata": {},
   "outputs": [],
   "source": [
    "# res_pipe = pipe(hdf_files)\n",
    "# len(res_pipe), res_pipe[0][0]"
   ]
  },
  {
   "cell_type": "code",
   "execution_count": null,
   "metadata": {},
   "outputs": [],
   "source": []
  },
  {
   "cell_type": "markdown",
   "metadata": {},
   "source": [
    "#### Performance Test\n",
    "Caching stores the arrays for future use at every function call. Very usefull, especially for windows. Should allways be turned. Only explicitly turn it off when there is not enough memory for your data."
   ]
  },
  {
   "cell_type": "code",
   "execution_count": null,
   "metadata": {},
   "outputs": [],
   "source": [
    "tfms=[  [HDF2Sequence(['current','voltage'],cached=None)],\n",
    "        [HDF2Sequence(['voltage'],cached=None)]]\n",
    "dsrc = Datasets(src_dicts[:1000],tfms=tfms)"
   ]
  },
  {
   "cell_type": "code",
   "execution_count": null,
   "metadata": {},
   "outputs": [
    {
     "data": {
      "text/plain": [
       "1000"
      ]
     },
     "execution_count": null,
     "metadata": {},
     "output_type": "execute_result"
    }
   ],
   "source": [
    "len(dsrc)"
   ]
  },
  {
   "cell_type": "code",
   "execution_count": null,
   "metadata": {},
   "outputs": [],
   "source": [
    "# %%time\n",
    "# for x in dsrc:\n",
    "#     x"
   ]
  },
  {
   "cell_type": "code",
   "execution_count": null,
   "metadata": {},
   "outputs": [],
   "source": [
    "tfms=[  [HDF2Sequence(['current','voltage'],cached=True,clm_shift=[1,2])],\n",
    "        [HDF2Sequence(['voltage'],cached=True)]]\n",
    "dsrc = Datasets(src_dicts[:1000],tfms=tfms)"
   ]
  },
  {
   "cell_type": "code",
   "execution_count": null,
   "metadata": {},
   "outputs": [],
   "source": [
    "# # %%timeit\n",
    "# for x in dsrc:\n",
    "#     x"
   ]
  },
  {
   "cell_type": "markdown",
   "metadata": {},
   "source": [
    "Caching is way faster because every file gets loaded multiple times"
   ]
  },
  {
   "cell_type": "markdown",
   "metadata": {},
   "source": [
    "### Extract Scalar data from hdf5-files"
   ]
  },
  {
   "cell_type": "code",
   "execution_count": null,
   "metadata": {},
   "outputs": [],
   "source": [
    "#| export\n",
    "def hdf2scalars(hdf_path,c_names,dataset = None):\n",
    "    with h5py.File(hdf_path,'r') as f:\n",
    "        ds = f if dataset is None else f[dataset]\n",
    "        l_array = [ds.attrs[n] for n in c_names]\n",
    "        scalars = np.stack(l_array,axis=-1)\n",
    "#         import pdb; pdb.set_trace()\n",
    "#         l_array = [f[n][:][:,None] for n in c_names]\n",
    "#         seq = np.concatenate(l_array,axis=1)\n",
    "        return scalars"
   ]
  },
  {
   "cell_type": "code",
   "execution_count": null,
   "metadata": {},
   "outputs": [],
   "source": [
    "# hdf2scalars('/mnt/data/sicwell/hdf5/Cycles/ch3/cycle00568.hdf5',['soc','temperature1'],dataset='measurement_00000')"
   ]
  },
  {
   "cell_type": "code",
   "execution_count": null,
   "metadata": {},
   "outputs": [],
   "source": [
    "#| export\n",
    "class HDF2Scalars(Transform):\n",
    "    \n",
    "    def __init__(self, clm_names,to_cls=noop):\n",
    "        store_attr('clm_names,to_cls')\n",
    "    \n",
    "    def _extract_dict_scalars(self,item):\n",
    "        if isinstance(item,dict):\n",
    "            path = item['path']\n",
    "            dataset = item['dataset'] if 'dataset' in item else None\n",
    "\n",
    "            seq = hdf2scalars(path,self.clm_names,dataset)\n",
    "        else:\n",
    "            seq = hdf2scalars(str(item),self.clm_names)\n",
    "        return self.to_cls(seq)\n",
    "\n",
    "    def encodes(self, item)->None: \n",
    "        return self._extract_dict_scalars(item)"
   ]
  },
  {
   "cell_type": "code",
   "execution_count": null,
   "metadata": {},
   "outputs": [],
   "source": [
    "# HDF2Scalars(['soc','temperature1'])({'path':'/mnt/data/sicwell/hdf5/Cycles/ch3/cycle00568.hdf5','dataset':'measurement_00000'})"
   ]
  },
  {
   "cell_type": "markdown",
   "metadata": {},
   "source": [
    "### Extract Scalar from sequence"
   ]
  },
  {
   "cell_type": "code",
   "execution_count": null,
   "metadata": {},
   "outputs": [],
   "source": [
    "#| export\n",
    "class ScalarSequenceElement(Transform):\n",
    "    \n",
    "    def __init__(self, idx,to_cls=noop):\n",
    "        store_attr('idx,to_cls')\n",
    "\n",
    "    def encodes(self, item)->None: \n",
    "        return self.to_cls(item[self.idx])"
   ]
  },
  {
   "cell_type": "code",
   "execution_count": null,
   "metadata": {},
   "outputs": [
    {
     "data": {
      "text/plain": [
       "array([8.8531], dtype=float32)"
      ]
     },
     "execution_count": null,
     "metadata": {},
     "output_type": "execute_result"
    }
   ],
   "source": [
    "ScalarSequenceElement(-1)(hdf2seq(hdf_files[0]))"
   ]
  },
  {
   "cell_type": "markdown",
   "metadata": {},
   "source": [
    "### 2.1 Datatypes for Sequences and Scalars"
   ]
  },
  {
   "cell_type": "code",
   "execution_count": null,
   "metadata": {},
   "outputs": [],
   "source": [
    "#| export\n",
    "class TensorSequences(TensorBase):#TensorBase\n",
    "#     def __init__(self,x,c_names=None, **kwargs):\n",
    "#         super().__init__()\n",
    "#         self.c_names = c_names\n",
    "    \n",
    "    def show(self, ctx=None, **kwargs):\n",
    "#         import pdb; pdb.set_trace()\n",
    "        ax = ctx\n",
    "        if ax is None: _,ax = plt.subplots()\n",
    "        ax.plot(self)\n",
    "#         if title is not None: ax.set_title(title)\n",
    "        return ax\n",
    "\n",
    "    @classmethod\n",
    "    @delegates(HDF2Sequence, keep=True)\n",
    "    def from_hdf(cls,clm_names,**kwargs):\n",
    "        return HDF2Sequence(clm_names,**kwargs)\n",
    "    \n",
    "class TensorSequencesInput(TensorSequences): pass\n",
    "class TensorSequencesOutput(TensorSequences): pass"
   ]
  },
  {
   "cell_type": "code",
   "execution_count": null,
   "metadata": {},
   "outputs": [
    {
     "data": {
      "text/plain": [
       "numpy.ndarray"
      ]
     },
     "execution_count": null,
     "metadata": {},
     "output_type": "execute_result"
    }
   ],
   "source": [
    "f = TensorSequencesInput.from_hdf(['current'])\n",
    "type(f(hdf_files[0]))"
   ]
  },
  {
   "cell_type": "code",
   "execution_count": null,
   "metadata": {},
   "outputs": [],
   "source": [
    "# TensorSequences(np.ones((30,2))).show()"
   ]
  },
  {
   "cell_type": "code",
   "execution_count": null,
   "metadata": {},
   "outputs": [],
   "source": [
    "#| export\n",
    "@Transform\n",
    "def toTensorSequencesInput(o): return TensorSequencesInput(o)\n",
    "@Transform\n",
    "def toTensorSequencesOutput(o): return TensorSequencesOutput(o)"
   ]
  },
  {
   "cell_type": "code",
   "execution_count": null,
   "metadata": {},
   "outputs": [],
   "source": [
    "#| export\n",
    "class TensorScalars(TensorBase):\n",
    "    @classmethod\n",
    "    @delegates(HDF2Scalars, keep=True)\n",
    "    def from_hdf(cls,clm_names,**kwargs):\n",
    "        return HDF2Scalars(clm_names,**kwargs)\n",
    "    \n",
    "    \n",
    "class TensorScalarsInput(TensorScalars): pass\n",
    "class TensorScalarsOutput(TensorScalars): pass\n"
   ]
  },
  {
   "cell_type": "markdown",
   "metadata": {},
   "source": [
    "The tensor subclassing mechanism since pytorch 1.7 keeps the tensor type in tensor operations. Operations with different branches of subclasses of tensors require a implementation of '__torch_function__'.\n",
    "Fastai implements 'TensorBase.register_func' to mark methods that behave for the given types like the default torch operation.\n",
    "\n",
    "https://pytorch.org/docs/stable/notes/extending.html#extending-torch\n"
   ]
  },
  {
   "cell_type": "code",
   "execution_count": null,
   "metadata": {},
   "outputs": [],
   "source": [
    "#| export\n",
    "for f in torch.nn.functional.mse_loss,torch.nn.functional.huber_loss, Tensor.__getitem__, Tensor.__ne__,Tensor.__eq__,Tensor.add,Tensor.sub,Tensor.mul,Tensor.div,Tensor.__rsub__,Tensor.__radd__,Tensor.matmul,Tensor.bmm:\n",
    "    TensorBase.register_func(f,TensorSequences)\n",
    "    TensorBase.register_func(f,TensorScalars)"
   ]
  },
  {
   "cell_type": "code",
   "execution_count": null,
   "metadata": {},
   "outputs": [
    {
     "data": {
      "text/plain": [
       "TensorSequencesInput(0.1757)"
      ]
     },
     "execution_count": null,
     "metadata": {},
     "output_type": "execute_result"
    }
   ],
   "source": [
    "x1 = TensorSequencesInput(torch.rand((10,10)))\n",
    "x2 = TensorSequencesOutput(torch.rand((10,10)))\n",
    "torch.nn.functional.mse_loss(x1,x2)"
   ]
  },
  {
   "cell_type": "markdown",
   "metadata": {},
   "source": [
    "## 3. Transformations\n"
   ]
  },
  {
   "cell_type": "markdown",
   "metadata": {},
   "source": [
    "### 3.1 Sequence Slicing Transformation"
   ]
  },
  {
   "cell_type": "code",
   "execution_count": null,
   "metadata": {},
   "outputs": [],
   "source": [
    "#| export \n",
    "class SeqSlice(Transform):\n",
    "    '''Take a slice from an array-like object. Useful for e.g. shifting input and output'''\n",
    "    def __init__(self, l_slc=None,r_slc=None):\n",
    "        self.l_slc,self.r_slc = l_slc,r_slc\n",
    "        \n",
    "    def encodes(self, o): return o[self.l_slc:self.r_slc]"
   ]
  },
  {
   "cell_type": "code",
   "execution_count": null,
   "metadata": {},
   "outputs": [],
   "source": [
    "l_shift = SeqSlice(r_slc=-1)\n",
    "arr = np.ones((5))\n",
    "test_eq(l_shift(arr),arr[:-1])"
   ]
  },
  {
   "cell_type": "markdown",
   "metadata": {},
   "source": [
    "### 3.2 Sequence Noise Injection Transformation"
   ]
  },
  {
   "cell_type": "code",
   "execution_count": null,
   "metadata": {},
   "outputs": [],
   "source": [
    "#| export\n",
    "class SeqNoiseInjection(RandTransform):\n",
    "    split_idx=0 #apply only to training data, if None it will be applied to all data\n",
    "    '''Adds normal distributed noise to the tensor sequence with seperate mean and std for every signal'''\n",
    "    def __init__(self, std=1e-1,mean=0.,p=1.0):\n",
    "        super().__init__(p=p)\n",
    "        self.std = tensor(std).type(torch.float)\n",
    "        self.mean = tensor(mean).type(torch.float)\n",
    "        \n",
    "    def encodes(self, o:TensorSequencesInput): \n",
    "        if o.device != self.mean.device:\n",
    "            self.std = self.std.to(o.device)\n",
    "            self.mean = self.mean.to(o.device)\n",
    "        #expand creates a view on a tensor and is therefore very fast compared to copy\n",
    "        return o+torch.normal(mean=self.mean.expand_as(o), \n",
    "                              std=self.std.expand_as(o))"
   ]
  },
  {
   "cell_type": "code",
   "execution_count": null,
   "metadata": {},
   "outputs": [
    {
     "data": {
      "text/plain": [
       "(TensorSequencesInput([[ 1.,  1.,  1.],\n",
       "                       [-1., -1., -1.]]),\n",
       " torch.Size([2, 3]))"
      ]
     },
     "execution_count": null,
     "metadata": {},
     "output_type": "execute_result"
    }
   ],
   "source": [
    "x = TensorSequencesInput(tensor([[1,1,1],[-1,-1,-1.0]]))\n",
    "ns_mean = tensor([0.,10.1,3.1])\n",
    "ns_std = tensor([1.,1.1,0.1])\n",
    "x,x.shape"
   ]
  },
  {
   "cell_type": "code",
   "execution_count": null,
   "metadata": {},
   "outputs": [
    {
     "data": {
      "text/plain": [
       "TensorSequencesInput([[ 1.,  1.,  1.],\n",
       "                      [-1., -1., -1.]])"
      ]
     },
     "execution_count": null,
     "metadata": {},
     "output_type": "execute_result"
    }
   ],
   "source": [
    "seq_noise = SeqNoiseInjection(std=ns_std,mean=ns_mean)\n",
    "seq_noise(x)"
   ]
  },
  {
   "cell_type": "code",
   "execution_count": null,
   "metadata": {},
   "outputs": [
    {
     "data": {
      "text/plain": [
       "TensorSequencesInput([[ 1.,  1.,  1.],\n",
       "                      [-1., -1., -1.]])"
      ]
     },
     "execution_count": null,
     "metadata": {},
     "output_type": "execute_result"
    }
   ],
   "source": [
    "seq_noise = SeqNoiseInjection(std=ns_std*10)\n",
    "seq_noise(x)"
   ]
  },
  {
   "cell_type": "code",
   "execution_count": null,
   "metadata": {},
   "outputs": [],
   "source": [
    "#| export\n",
    "class SeqNoiseInjection_Varying(RandTransform):\n",
    "    split_idx=0\n",
    "    '''Adds normal distributed noise to the tensor sequence with a normal distributed standard deviation for every application'''\n",
    "    def __init__(self, std_std=0.1,p=1.0):\n",
    "        super().__init__(p=p)\n",
    "        self.std_std = tensor(std_std).type(torch.float)\n",
    "        \n",
    "    def encodes(self, o:TensorSequencesInput): \n",
    "        if o.device != self.std_std.device:\n",
    "            self.std_std = self.std_std.to(o.device)\n",
    "            \n",
    "        #expand creates a view on a tensor and is therefore very fast compared to copy\n",
    "        std = torch.normal(mean=0,std=self.std_std).abs()\n",
    "        return o+torch.normal(mean=0,std=std.expand_as(o))"
   ]
  },
  {
   "cell_type": "code",
   "execution_count": null,
   "metadata": {},
   "outputs": [
    {
     "data": {
      "text/plain": [
       "(TensorSequencesInput([[0, 0, 0],\n",
       "                       [0, 0, 0]]),\n",
       " torch.Size([2, 3]))"
      ]
     },
     "execution_count": null,
     "metadata": {},
     "output_type": "execute_result"
    }
   ],
   "source": [
    "x = TensorSequencesInput(tensor([[0,0,0],[0,0,0]]))\n",
    "ns_std = tensor([1.,1.1,0.1])\n",
    "x,x.shape"
   ]
  },
  {
   "cell_type": "code",
   "execution_count": null,
   "metadata": {},
   "outputs": [
    {
     "data": {
      "text/plain": [
       "TensorSequencesInput([[0, 0, 0],\n",
       "                      [0, 0, 0]])"
      ]
     },
     "execution_count": null,
     "metadata": {},
     "output_type": "execute_result"
    }
   ],
   "source": [
    "seq_noise = SeqNoiseInjection_Varying(std_std=ns_std)\n",
    "seq_noise(x)"
   ]
  },
  {
   "cell_type": "code",
   "execution_count": null,
   "metadata": {},
   "outputs": [],
   "source": [
    "#| export\n",
    "class SeqNoiseInjection_Grouped(RandTransform):\n",
    "    split_idx=0\n",
    "    '''Adds normal distributed noise to the tensor sequence with a normal distributed standard deviation for every application, every group gert'''\n",
    "    def __init__(self, std_std,std_idx,p=1.0):\n",
    "        super().__init__(p=p)\n",
    "        self.std_std = tensor(std_std).type(torch.float)\n",
    "        self.std_idx = tensor(std_idx).type(torch.long)\n",
    "        \n",
    "    def encodes(self, o:TensorSequencesInput): \n",
    "        if o.device != self.std_std.device:\n",
    "            self.std_std = self.std_std.to(o.device)\n",
    "            \n",
    "        #expand creates a view on a tensor and is therefore very fast compared to copy\n",
    "        std = torch.normal(mean=0,std=self.std_std).abs()[self.std_idx]\n",
    "        return o+torch.normal(mean=0,std=std.expand_as(o))"
   ]
  },
  {
   "cell_type": "code",
   "execution_count": null,
   "metadata": {},
   "outputs": [
    {
     "data": {
      "text/plain": [
       "(TensorSequencesInput([[0, 0, 0],\n",
       "                       [0, 0, 0]]),\n",
       " torch.Size([2, 3]))"
      ]
     },
     "execution_count": null,
     "metadata": {},
     "output_type": "execute_result"
    }
   ],
   "source": [
    "x = TensorSequencesInput(tensor([[0,0,0],[0,0,0]]))\n",
    "ns_std = tensor([1.,1.1,0.1])\n",
    "x,x.shape"
   ]
  },
  {
   "cell_type": "code",
   "execution_count": null,
   "metadata": {},
   "outputs": [
    {
     "data": {
      "text/plain": [
       "TensorSequencesInput([[0, 0, 0],\n",
       "                      [0, 0, 0]])"
      ]
     },
     "execution_count": null,
     "metadata": {},
     "output_type": "execute_result"
    }
   ],
   "source": [
    "seq_noise = SeqNoiseInjection_Grouped(std_std=[3.,0],std_idx=[0,0,1])\n",
    "seq_noise(x)"
   ]
  },
  {
   "cell_type": "markdown",
   "metadata": {},
   "source": [
    "### 3.2 Sequence Bias Injection Transformation"
   ]
  },
  {
   "cell_type": "code",
   "execution_count": null,
   "metadata": {},
   "outputs": [],
   "source": [
    "#| export\n",
    "class SeqBiasInjection(RandTransform):\n",
    "    split_idx=0\n",
    "    '''Adds a normal distributed offset to the tensor sequence with seperate mean and std for every signal'''\n",
    "    def __init__(self, std=1e-1,mean=0.,p=1.0):\n",
    "        super().__init__(p=p)\n",
    "        self.std = tensor(std).type(torch.float)\n",
    "        self.mean = tensor(mean).type(torch.float)\n",
    "        \n",
    "    def encodes(self, o:TensorSequencesInput): \n",
    "        if o.device != self.mean.device:\n",
    "            self.std = self.std.to(o.device)\n",
    "            self.mean = self.mean.to(o.device)\n",
    "        \n",
    "        #expand creates a view on a tensor and is therefore very fast compared to copy\n",
    "        mean=self.mean.repeat((o.shape[0],1,1)).expand((o.shape[0],1,o.shape[2]))\n",
    "        std= self.std.repeat((o.shape[0],1,1)).expand((o.shape[0],1,o.shape[2]))\n",
    "        n = torch.normal(mean=mean, std=std).expand_as(o)\n",
    "        return o+n"
   ]
  },
  {
   "cell_type": "code",
   "execution_count": null,
   "metadata": {},
   "outputs": [
    {
     "data": {
      "text/plain": [
       "TensorSequencesInput([[ 1., -1.]])"
      ]
     },
     "execution_count": null,
     "metadata": {},
     "output_type": "execute_result"
    }
   ],
   "source": [
    "x = TensorSequencesInput(tensor([[[1,1,1],[-1,-1,-1.0]]]))\n",
    "ns_mean = tensor([0.,10.1,3.1])\n",
    "ns_std = tensor([1.,1.1,0.1])\n",
    "seq_bias = SeqBiasInjection(std=ns_std,mean=ns_std)\n",
    "seq_bias(x)[...,0]"
   ]
  },
  {
   "cell_type": "code",
   "execution_count": null,
   "metadata": {},
   "outputs": [
    {
     "data": {
      "text/plain": [
       "tensor([1.0000, 1.1000, 0.1000])"
      ]
     },
     "execution_count": null,
     "metadata": {},
     "output_type": "execute_result"
    }
   ],
   "source": [
    "seq_bias.mean"
   ]
  },
  {
   "cell_type": "code",
   "execution_count": null,
   "metadata": {},
   "outputs": [
    {
     "data": {
      "text/plain": [
       "TensorSequencesInput([[[ 1.,  1.,  1.],\n",
       "                       [-1., -1., -1.]]])"
      ]
     },
     "execution_count": null,
     "metadata": {},
     "output_type": "execute_result"
    }
   ],
   "source": [
    "seq_bias = SeqBiasInjection(std=ns_std*10)\n",
    "seq_bias(x)"
   ]
  },
  {
   "cell_type": "markdown",
   "metadata": {},
   "source": [
    "### 3.3 Normalization\n",
    "`Normalize` is programmed for `TensorImage` as an input tensor. It gets. At init the variable axes need to be chosen correspondingly to the shape of your tensor."
   ]
  },
  {
   "cell_type": "code",
   "execution_count": null,
   "metadata": {},
   "outputs": [],
   "source": [
    "#| export\n",
    "@Normalize\n",
    "def encodes(self, x:TensorSequencesInput): \n",
    "    if x.device != self.mean.device:\n",
    "        self.mean = self.mean.to(x.device)\n",
    "        self.std = self.std.to(x.device)\n",
    "    return (x-self.mean) / self.std\n",
    "\n",
    "@Normalize\n",
    "def decodes(self, x:TensorSequencesInput):\n",
    "    if x.device != self.mean.device:\n",
    "        self.mean = self.mean.to(x.device)\n",
    "        self.std = self.std.to(x.device)\n",
    "    return (x*self.std + self.mean)"
   ]
  },
  {
   "cell_type": "code",
   "execution_count": null,
   "metadata": {},
   "outputs": [
    {
     "data": {
      "text/plain": [
       "(TensorSequencesInput([[[ 1.,  1.,  1.],\n",
       "                        [-1., -1., -1.]]]),\n",
       " TensorSequencesInput([[[  1.0000,  -8.2727, -21.0000],\n",
       "                        [ -1.0000, -10.0909, -41.0000]]]))"
      ]
     },
     "execution_count": null,
     "metadata": {},
     "output_type": "execute_result"
    }
   ],
   "source": [
    "norm = Normalize.from_stats(mean=ns_mean,std=ns_std,dim=1,ndim=2,cuda=False)\n",
    "x,norm(x)"
   ]
  },
  {
   "cell_type": "markdown",
   "metadata": {},
   "source": [
    "## 4. Split in Training, Validation\n",
    "Splitting kann anhand von vorher bekannten Indizes, dem Dateipfad oder anderen allgemeinen Funktion durchgeführt werden.\n",
    "\n",
    "Splitting innerhalb einer Sequenzen sollte in der Praxis nur dann geschehen wenn eine einzige Sequenz vorhanden ist. Diese kann dann vorher manuell geteilt werden.\n"
   ]
  },
  {
   "cell_type": "markdown",
   "metadata": {},
   "source": [
    "### 4.1 Splitting mit vorgegebenem Index"
   ]
  },
  {
   "cell_type": "code",
   "execution_count": null,
   "metadata": {},
   "outputs": [],
   "source": [
    "splitter = IndexSplitter([1,2])\n",
    "test_eq(splitter(hdf_files),[[0],[1,2]])"
   ]
  },
  {
   "cell_type": "markdown",
   "metadata": {},
   "source": [
    "### 4.2 Splitting mit allgemeiner Funktion\n",
    "Items, bei denen die definierte Funktion `True` zurück gibt, werden den Validierungsdatensatz zugeordnet, der Rest dem Training. In diesem Fall wird nach dem Übergeordneten Ordnernamen gesucht."
   ]
  },
  {
   "cell_type": "code",
   "execution_count": null,
   "metadata": {},
   "outputs": [],
   "source": [
    "splitter = FuncSplitter(lambda o: Path(o).parent.name == 'valid')\n",
    "test_eq(splitter(hdf_files),[[0,1],[2]])"
   ]
  },
  {
   "cell_type": "markdown",
   "metadata": {},
   "source": [
    "### 4.3 Splitting anhand des Parent-Folders\n",
    "Splitter, der Explizit Training und Validierungsordner den Datensätzen zuordnet"
   ]
  },
  {
   "cell_type": "code",
   "execution_count": null,
   "metadata": {},
   "outputs": [],
   "source": [
    "#| export\n",
    "def _parent_idxs(items, name): return mask2idxs(Path(o).parent.name == name for o in items)\n",
    "\n",
    "def ParentSplitter(train_name='train', valid_name='valid'):\n",
    "    \"Split `items` from the parent folder names (`train_name` and `valid_name`).\"\n",
    "    def _inner(o, **kwargs):\n",
    "        return _parent_idxs(o, train_name),_parent_idxs(o, valid_name)\n",
    "    return _inner"
   ]
  },
  {
   "cell_type": "code",
   "execution_count": null,
   "metadata": {},
   "outputs": [],
   "source": [
    "splitter = ParentSplitter()\n",
    "test_eq(splitter(hdf_files),[[0,1],[2]])"
   ]
  },
  {
   "cell_type": "markdown",
   "metadata": {},
   "source": [
    "### 4.4 Percentage Splitter"
   ]
  },
  {
   "cell_type": "code",
   "execution_count": null,
   "metadata": {},
   "outputs": [],
   "source": [
    "#| export\n",
    "def PercentageSplitter(pct=0.8):\n",
    "    \"Split `items` in order in relative quantity.\"\n",
    "    def _inner(o, **kwargs):\n",
    "        split_idx=int(len(o)*pct)\n",
    "        return L(range(split_idx)),L(range(split_idx,len(o)))\n",
    "    return _inner"
   ]
  },
  {
   "cell_type": "code",
   "execution_count": null,
   "metadata": {},
   "outputs": [],
   "source": [
    "splitter = PercentageSplitter(0.7)\n",
    "test_eq(splitter(hdf_files),[[0,1],[2]])"
   ]
  },
  {
   "cell_type": "markdown",
   "metadata": {},
   "source": [
    "### 4.5 Apply To Dictionary\n",
    "In Case of the Datablock API your items are a list of dictionaries. If you want to apply a Splitter to the path stored within you need a wrapper function."
   ]
  },
  {
   "cell_type": "code",
   "execution_count": null,
   "metadata": {},
   "outputs": [],
   "source": [
    "#| export\n",
    "def ApplyToDict(fn,key='path'):\n",
    "    return lambda x:fn([i[key] for i in x])"
   ]
  },
  {
   "cell_type": "markdown",
   "metadata": {},
   "source": [
    "### 4.6 Valid Column\n",
    "Using the 'valid' column of the Dataframe that has been created by a transformation."
   ]
  },
  {
   "cell_type": "code",
   "execution_count": null,
   "metadata": {},
   "outputs": [],
   "source": [
    "#| export\n",
    "valid_clm_splitter =  FuncSplitter(lambda o:o['valid'])"
   ]
  },
  {
   "cell_type": "code",
   "execution_count": null,
   "metadata": {},
   "outputs": [
    {
     "data": {
      "text/plain": [
       "((#53101) [0,1,2,3,4,5,6,7,8,9...],\n",
       " (#26550) [53101,53102,53103,53104,53105,53106,53107,53108,53109,53110...])"
      ]
     },
     "execution_count": null,
     "metadata": {},
     "output_type": "execute_result"
    }
   ],
   "source": [
    "valid_clm_splitter(src_dicts)"
   ]
  },
  {
   "cell_type": "markdown",
   "metadata": {},
   "source": [
    "## 5. Dataloaders Creation\n",
    "A Datasets combines all implemented components on item level."
   ]
  },
  {
   "cell_type": "code",
   "execution_count": null,
   "metadata": {},
   "outputs": [],
   "source": [
    "#| export\n",
    "def pad_sequence(batch,sorting = False):\n",
    "    '''collate_fn for padding of sequences of different lengths, use in before_batch of databunch, still quite slow'''\n",
    "    #takes list of tuples as input, returns list of tuples\n",
    "    sorted_batch = sorted(batch, key=lambda x: x[0].shape[0], reverse=True) if sorting else batch\n",
    "\n",
    "    pad_func = partial(torch.nn.utils.rnn.pad_sequence,batch_first=True)\n",
    "    padded_tensors = [pad_func([x[tup] for x in sorted_batch]) for tup in range(len(batch[0]))]\n",
    "    padded_list = [retain_types(tuple([tup[entry] for tup in padded_tensors]),batch[0]) for entry in range(len(batch))]\n",
    "    #retain types is important for decoding later back to source items\n",
    "#     import pdb; pdb.set_trace()\n",
    "    \n",
    "    return padded_list"
   ]
  },
  {
   "cell_type": "markdown",
   "metadata": {},
   "source": [
    "### 5.1 Low-Level with Transforms"
   ]
  },
  {
   "cell_type": "code",
   "execution_count": null,
   "metadata": {},
   "outputs": [],
   "source": [
    "tfms=[  [HDF2Sequence(['current','voltage']),SeqSlice(l_slc=1),toTensorSequencesInput],\n",
    "        [HDF2Sequence(['voltage']),SeqSlice(r_slc=-1),toTensorSequencesOutput]]\n",
    "splits = splitter([x['path'] for x in src_dicts])\n",
    "dsrc = Datasets(src_dicts,tfms=tfms,splits=splits)"
   ]
  },
  {
   "cell_type": "code",
   "execution_count": null,
   "metadata": {},
   "outputs": [],
   "source": [
    "# %%timeit\n",
    "# dsrc[0]"
   ]
  },
  {
   "cell_type": "code",
   "execution_count": null,
   "metadata": {},
   "outputs": [
    {
     "data": {
      "text/plain": [
       "torch.Size([128, 100, 2])"
      ]
     },
     "execution_count": null,
     "metadata": {},
     "output_type": "execute_result"
    }
   ],
   "source": [
    "db = dsrc.dataloaders(bs=128,after_batch=[SeqNoiseInjection(std=[1.1,0.01]),Normalize(axes=[0,1])],before_batch=pad_sequence)\n",
    "db.one_batch()[0].shape"
   ]
  },
  {
   "cell_type": "markdown",
   "metadata": {},
   "source": [
    "### 5.2 Mid-Level with Datablock API"
   ]
  },
  {
   "cell_type": "code",
   "execution_count": null,
   "metadata": {},
   "outputs": [],
   "source": [
    "#| export\n",
    "class SequenceBlock(TransformBlock):\n",
    "    def __init__(self, seq_extract,padding=False):\n",
    "        return super().__init__(type_tfms=[seq_extract],\n",
    "                                batch_tfms=[Normalize(axes=[0,1])],\n",
    "                                dls_kwargs={} if not padding else {'before_batch': pad_sequence})\n",
    "\n",
    "    @classmethod\n",
    "    @delegates(HDF2Sequence, keep=True)\n",
    "    def from_hdf(cls, clm_names, seq_cls=TensorSequencesInput,padding=False, **kwargs):\n",
    "        return cls(HDF2Sequence(clm_names,to_cls=seq_cls,**kwargs), padding)\n",
    "\n",
    "    @classmethod\n",
    "    def from_numpy(cls, seq_cls=TensorSequencesInput,padding=False, **kwargs):\n",
    "        return cls(ToTensor(enc=seq_cls), padding)"
   ]
  },
  {
   "cell_type": "code",
   "execution_count": null,
   "metadata": {},
   "outputs": [],
   "source": [
    "seq = DataBlock(blocks=(SequenceBlock.from_hdf(['current','voltage'],TensorSequencesInput,padding=True,cached=None),\n",
    "                        SequenceBlock.from_hdf(['voltage'],TensorSequencesOutput,cached=None)),\n",
    "                get_items=tfm_src,\n",
    "                splitter=ApplyToDict(ParentSplitter()))"
   ]
  },
  {
   "cell_type": "code",
   "execution_count": null,
   "metadata": {},
   "outputs": [],
   "source": [
    "dls = seq.dataloaders(hdf_files)"
   ]
  },
  {
   "cell_type": "code",
   "execution_count": null,
   "metadata": {},
   "outputs": [],
   "source": [
    "#| export\n",
    "class ScalarNormalize(DisplayedTransform):\n",
    "    def __init__(self, mean=None, std=None, axes=(0,)): store_attr()\n",
    "        \n",
    "    @classmethod\n",
    "    def from_stats(cls, mean, std, dim=1, ndim=4, cuda=True): return cls(*broadcast_vec(dim, ndim, mean, std, cuda=cuda))\n",
    "    \n",
    "    def setups(self, dl:DataLoader):\n",
    "        if self.mean is None or self.std is None:\n",
    "            b = dl.one_batch()\n",
    "            for x in b:\n",
    "                if isinstance(x,TensorScalarsInput):\n",
    "                    self.mean,self.std = x.mean(self.axes, keepdim=True),x.std(self.axes, keepdim=True)+1e-7\n",
    "                    return\n",
    "\n",
    "    def encodes(self, x:TensorScalarsInput): \n",
    "        if x.device != self.mean.device:\n",
    "            self.mean = self.mean.to(x.device)\n",
    "            self.std = self.std.to(x.device)\n",
    "        return (x-self.mean) / self.std\n",
    "    \n",
    "    def decodes(self, x:TensorScalarsInput):\n",
    "        if x.device != self.mean.device:\n",
    "            self.mean = self.mean.to(x.device)\n",
    "            self.std = self.std.to(x.device)\n",
    "        return (x*self.std + self.mean)\n",
    "\n",
    "class ScalarBlock(TransformBlock):\n",
    "    def __init__(self, scl_extract):\n",
    "        return super().__init__(type_tfms=[scl_extract],\n",
    "                                batch_tfms=[ScalarNormalize()])\n",
    "\n",
    "    @classmethod\n",
    "    @delegates(HDF2Scalars, keep=True)\n",
    "    def from_hdf(cls, clm_names, scl_cls=TensorScalarsInput, **kwargs):\n",
    "        return cls(HDF2Scalars(clm_names,to_cls=scl_cls,**kwargs))"
   ]
  },
  {
   "cell_type": "markdown",
   "metadata": {},
   "source": [
    "### 5.3 Spectrogram-Datablock"
   ]
  },
  {
   "cell_type": "code",
   "execution_count": null,
   "metadata": {},
   "outputs": [],
   "source": [
    "#| export\n",
    "class TensorSpectrogram(TensorBase):\n",
    "    def show(self, ctx=None, ax=None, title=\"\", **kwargs):\n",
    "        ax = ifnone(ax, ctx)\n",
    "        if ax is None:\n",
    "            _, ax = plt.subplots()\n",
    "        ax.axis(False)\n",
    "        n_channels = self.shape[0]\n",
    "        for i, channel in enumerate(self):\n",
    "            ia = ax.inset_axes((i / n_channels, 0.2, 1 / n_channels, 0.7))\n",
    "#             ia = ax.inset_axes((i / n_channels, 0, 1 / n_channels, 1))\n",
    "    \n",
    "            ia.imshow(channel.cpu().numpy(),aspect ='auto',origin ='lower')\n",
    "            if i>0: ia.set_yticks([])\n",
    "            ia.set_title(f\"Channel {i}\")\n",
    "        ax.set_title(title)\n",
    "        return ax\n",
    "\n",
    "class TensorSpectrogramInput(TensorSpectrogram): pass\n",
    "class TensorSpectrogramOutput(TensorSpectrogram): pass"
   ]
  },
  {
   "cell_type": "code",
   "execution_count": null,
   "metadata": {},
   "outputs": [
    {
     "data": {
      "text/plain": [
       "torch.Size([2000, 1])"
      ]
     },
     "execution_count": null,
     "metadata": {},
     "output_type": "execute_result"
    }
   ],
   "source": [
    "seq_spec = TensorSpectrogramInput(HDF2Sequence(['current'],to_cls=TensorSpectrogramInput)._hdf_extract_sequence(hdf_files[0],r_slc=2000))\n",
    "seq_spec.shape"
   ]
  },
  {
   "cell_type": "code",
   "execution_count": null,
   "metadata": {},
   "outputs": [],
   "source": [
    "#| exporti\n",
    "def complex_norm(\n",
    "        complex_tensor: Tensor,\n",
    "        power: float = 1.0\n",
    ") -> Tensor:\n",
    "    r\"\"\"Compute the norm of complex tensor input.\n",
    "\n",
    "    Args:\n",
    "        complex_tensor (Tensor): Tensor shape of `(..., complex=2)`\n",
    "        power (float): Power of the norm. (Default: `1.0`).\n",
    "\n",
    "    Returns:\n",
    "        Tensor: Power of the normed input tensor. Shape of `(..., )`\n",
    "    \"\"\"\n",
    "    if power == 1.0:\n",
    "        return torch.norm(complex_tensor, 2, -1)\n",
    "    return torch.norm(complex_tensor, 2, -1).pow(power)"
   ]
  },
  {
   "cell_type": "code",
   "execution_count": null,
   "metadata": {},
   "outputs": [],
   "source": [
    "#| exporti\n",
    "def spectrogram(\n",
    "        waveform: Tensor,\n",
    "        pad: int,\n",
    "        window: Tensor,\n",
    "        n_fft: int,\n",
    "        hop_length: int,\n",
    "        win_length: int,\n",
    "        power: Optional[float],\n",
    "        normalized: bool\n",
    ") -> Tensor:\n",
    "    r\"\"\"Create a spectrogram or a batch of spectrograms from a raw audio signal.\n",
    "    The spectrogram can be either magnitude-only or complex.\n",
    "\n",
    "    Args:\n",
    "        waveform (Tensor): Tensor of audio of dimension (..., time)\n",
    "        pad (int): Two sided padding of signal\n",
    "        window (Tensor): Window tensor that is applied/multiplied to each frame/window\n",
    "        n_fft (int): Size of FFT\n",
    "        hop_length (int): Length of hop between STFT windows\n",
    "        win_length (int): Window size\n",
    "        power (float or None): Exponent for the magnitude spectrogram,\n",
    "            (must be > 0) e.g., 1 for energy, 2 for power, etc.\n",
    "            If None, then the complex spectrum is returned instead.\n",
    "        normalized (bool): Whether to normalize by magnitude after stft\n",
    "\n",
    "    Returns:\n",
    "        Tensor: Dimension (..., freq, time), freq is\n",
    "        ``n_fft // 2 + 1`` and ``n_fft`` is the number of\n",
    "        Fourier bins, and time is the number of window hops (n_frame).\n",
    "    \"\"\"\n",
    "\n",
    "    if pad > 0:\n",
    "        # TODO add \"with torch.no_grad():\" back when JIT supports it\n",
    "        waveform = torch.nn.functional.pad(waveform, (pad, pad), \"constant\")\n",
    "\n",
    "    # pack batch\n",
    "    shape = waveform.size()\n",
    "    waveform = waveform.view(-1, shape[-1])\n",
    "\n",
    "    # default values are consistent with librosa.core.spectrum._spectrogram\n",
    "    spec_f = torch.view_as_real(torch.stft(\n",
    "        waveform, n_fft, hop_length, win_length, window, True, \"reflect\", False, True,return_complex=True\n",
    "    ))\n",
    "\n",
    "    # unpack batch\n",
    "    spec_f = spec_f.view(shape[:-1] + spec_f.shape[-3:])\n",
    "\n",
    "    if normalized:\n",
    "        spec_f /= window.pow(2.).sum().sqrt()\n",
    "    if power is not None:\n",
    "        spec_f = complex_norm(spec_f, power=power)\n",
    "\n",
    "    return spec_f"
   ]
  },
  {
   "cell_type": "code",
   "execution_count": null,
   "metadata": {},
   "outputs": [],
   "source": [
    "#| exporti\n",
    "from typing import Callable\n",
    "\n",
    "class Spectrogram(torch.nn.Module):\n",
    "    r\"\"\"Create a spectrogram from a audio signal.\n",
    "\n",
    "    Args:\n",
    "        n_fft (int, optional): Size of FFT, creates ``n_fft // 2 + 1`` bins. (Default: ``400``)\n",
    "        win_length (int or None, optional): Window size. (Default: ``n_fft``)\n",
    "        hop_length (int or None, optional): Length of hop between STFT windows. (Default: ``win_length // 2``)\n",
    "        pad (int, optional): Two sided padding of signal. (Default: ``0``)\n",
    "        window_fn (Callable[..., Tensor], optional): A function to create a window tensor\n",
    "            that is applied/multiplied to each frame/window. (Default: ``torch.hann_window``)\n",
    "        power (float or None, optional): Exponent for the magnitude spectrogram,\n",
    "            (must be > 0) e.g., 1 for energy, 2 for power, etc.\n",
    "            If None, then the complex spectrum is returned instead. (Default: ``2``)\n",
    "        normalized (bool, optional): Whether to normalize by magnitude after stft. (Default: ``False``)\n",
    "        wkwargs (dict or None, optional): Arguments for window function. (Default: ``None``)\n",
    "    \"\"\"\n",
    "    __constants__ = ['n_fft', 'win_length', 'hop_length', 'pad', 'power', 'normalized']\n",
    "\n",
    "    def __init__(self,\n",
    "                 n_fft: int = 400,\n",
    "                 win_length: Optional[int] = None,\n",
    "                 hop_length: Optional[int] = None,\n",
    "                 pad: int = 0,\n",
    "                 window_fn: Callable[..., Tensor] = torch.hann_window,\n",
    "                 power: Optional[float] = 2.,\n",
    "                 normalized: bool = False,\n",
    "                 wkwargs: Optional[dict] = None) -> None:\n",
    "        super(Spectrogram, self).__init__()\n",
    "        self.n_fft = n_fft\n",
    "        # number of FFT bins. the returned STFT result will have n_fft // 2 + 1\n",
    "        # number of frequecies due to onesided=True in torch.stft\n",
    "        self.win_length = win_length if win_length is not None else n_fft\n",
    "        self.hop_length = hop_length if hop_length is not None else self.win_length // 2\n",
    "        window = window_fn(self.win_length) if wkwargs is None else window_fn(self.win_length, **wkwargs)\n",
    "        self.register_buffer('window', window)\n",
    "        self.pad = pad\n",
    "        self.power = power\n",
    "        self.normalized = normalized\n",
    "\n",
    "    def forward(self, waveform: Tensor) -> Tensor:\n",
    "        r\"\"\"\n",
    "        Args:\n",
    "            waveform (Tensor): Tensor of audio of dimension (..., time).\n",
    "\n",
    "        Returns:\n",
    "            Tensor: Dimension (..., freq, time), where freq is\n",
    "            ``n_fft // 2 + 1`` where ``n_fft`` is the number of\n",
    "            Fourier bins, and time is the number of window hops (n_frame).\n",
    "        \"\"\"\n",
    "        return spectrogram(waveform, self.pad, self.window, self.n_fft, self.hop_length,\n",
    "                             self.win_length, self.power, self.normalized)"
   ]
  },
  {
   "cell_type": "code",
   "execution_count": null,
   "metadata": {},
   "outputs": [],
   "source": [
    "#| export\n",
    "@delegates(Spectrogram, keep=True)\n",
    "class Sequence2Spectrogram(Transform):\n",
    "    '''calculates the FFT of a sequence'''\n",
    "    \n",
    "    def __init__(self,scaling='log',**kwargs): \n",
    "        self.scaling=scaling\n",
    "        self.tfm = Spectrogram(**kwargs)\n",
    "        \n",
    "    def encodes(self, o:TensorSpectrogram): \n",
    "        if o.device != self.tfm.window.device: self.tfm.window = self.tfm.window.to(o.device)\n",
    "#         import pdb;pdb.set_trace()\n",
    "        spec = self.tfm(o.transpose(-1,-2).contiguous())\n",
    "        if self.scaling == 'log': spec = torch.log10(spec + 1e-10)\n",
    "        return spec"
   ]
  },
  {
   "cell_type": "code",
   "execution_count": null,
   "metadata": {},
   "outputs": [],
   "source": [
    "#| export\n",
    "class SpectrogramBlock(TransformBlock):\n",
    "    def __init__(self, seq_extract,padding=False,n_fft=100,hop_length=None,normalized=False):\n",
    "        return super().__init__(type_tfms=[seq_extract],\n",
    "                                batch_tfms=[Sequence2Spectrogram(n_fft=n_fft,hop_length=hop_length,normalized=normalized)],\n",
    "                                dls_kwargs={} if not padding else {'before_batch': pad_sequence})\n",
    "\n",
    "    @classmethod\n",
    "    @delegates(HDF2Sequence, keep=True)\n",
    "    def from_hdf(cls, clm_names, seq_cls=TensorSpectrogramInput,padding=False,n_fft=100,hop_length=None,normalized=False, **kwargs):\n",
    "        return cls(HDF2Sequence(clm_names,to_cls=seq_cls,**kwargs), padding,n_fft=n_fft,hop_length=hop_length,normalized=normalized)"
   ]
  },
  {
   "cell_type": "code",
   "execution_count": null,
   "metadata": {},
   "outputs": [],
   "source": [
    "dls_spec = DataBlock(blocks=(SpectrogramBlock.from_hdf(['current','voltage'],n_fft=100,hop_length=10,normalized=True),\n",
    "                        SequenceBlock.from_hdf(['voltage'],TensorSequencesOutput)),\n",
    "                get_items= CreateDict([DfHDFCreateWindows(win_sz=2000+1,stp_sz=10,clm='current')]),\n",
    "                splitter=ApplyToDict(ParentSplitter())).dataloaders(hdf_files)"
   ]
  },
  {
   "cell_type": "code",
   "execution_count": null,
   "metadata": {},
   "outputs": [
    {
     "data": {
      "text/plain": [
       "torch.Size([64, 2, 51, 201])"
      ]
     },
     "execution_count": null,
     "metadata": {},
     "output_type": "execute_result"
    }
   ],
   "source": [
    "dls_spec.one_batch()[0].shape"
   ]
  },
  {
   "cell_type": "markdown",
   "metadata": {},
   "source": [
    "## 6. Show Batches and Results"
   ]
  },
  {
   "cell_type": "code",
   "execution_count": null,
   "metadata": {},
   "outputs": [],
   "source": [
    "#| export\n",
    "def plot_sequence(axs,in_sig,targ_sig,out_sig=None,**kwargs):\n",
    "    n_targ = targ_sig.shape[1]\n",
    "    for j,ax in  enumerate(axs[:-1]):\n",
    "        ax.plot(targ_sig[:,j])\n",
    "        if out_sig is not None: \n",
    "            ax.plot(out_sig[:,j])\n",
    "            ax.legend(['y','ŷ'])\n",
    "            if 'ref' in kwargs:\n",
    "                ax.plot(kwargs['ref'][:,j]) \n",
    "        ax.label_outer()\n",
    "    axs[-1].plot(in_sig)"
   ]
  },
  {
   "cell_type": "code",
   "execution_count": null,
   "metadata": {},
   "outputs": [],
   "source": [
    "#| export\n",
    "def plot_seqs_single_figure(n_samples,n_targ,samples,plot_func,outs=None,**kwargs):\n",
    "    rows=max(1,((n_samples-1) // 3)+1)\n",
    "    cols=min(3,n_samples)\n",
    "    fig = plt.figure(figsize=(9,2*cols))\n",
    "    outer_grid = fig.add_gridspec(rows, cols)\n",
    "#     import pdb; pdb.set_trace()\n",
    "    for i in range(n_samples):\n",
    "        in_sig = samples[i][0]\n",
    "        targ_sig = samples[i][1]\n",
    "        if outs is not None: out_sig = outs[i][0]\n",
    "        inner_grid = outer_grid[i].subgridspec(n_targ+1, 1)\n",
    "        axs = [fig.add_subplot(inner_grid[j]) for j in range(n_targ+1)]\n",
    "        plot_func(axs,in_sig,targ_sig,out_sig=out_sig if outs is not None else None,**kwargs)\n",
    "    plt.tight_layout()"
   ]
  },
  {
   "cell_type": "code",
   "execution_count": null,
   "metadata": {},
   "outputs": [],
   "source": [
    "#| export\n",
    "def plot_seqs_multi_figures(n_samples,n_targ,samples,plot_func,outs=None,**kwargs):\n",
    "    for i in range(n_samples):\n",
    "        fig = plt.figure(figsize=(9,3))\n",
    "        axs = fig.subplots(nrows=n_targ+1,sharex=True)\n",
    "        in_sig = samples[i][0]\n",
    "        targ_sig = samples[i][1]\n",
    "        if outs is not None:  out_sig = outs[i][0]\n",
    "            \n",
    "        plot_func(axs,in_sig,targ_sig,out_sig=out_sig if outs is not None else None,**kwargs)\n",
    "        \n",
    "        plt.tight_layout()"
   ]
  },
  {
   "cell_type": "code",
   "execution_count": null,
   "metadata": {},
   "outputs": [],
   "source": [
    "#| export\n",
    "@typedispatch\n",
    "def show_batch(x:TensorSequences, y:TensorSequences, samples, ctxs=None, max_n=6, **kwargs):\n",
    "    n_samples = min(len(samples), max_n)\n",
    "    n_targ = samples[0][1].shape[1]\n",
    "    if n_samples > 3:\n",
    "        #if there are more then 3 samples to plot then put them in a single figure\n",
    "        plot_seqs_single_figure(n_samples,n_targ,samples,plot_sequence, **kwargs)\n",
    "    else:\n",
    "        #if there are less then 3 samples to plot then put each in its own figure\n",
    "        plot_seqs_multi_figures(n_samples,n_targ,samples,plot_sequence, **kwargs)\n",
    "    return ctxs"
   ]
  },
  {
   "cell_type": "code",
   "execution_count": null,
   "metadata": {},
   "outputs": [],
   "source": [
    "#| export\n",
    "@typedispatch\n",
    "def show_results(x:TensorSequences, y:TensorSequences, samples, outs, ctxs=None, max_n=2, **kwargs):\n",
    "    n_samples = min(len(samples), max_n)\n",
    "    n_targ = samples[0][1].shape[1]\n",
    "    if n_samples > 3:\n",
    "        #if there are more then 3 samples to plot then put them in a single figure\n",
    "        plot_seqs_single_figure(n_samples,n_targ,samples,plot_sequence,outs, **kwargs)\n",
    "    else:\n",
    "        #if there are less then 3 samples to plot then put each in its own figure\n",
    "        plot_seqs_multi_figures(n_samples,n_targ,samples,plot_sequence,outs, **kwargs)\n",
    "    return ctxs"
   ]
  },
  {
   "cell_type": "code",
   "execution_count": null,
   "metadata": {},
   "outputs": [
    {
     "data": {
      "application/vnd.jupyter.widget-view+json": {
       "model_id": "499cdb99c96a424c9a355f81c3867160",
       "version_major": 2,
       "version_minor": 0
      },
      "image/png": "[encoded data removed]",
      "text/html": [
       "\n",
       "            <div style=\"display: inline-block;\">\n",
       "                <div class=\"jupyter-widgets widget-label\" style=\"text-align: center;\">\n",
       "                    Figure\n",
       "                </div>\n",
       "                <img src='data:image/png;base64,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' width=900.0/>\n",
       "            </div>\n",
       "        "
      ],
      "text/plain": [
       "Canvas(toolbar=Toolbar(toolitems=[('Home', 'Reset original view', 'home', 'home'), ('Back', 'Back to previous …"
      ]
     },
     "metadata": {},
     "output_type": "display_data"
    }
   ],
   "source": [
    "dls.show_batch()"
   ]
  },
  {
   "cell_type": "code",
   "execution_count": null,
   "metadata": {},
   "outputs": [],
   "source": [
    "#| include: false\n",
    "import nbdev; nbdev.nbdev_export()"
   ]
  },
  {
   "cell_type": "code",
   "execution_count": null,
   "metadata": {},
   "outputs": [],
   "source": []
  },
  {
   "cell_type": "code",
   "execution_count": null,
   "metadata": {},
   "outputs": [],
   "source": []
  }
 ],
 "metadata": {
  "kernelspec": {
   "display_name": "python3",
   "language": "python",
   "name": "python3"
  }
 },
 "nbformat": 4,
 "nbformat_minor": 4
}
