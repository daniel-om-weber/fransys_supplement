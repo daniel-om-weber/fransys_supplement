{
 "cells": [
  {
   "cell_type": "raw",
   "metadata": {},
   "source": [
    "---\n",
    "output-file: dataloaders.html\n",
    "title: Truncated Backpropagation Through Time\n",
    "\n",
    "---\n",
    "\n"
   ]
  },
  {
   "cell_type": "code",
   "execution_count": null,
   "metadata": {},
   "outputs": [],
   "source": [
    "#| default_exp dataloaders\n",
    "#| default_cls_lvl 3"
   ]
  },
  {
   "cell_type": "code",
   "execution_count": null,
   "metadata": {},
   "outputs": [],
   "source": [
    "#| include: false\n",
    "%matplotlib widget\n",
    "from fastai.callback.progress import *\n",
    "from fastai.callback.tracker import *\n",
    "from fastai.callback.schedule import *"
   ]
  },
  {
   "cell_type": "code",
   "execution_count": null,
   "metadata": {},
   "outputs": [],
   "source": [
    "#| export\n",
    "from seqdata.core import *\n",
    "from seqdata.models.core import *\n",
    "from seqdata.learner import *\n",
    "from fastai.basics import *\n",
    "\n",
    "import math"
   ]
  },
  {
   "attachments": {},
   "cell_type": "markdown",
   "metadata": {},
   "source": [
    "## Custom Dataloaders\n",
    "> Pytorch Modules for Training Models for sequential data"
   ]
  },
  {
   "attachments": {},
   "cell_type": "markdown",
   "metadata": {},
   "source": [
    "The tbptt dataloader needs to split the minibatches that are created in several smaller minibatches that will be returned sequentially before the next minibatch may be created."
   ]
  },
  {
   "cell_type": "code",
   "execution_count": null,
   "metadata": {},
   "outputs": [],
   "source": [
    "#| export\n",
    "from torch.utils.data.dataloader import _MultiProcessingDataLoaderIter,_SingleProcessDataLoaderIter,_DatasetKind\n",
    "_loaders = (_MultiProcessingDataLoaderIter,_SingleProcessDataLoaderIter)\n",
    "\n",
    "@delegates()\n",
    "class TbpttDl(TfmdDL):\n",
    "\n",
    "    def __init__(self, dataset, sub_seq_len=None, seq_len = None ,shuffle=True,num_workers=2, **kwargs):\n",
    "#         assert sub_seq_len is not None\n",
    "        store_attr('sub_seq_len,seq_len')\n",
    "        self.rnn_reset = False\n",
    "        super().__init__(dataset=dataset, shuffle=shuffle, num_workers=num_workers, **kwargs)\n",
    "        \n",
    "    @property\n",
    "    def n_sub_seq(self):\n",
    "        if self.sub_seq_len is None: return 1\n",
    "        if self.seq_len is None: self.seq_len = self.do_item(0)[0].shape[0]\n",
    "        return math.ceil(self.seq_len / self.sub_seq_len)\n",
    "        \n",
    "    def __len__(self):\n",
    "        return super().__len__() * self.n_sub_seq\n",
    "    \n",
    "    def _next_worker(self,w_id):\n",
    "        w_id += 1\n",
    "        if w_id > self.fake_l.num_workers-1: w_id = 0\n",
    "        return w_id\n",
    "\n",
    "    def sample(self):\n",
    "        #replaced new fastai sample formulation that store __idxs in main process\n",
    "        return (b for i,b in enumerate(self.__idxs) if i//(self.bs or 1)%self.num_workers==self.offs)\n",
    "#         return (b for i,b in enumerate(self.get_idxs()) if i//(self.bs or 1)%self.num_workers==self.offs)\n",
    "            \n",
    "    def __iter__(self):\n",
    "        '''iterator that handles multiprocessing by caching samples that are generated out of order'''\n",
    "        self.randomize()\n",
    "        self.before_iter()\n",
    "        self.__idxs=self.get_idxs() # called in context of main process (not workers/subprocesses)\n",
    "        \n",
    "        n_buffer = self.fake_l.num_workers*self.n_sub_seq\n",
    "        queue = {n:[] for n in range(self.fake_l.num_workers)} \n",
    "        current_worker = None\n",
    "        idx = 0\n",
    "        for loaded_b,w_id in _loaders[self.fake_l.num_workers==0](self.fake_l):\n",
    "\n",
    "            if w_id is None:\n",
    "                self.rnn_reset=True\n",
    "                b= loaded_b\n",
    "                self.rnn_reset = (idx % self.n_sub_seq) == 0\n",
    "                yield self.after_batch(b if self.device is None else to_device(b, self.device))\n",
    "                idx += 1 #idx increments after every yield, not every loop\n",
    "            else:\n",
    "                if current_worker is None:\n",
    "                    current_worker = w_id\n",
    "                \n",
    "                #retrieve queued elements from worker\n",
    "                while len(queue[current_worker]) > 0:\n",
    "                    b = queue[current_worker].pop(0)\n",
    "                    self.rnn_reset = (idx % self.n_sub_seq) == 0\n",
    "                    yield self.after_batch(b if self.device is None else to_device(b, self.device))\n",
    "                    idx += 1\n",
    "                    if (idx % self.n_sub_seq) == 0:\n",
    "                        current_worker = self._next_worker(current_worker) #next worker, stay in loop for the queue\n",
    "                        \n",
    "                \n",
    "                #retrieve fresh elements from worker\n",
    "                if w_id != current_worker: #not active worker\n",
    "                    queue[w_id] += [loaded_b]\n",
    "                    continue\n",
    "                else:#active worker\n",
    "                    b = loaded_b\n",
    "                    self.rnn_reset = (idx % self.n_sub_seq) == 0\n",
    "                    yield self.after_batch(b if self.device is None else to_device(b, self.device))\n",
    "                    idx += 1 #idx increments after every yield, not every loop\n",
    "                    if (idx % self.n_sub_seq) == 0:\n",
    "                        current_worker = self._next_worker(current_worker)\n",
    "                \n",
    "        self.after_iter()\n",
    "        if hasattr(self, 'it'): del(self.it)\n",
    "    \n",
    "    def create_batches(self, samps):\n",
    "        yield from self._tbptt_generator(super().create_batches(samps))\n",
    "        \n",
    "    def _tbptt_generator(self,batch_iter):\n",
    "        '''generator function that splits batches in smaller windows, yields mini_batch and worker id'''\n",
    "        for b in batch_iter:\n",
    "            for i in range(self.n_sub_seq):\n",
    "                #it is importan to retain the tuple type, or future transforms may now work\n",
    "                if self.sub_seq_len is None:\n",
    "                    trunc_b = b\n",
    "                else:\n",
    "                    trunc_b = tuple([retain_type(x[:,i*self.sub_seq_len:(i+1)*self.sub_seq_len],x) for x in b])\n",
    "                yield trunc_b, (None if torch.utils.data.get_worker_info() is None else torch.utils.data.get_worker_info().id)\n",
    "        "
   ]
  },
  {
   "cell_type": "code",
   "execution_count": null,
   "metadata": {},
   "outputs": [],
   "source": [
    "tfm_lst = [DfHDFCreateWindows(win_sz=1000+1,stp_sz=1000,clm='current')]\n",
    "seq = DataBlock(blocks=(SequenceBlock.from_hdf(['current','voltage'],TensorSequencesInput,clm_shift=[-1,-1]),\n",
    "                        SequenceBlock.from_hdf(['voltage'],TensorSequencesOutput,clm_shift=[1])),\n",
    "                 get_items=CreateDict(tfm_lst),\n",
    "                 splitter=ApplyToDict(ParentSplitter()))\n",
    "db = seq.dataloaders(get_hdf_files('test_data/battery'),dl_type=TbpttDl,sub_seq_len=100,num_workers=6)"
   ]
  },
  {
   "cell_type": "code",
   "execution_count": null,
   "metadata": {},
   "outputs": [],
   "source": [
    "l = [array(x[-1][0,:,0].cpu()) for x in db.train]"
   ]
  },
  {
   "cell_type": "code",
   "execution_count": null,
   "metadata": {},
   "outputs": [
    {
     "data": {
      "text/plain": [
       "[<matplotlib.lines.Line2D>]"
      ]
     },
     "execution_count": null,
     "metadata": {},
     "output_type": "execute_result"
    },
    {
     "data": {
      "application/vnd.jupyter.widget-view+json": {
       "model_id": "c16f1cad20ab4867bae7a0157f4ea452",
       "version_major": 2,
       "version_minor": 0
      },
      "image/png": "[encoded data removed]",
      "text/html": [
       "\n",
       "            <div style=\"display: inline-block;\">\n",
       "                <div class=\"jupyter-widgets widget-label\" style=\"text-align: center;\">\n",
       "                    Figure\n",
       "                </div>\n",
       "                <img src='data:image/png;base64,iVBORw0KGgoAAAANSUhEUgAAAoAAAAHgCAYAAAA10dzkAAAAOXRFWHRTb2Z0d2FyZQBNYXRwbG90bGliIHZlcnNpb24zLjguNCwgaHR0cHM6Ly9tYXRwbG90bGliLm9yZy8fJSN1AAAACXBIWXMAAA9hAAAPYQGoP6dpAAA22UlEQVR4nO3de3zU1b3/+/fkNglJZiAhAQIBAggIGEQiErS1gtgqpe52721bLaDUnmJRoXa7FdyPLd1HDO3Z7ZHekFq2yNESj1WsdiOKrUAtBMMlGokKcg0QCJfcIZNksn5/JBmYJEQSMjOZ7/f1fDzmQeY7a2bWhyST96y1vmscxhgjAAAA2EZEqDsAAACA4CIAAgAA2AwBEAAAwGYIgAAAADZDAAQAALAZAiAAAIDNEAABAABshgAIAABgMwRAAAAAmyEAAgAA2AwBEAAAwGYIgAAAADZDAAQAALAZAiAAAIDNEAABAABshgAIAABgMwRAAAAAmyEAAgAA2AwBEAAAwGYIgAAAADZDAAQAALAZAiAAAIDNEAABAABshgAIAABgMwRAAAAAmyEAAgAA2AwBEAAAwGYIgAAAADZDAAQAALAZAiAAAIDNEAABAABshgAIAABgMwRAAAAAmyEAAgAA2AwBEAAAwGYIgAAAADZDAAQAALAZAiAAAIDNEAABAABshgAIAABgMwRAAAAAmyEAAgAA2AwBEAAAwGYIgAAAADZDAAQAALAZAiAAAIDNEAABAABshgAIAABgMwRAAAAAmyEAAgAA2AwBEAAAwGYIgAAAADZDAAQAALAZAiAAAIDNEAABAABshgAIAABgM1Gh7kA4a2xs1PHjx5WYmCiHwxHq7gAAgMtgjFFVVZXS0tIUEWHPsTAC4BU4fvy40tPTQ90NAADQBcXFxRo0aFCouxESBMArkJiYKKnpB8jlcoW4NwAA4HJUVlYqPT3d93fcjgiAV6Bl2tflchEAAQAIM3ZevmXPiW8AAAAbIwACAADYDAEQAADAZgiAAAAANkMABAAAsBlLBsCcnBw5HA4tXLjwkm1ee+01TZ8+XSkpKXK5XMrOztbbb78dvE4CAACEiOUCYH5+vn7/+98rMzOzw3ZbtmzR9OnTtX79eu3cuVO33HKLZs6cqd27dweppwAAAKFhqX0Aq6urdc899+i5557TU0891WHbZ555xu/6008/rT//+c968803NWHChAD2EgAAILQsNQI4f/58zZgxQ7feemun79vY2KiqqiolJSUFoGcAAAA9h2VGAHNzc7Vr1y7l5+d36f6/+MUvVFNTo7vuuuuSbTwejzwej+96ZWVll54LAAAglCwxAlhcXKwFCxboxRdfVGxsbKfvv3btWi1ZskQvv/yyUlNTL9kuJydHbrfbd0lPT7+SbgMAAISEwxhjQt2JK/X666/rm9/8piIjI33HvF6vHA6HIiIi5PF4/G672Msvv6z77rtPr7zyimbMmNHh87Q3Apienq6Kigo+CxgAgDBRWVkpt9tt67/flpgCnjZtmgoLC/2O3XfffRo9erQee+yxS4a/tWvXau7cuVq7du0Xhj9Jcjqdcjqd3dJnAAgGY4zKz9WrtMqj0qpanaxs+re00qOYqAgtmHaV4p2W+FMAoBMs8VufmJiocePG+R2Lj49XcnKy7/iiRYt07NgxrVmzRlJT+Js9e7aWL1+uyZMn68SJE5KkuLg4ud3u4BYAAJ1U19Co09UenaryqLSq6d9TzSGv9bE6b+MlH2dsmkt3XjswiD0H0BNYIgBejpKSEh05csR3feXKlWpoaND8+fM1f/583/E5c+Zo9erVIeghALszxqiytkGnqmr9AtzFga4l4JWdq+/UY/fpFa3UxFilupxKSXTqg4NndbTsvDz1lw6HAKzLsgFw06ZNftdbh7rWtwNAoNR7m0brSiubA13L19W1zf96fP/WNVx+IIuOdCgloSnQpSTGKiXRqdTElutNX6e6YtU3IUbOKP+lMN9fna+jZee7u1QAYcKyARAAAunCaJ3/yFzrEbtT1R6dranr1GO7YqOU6or1hbuWUJfqcioloXkUL8Epd1y0IiIcAaoQgJURAAGgHRXn6rXj8Nk2U68XhztPJ0broiIcfiNzKYlNIS6lOei1hLqURKdio9s/cQ0AugsBEADa8S/PbtW+0uovbJcYG3VRqIu9MFrnNxUbq96M1gHoQQiAANCO4rJzkqQbRyQrvU+vVqGuKej1TXAqLobROgDhhwAIAB342T9nalCfXqHuBgB0K0t8FBwAAAAuHwEQAADAZgiAAAAANkMABAAAsBkCIAC0w5hQ9wAAAocACAAAYDMEQADogMPB5s0ArIcACAAAYDMEQAAAAJshAAIAANgMARAAAMBmCIAAAAA2QwAEgHawDSAAKyMAAgAA2AwBEAA6YPVdAA1jnYAtEQABAABshgAIAABgMwRAAAAAmyEAAoAN8RHHgL0RAAGgPZwbAcDCCIAAAAA2QwAEgA4wVQrAigiAAAAANkMABAAAsBkCIAAAgM0QAAEAAGyGAAgA7eAzcgFYGQEQAADAZgiAANABh9gHBoD1EAABAABshgAIAABgMwRAAAAAmyEAAgAA2AwBEADaYdgFBoCFEQABAABshgAIAB1wsAsMAAsiAAIAANgMARAAbIy1joA9EQABAABshgAIAABgMwRAAGgHM6Phrbbeqyf//LH++snJUHcF6JEIgAAAy3nv01K9sO2wvv/CDnkbifNAawRAAOiAdXeBsW5lkhQdeeHP245DZ0PYE6BnIgACACwnOurCn7f1hSUh7AnQMxEAAQCWtv7jE2rwNoa6G0CPYskAmJOTI4fDoYULF3bYbvPmzZo4caJiY2M1bNgwPfvss8HpIAAgaE5VefTXT0tD3Q2gR7FcAMzPz9fvf/97ZWZmdtju4MGDuuOOO/SlL31Ju3fv1uLFi/Xwww/r1VdfDVJPAQDBsmLTfk4GAS5iqQBYXV2te+65R88995z69OnTYdtnn31WgwcP1jPPPKOrr75a999/v+bOnav//u//DlJvAfRkho/IsITk+BglOKNUUFyuH6zZodp6b9Ce29PgVT1Tz+ihLBUA58+frxkzZujWW2/9wrbbtm3Tbbfd5nfsq1/9qnbs2KH6+vpAdREAEET9XLF65tvXKjY6Qn/7tFRPr/8kKM97rPy8blz2nm762d90tOxcUJ4T6AzLBMDc3Fzt2rVLOTk5l9X+xIkT6tevn9+xfv36qaGhQadPn273Ph6PR5WVlX4XABZn7d1SbOHWMf20claWJOnFvMPaf6o64M+5dvsRna726GSlR//1ZlHAnw/oLEsEwOLiYi1YsEAvvviiYmNjL/t+Dof/K3vLlE/r4y1ycnLkdrt9l/T09K53GgAQNDePTNGtV6eq0UjL390X8Of74KK9B98pOqmtn7c/sACESlSoO9Addu7cqdLSUk2cONF3zOv1asuWLfrNb34jj8ejyMhIv/v0799fJ06c8DtWWlqqqKgoJScnt/s8ixYt0iOPPOK7XllZSQgEgDDx4+kj9e4npXrjw+O6dUw/zcwc0O4b/sZGo4+PV+h0tUfDUxI0JDm+U89jjNFnJ6okSVlD+mjH4TL98P/bqcnDkxUTGaGICIfSesfqRzePkLtXdLfUBnSWJQLgtGnTVFhY6Hfsvvvu0+jRo/XYY4+1CX+SlJ2drTfffNPv2DvvvKOsrCxFR7f/C+l0OuV0Oruv4wCAoBmb5ta/TBykP+08qofX7tbz/zio28b0lySVn6tT2bk6na2pV0FxmU5X1/nud++UoXpy5phLzg61dqKyVhXn6xUZ4dCzsybq/hd2qKC4XBuL/D+X+JOSKq2ZO+mSj2OM0f/77j69s+eEHvjKcN157cAuVA20zxIBMDExUePGjfM7Fh8fr+TkZN/xRYsW6dixY1qzZo0kad68efrNb36jRx55RD/4wQ+0bds2rVq1SmvXrg16/wEAwbHsW9coJdGpVe8f1O4j5dp9pLzddgnOKA3qE6dPT1Rp9dZDunlUim4ZlXpZz/FpSdPo3/CUePVNcOqVednasveUjlfUyuttVGVtg371133asveUPimp1NUDXO0+zp8LjutXf22arn70Tx/phoxk9Xdf/jInoCOWCICXo6SkREeOHPFdz8jI0Pr16/XjH/9Yv/3tb5WWlqZf/epX+ud//ucQ9hIAEEhRkRF67Gujdd+UoXq94Jg+KalShMOhPr2i1btXtHr3itGwlHhlDUlSTFSEnvpLkf7w/kGt2XqoTQCsrffq7T0nNCkjSQPccb7jRSVNJwiO7t8U7KIjIzTtav+TDouOV2rDnhNaX1jSbgD0Nhr9cuNe3/W6hka9tvuofvSVEd32fwF7s2wA3LRpk9/11atXt2lz8803a9euXcHpEICwwi6A1pbqitX/9eXhX9ju29en6w/vH9Q/Pj+jak+DajwN+v/zixUR4dCbHx7Xpyeq1DchRn/9yVfkjmtaPvRJSwAckHjJx71ldIo27Dmh7QfOtnv71v2ndeTsOblio/TQ1Ku0dP0n2rL3FAEQ3cYSZwEDQKA42AfG1kakJiijb7zqvI366ycndfdzefrFxr36f97+TJ82n+hxurpObxQc892nJQBeampXkiZlNJ1sWFBcrtp6b5uNx9/88Lgk6c5rB2ra1U0jj7uOlPs2st76+Wlt/fw0n26CLiMAAgBwCQ6HQ7eNaZq+XZBboP2nahQTGaEvj0zR7eP669tZTTtB/OPzM5KapoUPnq6RJI3tIAAOTe6l/q5Y1Xkb9firH2nUf2xQzlsXNqn+6GiFJOnLI1OU0TdeKYlO1TU0qvBYhV7aflh3/2G77v7Dds389ftq4NNG0AUEQAAAOjB9jP/6vYXTr9KauZO04nsT9S9ZgyRJOw6XSZI+O1GlRtP0EXQpiZfeNcLhcOjmkSmSpNcLjqvO26iVmw/oaNk51dZ7ta+0abPqsWkuORwOZQ1p+njT/ENn9cLWQ77HKSqpVElFbbfVCvsgAAKAjTGB+MUmDO6j9KSmkzyS42M0O3uo77ZxaW45HNLpao/OVHv8pn+/aNuYW0a3Pat4y97T2nuySt5Goz69ojWg+azfic0B8I2C49p7sloRrEzAFbLsSSAAAPu68MlOV/5YkREOPX/vJL2Yd1jfnDBQCc4LfzrjYiI1sHecjpad1+el1RcFwEufANLi1qtTNXN8mk5W1CrV5dRfPipRQXGZr89j09y+EHn90CRJ8q07nDikjz4+VqnzzWsCgc4iAAIA8AVGpCZoyTfGXvK2o2Xnta+0Wp807wHY0QkgLaIiI/Tr706QJG0sOqm/fFSiD4srFBPVNDk3Nu3CY4xJcykuOtIX+L4yKlUfH+Pz6NF1TAEDQDsMc6O4TFelJkhS0wjgiS8+A7g91wx0Nz3GqWrtOlwuqSn0tYiOjFDmILfv+q2t9hUEOosACADAFbgqtWm6973PSlVV26DoSIeGpyR06jH6uZxKjo+Rt9H4NpIem+b2a/OdSelyOJqmjkf269zjA60xBQwAHeiONWSwtpYNnw+fOSepKRC2TONeLofDobED3dqy95QkKS46Uhl94/3afHPCIN08MlXuuOjL/lxi4FIYAQQA4ApclZrod1Zuy3RuZ41rteYvsp1TfZPiY9o9DnQWARAAbIgBpO4TFxOpockXRutatmzprHEXBcfrBve+0m4BHSIAAgBwhbKHJ/u+vumqvl16jMnDkuWOi1ZMVIS+MX5gd3UNaBdrAAEAuEILpl2l4+XnlT08WWm947r0GEnxMdqw8EuqrW9ss/4P6G4EQAAArlCqK1bP3zfpih9ngPvywyPT+LgSTAEDAADYDAEQADrAIAsAKyIAAgAA2AwBEAAAwGYIgAAAADZDAAQAALAZAiAAtGKMCXUXACCgCIAAAIQx3q+gKwiAANABB7vthjW+fUD7CIAAAAA2QwAEAFiOHWZFGdzElSAAAoCNsX4MsCcCIAAAgM0QAAGgFUbFAFgdARAAAMBmCIAA0AEW2gOwIgIgAACAzRAAAQAIY8YWm96guxEAAQAAbIYACAAAYDMEQABoxQ4TapzcEv74nGpcCQIgAACAzRAAAaADDLIAsCICIAAAgM0QAAEAAGyGAAgAAGAzBEAAgGU5ON8ZaBcBEABaMcYOG8HAKvhxRVcQAAEAAGyGAAgAHWAKMUwxKgZ0iAAIAABgMwRAAADCEGPTuBIEQAAAAJshAAIAANgMARAAbMxwtgRgSwRAAGiFSATA6giAAAAANmOJALhixQplZmbK5XLJ5XIpOztbb731Vof3eemllzR+/Hj16tVLAwYM0H333aczZ84EqccAwganWqKHY8QaXWGJADho0CAtW7ZMO3bs0I4dOzR16lTdeeed2rNnT7vt33//fc2ePVvf//73tWfPHr3yyivKz8/X/fffH+SeAwAABF9UqDvQHWbOnOl3fenSpVqxYoXy8vI0duzYNu3z8vI0dOhQPfzww5KkjIwM/fCHP9TPf/7zoPQXAAAglCwxAngxr9er3Nxc1dTUKDs7u902U6ZM0dGjR7V+/XoZY3Ty5En96U9/0owZMzp8bI/Ho8rKSr8LAABAuLFMACwsLFRCQoKcTqfmzZundevWacyYMe22nTJlil566SV9+9vfVkxMjPr376/evXvr17/+dYfPkZOTI7fb7bukp6cHohQAAL4Y61NxBSwTAEeNGqWCggLl5eXpgQce0Jw5c1RUVNRu26KiIj388MP6z//8T+3cuVMbNmzQwYMHNW/evA6fY9GiRaqoqPBdiouLA1EKgBAzrKoHYHGWWAMoSTExMRoxYoQkKSsrS/n5+Vq+fLlWrlzZpm1OTo5uvPFGPfroo5KkzMxMxcfH60tf+pKeeuopDRgwoN3ncDqdcjqdgSsCAAAgCCwzAtiaMUYej6fd286dO6eICP/SIyMjffcDgBYOi06zWbUuAJfHEiOAixcv1u2336709HRVVVUpNzdXmzZt0oYNGyQ1Td0eO3ZMa9askdR01vAPfvADrVixQl/96ldVUlKihQsXatKkSUpLSwtlKQCAbkTQBdpniQB48uRJzZo1SyUlJXK73crMzNSGDRs0ffp0SVJJSYmOHDnia3/vvfeqqqpKv/nNb/STn/xEvXv31tSpU/Wzn/0sVCUAAAAEjSUC4KpVqzq8ffXq1W2OPfTQQ3rooYcC1CMAAIKDpUvoCsuuAQQAAED7CIAA0Irh01XDHt9DoGMEQAAAAJshAAJABziJFIAVEQABAAhDvDnBlSAAAgAA2AwBEAAAwGYIgAAAADZDAATQJd5G626zYad9de1Uq1XxLURXWOKTQAB0TW29VxXn6y9cztX7Xz9fr8rzbY9VnK9XozFa+s1rdFdWeqjLAAB0EgEQCHOXE+IudalraLyi5/7H56ctHwAdDs61BGA9BECgB7g4xJV3YhSuO0JchENyxUXLfdGl9fXWl/WFJfrdpv3dVD0AINgIgEAAeBq82vr5GZ2pqeuxIc4dFy13r2glxEQpIqJzo1x5B85cUX8BAKFFAAQC4P/+S5FezDvSqftEONSpAOe6whAHALAvAiAQAMfLayVJo/snakRqAiEOQLdjfSquBAEQCADTvLfG3JsyLH2SBFuIoKcjIgHtYx9AAAAAmyEAAgHQMjBm1dEHO0092adSAHZCAAQCgKlRAMHC6w26ggAIBJCdRsoAAOGDAAgEgNWngBH+HBb/6WRUDOgYARBAl/E3FgDCEwEQCICWbWCYAQ5PjB4BsDoCIIBOI9cCQHgjAAIBxAhg+ON7CMCKCIBAADCFCCDQeHOCK0EABALI6mdaAgDCEwEQCAAje5wEYhjqBICwRAAE0GlWD7ZAeOGNGDqPAAgEAANjAICejAAIAK0YRlQAWBwBEAiAlhFAPgs4/Fn9RB6iLmBPBEAgABhBAgD0ZARAIICsPXbE6BHCAKPwQLsIgEAAXJgCDm0/AsWiZQGAbRAAAQAIQ7wRw5UgAAIB0DI1avUTCAAA4YkACACtsI8jAKsjAAKBYPE1gAB6Dt6woCsIgEAA+D4LOMT9CBTf/oY2+MNDiAdgRQRAAIDlMCoGdIwACASA1beBAQCENwIgAACAzRAAgQC4MPvEECB6JkanAXsjAAIBYFiAFNb47gGwOgIgEEBWHWW5cBIwUQkAwhEBEAiAC58EAgCB4bDqO0wEBQEQAADAZgiAQABc2AaGd+gAAouFGOgKAiAAAIDNWCIArlixQpmZmXK5XHK5XMrOztZbb73V4X08Ho+eeOIJDRkyRE6nU8OHD9f//M//BKnHsDqrrwG0al0AYBdRoe5Adxg0aJCWLVumESNGSJJeeOEF3Xnnndq9e7fGjh3b7n3uuusunTx5UqtWrdKIESNUWlqqhoaGYHYbVmaTbWCsWibb+FgHb1aA9lkiAM6cOdPv+tKlS7VixQrl5eW1GwA3bNigzZs368CBA0pKSpIkDR06NBhdhc2wBBAA0BNZYgr4Yl6vV7m5uaqpqVF2dna7bd544w1lZWXp5z//uQYOHKiRI0fq3/7t33T+/PkOH9vj8aiystLvArTHNwVMAAx7lv8eMtoJ2JIlRgAlqbCwUNnZ2aqtrVVCQoLWrVunMWPGtNv2wIEDev/99xUbG6t169bp9OnT+tGPfqSzZ892uA4wJydHP/3pTwNVAgAAQFBYZgRw1KhRKigoUF5enh544AHNmTNHRUVF7bZtbGyUw+HQSy+9pEmTJumOO+7QL3/5S61evbrDUcBFixapoqLCdykuLg5UOQhzvm1gWIEEAOiBLDMCGBMT4zsJJCsrS/n5+Vq+fLlWrlzZpu2AAQM0cOBAud1u37Grr75axhgdPXpUV111VbvP4XQ65XQ6A1MAEE4sPy8KANZmmRHA1owx8ng87d5244036vjx46qurvYd27t3ryIiIjRo0KBgdREW5vuMXIvnJJaPAaFj8ZcXBJglAuDixYv197//XYcOHVJhYaGeeOIJbdq0Sffcc4+kpqnb2bNn+9rffffdSk5O1n333aeioiJt2bJFjz76qObOnau4uLhQlQELIRiFN759CCe83qArLDEFfPLkSc2aNUslJSVyu93KzMzUhg0bNH36dElSSUmJjhw54mufkJCgjRs36qGHHlJWVpaSk5N111136amnngpVCbAo3qEDoUEmAjpmiQC4atWqDm9fvXp1m2OjR4/Wxo0bA9Qj2B2fBWwdnMgDwIosMQUMILiIRAAQ3iwxAggEkzFGlbUNOltTp7M1Hp2urmv+uk6nqz06W1On4rPnJBGUAAA9EwEQtnc5ga7p66bbz9bUqd57eSuM+rtjA9z70DKstAKAsEQAhOUEMtBdLD4mUkkJMUqKd6pvfIyS4mOUlBCj5PgYJcc7Nap/okb2SwxAhQAAXBkCIHq8UAe6vvFO/6+bQ15sdGQAqkVPwLYaAKyOAIiQqPc26mjZ+aAEuuR4p5KbA11ywsVfN91GoAMA2A0BEEHnbTT62jNbtP9UTafuR6DrOey0u41Va7VqXXbC9xBXggCIoKs8X+8Lf+lJcb5Al9w8/Xrh6+aw1/w1gQ4A2uJkLHQFARAhtfnfblFEBG9jwxVr5dDTMUoGtI+NoAEAAGyGAAgAAGAzBEAEHbOG4c/yn4/LDykAiyMAAgAA2AwBECHFAm30dPyIArAiAiCALmOmNPzxPQTsiQCIoDPsHQIAQEgRAAEACGO8p0ZXEAARUg4WAYYlvm3o6ewx08AvIrqOAAgAAGAzBEAEnR3elyO88dmqAKyOzwIG0GW2mGUDEFDGGFV7GnSqytN0qfZc+LrKo9uv6a+po/uFupuWQwAEgA6wThXoGk+DV6er6/zCXFPAq20T9mrrGy/5OAPcsQTAACAAAug0IhFgT95Go7JzrUJddeuA1/Rvxfn6Tj12ojNKKYlO9U10KiXRqZSEpn9vyEgKUDX2RgAEAMDGvmgK9uLrZ2rq5G28/LUfMZERF0Jdc6BLaRXwUhOd6pvgVFxMZACrRGsEQAQd68YAIPC6awq2NYdDSo6PUd9LBLqWUJeSECtXXBTLKHooAiAAAGFs5eb9Sk5wBmwK9uKAl5roVFJ8jKIi2UQk3BEAETK8KbSC8B3Ora33qrTSo9KqWpVWeVRa2fxvlUclFedD3T3gC0VHNr2Ivl5w/JJtmILFpRAAAViGMUZVngZfsDtV5WkV8i58XVXb8IWPN7B3nCJ4oxLWrPzt+/H0kfrfj0qUHB9zyalYd1w0U7BoFwEQQccmu+Ev2H9PGpvPPGwZoWsZrTtV1RzoKpuPV9V2ai2TMypCqS6nUhNjldo8EpLqivWNilyb3ps/nuix7spK111Z6aHuBsIUARBAyDR4G3W6uq5NiGsZrTvV/PXpao/qvZf/xiHRGaUUV3Ogawl3Lv+vUxJj5YplgToAeyIAImT4s2tdtfXe5tG5CyGuZfr1ZOWF42dq6jp1VnhSfEzT2YUtwe7ikHfR16xl+mIOfgMBWyMAAuiydz8pVc76Ty6M3DWHu86cfRgZ4VDfhJg2o3MXT8m2LFKPieLMQwDoDgRABB9LAMNeVMSFILZyy4F228RERVwIca1G6C6enk2Kj1EkZ1oAQFARAAF02rSrU/Wt6waq3msuGqm7+GQKNoAFgJ6MAIiQIRyEr969YvTLu64NdTcAAF3EghoAAACbIQAi6FgCCABAaBEAAcDGOrMNTzixaFlAtyEAImRYAQgAQGgQAAEAAGyGAAgAAGAzBEAEnVXXHAEAEC4IgAAAADZDAETIsA80AAChQQAEAACwGQIggs6wQxeAIOEjJ4H2EQABAABshgCIkHGwFTQAACFBAAQAALAZAiCCjn0AAQAILUsEwBUrVigzM1Mul0sul0vZ2dl66623Luu+//jHPxQVFaVrr702sJ0EAADoISwRAAcNGqRly5Zpx44d2rFjh6ZOnao777xTe/bs6fB+FRUVmj17tqZNmxaknsIPSwABAAgJSwTAmTNn6o477tDIkSM1cuRILV26VAkJCcrLy+vwfj/84Q919913Kzs7O0g9BQAACD1LBMCLeb1e5ebmqqampsNg9/zzz2v//v168sknL/uxPR6PKisr/S4AAADhJirUHeguhYWFys7OVm1trRISErRu3TqNGTOm3bb79u3T448/rr///e+Kirr8/4KcnBz99Kc/7a4u2xbngAA9AEswAFuzzAjgqFGjVFBQoLy8PD3wwAOaM2eOioqK2rTzer26++679dOf/lQjR47s1HMsWrRIFRUVvktxcXF3dd+W+PsDAEBoWGYEMCYmRiNGjJAkZWVlKT8/X8uXL9fKlSv92lVVVWnHjh3avXu3HnzwQUlSY2OjjDGKiorSO++8o6lTp7b7HE6nU06nM7CFAACuGNtNAR2zTABszRgjj8fT5rjL5VJhYaHfsd/97nf629/+pj/96U/KyMgIVhcBAABCwhIBcPHixbr99tuVnp6uqqoq5ebmatOmTdqwYYOkpqnbY8eOac2aNYqIiNC4ceP87p+amqrY2Ng2xxEYhrfmAACElCUC4MmTJzVr1iyVlJTI7XYrMzNTGzZs0PTp0yVJJSUlOnLkSIh7CQA9D2/IAHuyRABctWpVh7evXr26w9uXLFmiJUuWdF+HcFkcnAUCAEBIWOYsYAAAAFweAiCCjhknAABCiwAIALAsVpoA7SMAImQcvDQDABASBEAAAACbIQACAADYDAEQAADAZgiACBn2AQQAIDQIgAAAADZDAAQAALAZAiCCjo2gAQAILQIgAACAzRAAETKcAwIAQGgQAAEAAGyGAIigM2IRIAAAoUQABABYEG80gY4QABEyDnaCBgAgJAiAAGBDvP0C7I0AiKBjH0AAAEKLAAgAAGAzBECEDFNQAAKNpcZA+wiAAGBjrMgA7IkAiKDjDw4AAKFFAAQAALAZAiBCh7U5AACEBAEQAADAZgiAAAAANkMARNAZdoIGACCkCIAAAAA2QwBEyHAOCAAAoUEABAAAsBkCIIKOFYAAAIQWARAAAMBmCIAIGQef0g4AQEgQAAEAlsNuU0DHCIAIOl6YAQAILQIgAACAzRAAETIsAQQAIDQIgAAAADZDAAQAWJaDzxwC2kUARAhwFggAAKFEAETI8L4cCB324QTsjQAIAABgMwRAALAx9uUE7IkAiKDjDw4AAKFFAAQAALAZAiBChkXoAACEBgEQAADAZgiACDqWAAIAEFoEQAAAAJuxRABcsWKFMjMz5XK55HK5lJ2drbfeeuuS7V977TVNnz5dKSkpvvZvv/12EHsMiY2gAQAIFUsEwEGDBmnZsmXasWOHduzYoalTp+rOO+/Unj172m2/ZcsWTZ8+XevXr9fOnTt1yy23aObMmdq9e3eQew4AABB8UaHuQHeYOXOm3/WlS5dqxYoVysvL09ixY9u0f+aZZ/yuP/300/rzn/+sN998UxMmTAhkVyH2AQQAINQsEQAv5vV69corr6impkbZ2dmXdZ/GxkZVVVUpKSmpw3Yej0cej8d3vbKy8or6CgAAEAqWmAKWpMLCQiUkJMjpdGrevHlat26dxowZc1n3/cUvfqGamhrdddddHbbLycmR2+32XdLT07uj67bFNoAAAoWJBqBjlgmAo0aNUkFBgfLy8vTAAw9ozpw5Kioq+sL7rV27VkuWLNHLL7+s1NTUDtsuWrRIFRUVvktxcXF3dR8AACBoLDMFHBMToxEjRkiSsrKylJ+fr+XLl2vlypWXvM/LL7+s73//+3rllVd06623fuFzOJ1OOZ3ObuszAABAKFhmBLA1Y4zfer3W1q5dq3vvvVd//OMfNWPGjCD2DIbJGQDBwlIToF2WGAFcvHixbr/9dqWnp6uqqkq5ubnatGmTNmzYIKlp6vbYsWNas2aNpKbwN3v2bC1fvlyTJ0/WiRMnJElxcXFyu90hqwMAACAYLDECePLkSc2aNUujRo3StGnTtH37dm3YsEHTp0+XJJWUlOjIkSO+9itXrlRDQ4Pmz5+vAQMG+C4LFiwIVQk2xVtzAABCwRIjgKtWrerw9tWrV/td37RpU+A6AwAA0MNZYgQQ4YWNoAEACC0CIAAAgM0QABEybAQNAEBoEAABAABshgCIoGpsNCqpOB/qbgC21zIAz5JcwJ4scRYweq6Kc/XaXVym3UfKtbu4XAVHylRZ2yBJionk/QcAAKFAAES38TYafXai6kLgO1Km/adq2rSLjY5Q5qDeunfK0OB3EgAAEADRdWU1ddp1pEw7DzcFvg+PlutcnbdNu6HJvXTd4D6aMLi3Jgzuo1H9ExXN6B8AACFDAMRlaWw0OnC6WjsPl/ku7Y3uJTijND7drQnpfXTdkN66Nr2PkuJjQtBjAABwKQRAtOt8nVcfHi33hb1dR8pUfq6+TbthKfGaOLiPrhvSNMJ3VWqiIiPY3wUAgJ6MAAhJUknFeb/RvaLjlWpo9D8/0BkVofHpvTVxSB9lDemjCYMZ3QMAIBwRAG2owduoT0qqtPPwWe08Uq5dh8t0rLzt1iz9XE5lDUnSdc2B7+oBLsVEsXYPAIBwRwC0gcraeu1qHtnbcahMBcXlOl/vf7JGZIRDVw9I9E3nZg1NUpo7Vg4+rgNAmDlWfl4fFpeHuhtAj0YAtKDSqlrlHyxT/qGz+uDgWX16olKtZnPlio3SdUP6aOLgPpo4pI/Gp/dWvJMfBwDhpbHRaF9ptfIPnVX+obPacch/RiOR1zWgXfxmhDljjA6dOaf8g2f1QfML4OEz59q0G5LcS1lDkpQ1tCnwjUhJUAQnawAIM3UNjSo8Vq78Q2XKP3hWOw6XqeK8/wlqkREOjU1z6fqhSZqdPSREPQV6NgJgmPE2Gn1SUqkPDp5tfsdbptPVHr82Dod0dX+XJmUk6fqhSbp+aB+lumJD1GMA6Lqq2nrtOlKu/ObXvILicnkaGv3axEVH6rohvZU1pOk1b8JgZjSAL8JvSA9XW+9VQXHzi9/hMu06XKZqT4Nfm5jICI1PdzeFvYwkTRzSR67Y6BD1GAC67lSV56I3uGf1SUnbJSxJ8TG6fmif5je4SRqT5mJzeaCTCIA90M7DZ7WxqFT5h87qo6Plqvf6v/olOqM0sfnFb1JGkq4Z6FZsdGSIegsAXVdaWau8g2eVd+CMth840+4G84OTevlmM67PSNKwvvGcoAZcIQJgD/RO0Umt3HzAdz010anrM5I0aWjTGr7R/V1stgwgLJVUnNf2A2e1/eAZ5R04q4On/QOfwyGN7u/SDRlNr3fXD01SP5awAN2OANgD3TIqVWU1db4RvsFJvXi3CyAsHSs/r+0HzjSN8B1se5KawyGNTXPphoxkTR6WrElDk+TuxRIWINAIgD3Q5GFNL4QAEG6Kz57zhb28A2d0tMx/k/kIhzRuoFs3ZCRp8rBkZQ1NkjuOwAcEGwEQANBlxWfPadv+CyN8rT9VKDLCoXED3Zo8LEmTM5I1cSgnqQE9AQEQAHDZTlV5tHX/aW3bf0b/2H9axWf9A19UhEOZg9y6oXkmY+KQPkpgSxagx+G3EgBwSRXn67X9wBlt3X9GW/ef1t6T1X63R0U4ND69d9MIX3Pg6xXDnxagp+O3FADgU1vv1Y5DZfrH/tPauv+MCo+Wt9mHb8wAl24ckawpw/vq+owkRviAMMRvLQDYWIO3UTsPn9XWz5umdHcdLled1/+TNob1jVf28GTdOKKvJg9LVlJ8TIh6C6C7EAABwMZy3vq0zbH+rlhNaR7hmzI8WWm940LQMwCBRAAEABvqm+D0fd27V7SyhyVryoi+unF4sjL4pA3A8giAAGBDD00dofHpbg1PSdCYAS5F8OlCgK0QAAHAhvrEx+jOaweGuhsAQiQi1B0AAABAcBEAAQAAbIYACAAAYDMEQAAAAJshAAIAANgMARAAAMBmCIAAAAA2QwAEAACwGQIgAACAzRAAAQAAbIYACAAAYDMEQAAAAJshAAIAANhMVKg7EM6MMZKkysrKEPcEAABcrpa/2y1/x+2IAHgFqqqqJEnp6ekh7gkAAOisqqoqud3uUHcjJBzGzvH3CjU2Nur48eNKTEyUw+Ho1seurKxUenq6iouL5XK5uvWxewLqC39Wr5H6wp/Va7R6fVLgajTGqKqqSmlpaYqIsOdqOEYAr0BERIQGDRoU0OdwuVyW/cWWqM8KrF4j9YU/q9do9fqkwNRo15G/FvaMvQAAADZGAAQAALAZAmAP5XQ69eSTT8rpdIa6KwFBfeHP6jVSX/izeo1Wr0+yR42hwkkgAAAANsMIIAAAgM0QAAEAAGyGAAgAAGAzBEAAAACbIQD2QL/73e+UkZGh2NhYTZw4UX//+99D3aV2bdmyRTNnzlRaWpocDodef/11v9uNMVqyZInS0tIUFxenr3zlK9qzZ49fG4/Ho4ceekh9+/ZVfHy8vvGNb+jo0aN+bcrKyjRr1iy53W653W7NmjVL5eXlAa5OysnJ0fXXX6/ExESlpqbqn/7pn/TZZ5/5tQnnGlesWKHMzEzfBqvZ2dl66623LFFbe3JycuRwOLRw4ULfsXCvccmSJXI4HH6X/v37W6Y+STp27Ji+973vKTk5Wb169dK1116rnTt3+m4P9xqHDh3a5nvocDg0f/58S9TX0NCg//iP/1BGRobi4uI0bNgw/dd//ZcaGxt9bcK9xrBl0KPk5uaa6Oho89xzz5mioiKzYMECEx8fbw4fPhzqrrWxfv1688QTT5hXX33VSDLr1q3zu33ZsmUmMTHRvPrqq6awsNB8+9vfNgMGDDCVlZW+NvPmzTMDBw40GzduNLt27TK33HKLGT9+vGloaPC1+drXvmbGjRtntm7darZu3WrGjRtnvv71rwe8vq9+9avm+eefNx9//LEpKCgwM2bMMIMHDzbV1dWWqPGNN94w//u//2s+++wz89lnn5nFixeb6Oho8/HHH4d9ba198MEHZujQoSYzM9MsWLDAdzzca3zyySfN2LFjTUlJie9SWlpqmfrOnj1rhgwZYu69916zfft2c/DgQfPuu++azz//3DI1lpaW+n3/Nm7caCSZ9957zxL1PfXUUyY5Odn85S9/MQcPHjSvvPKKSUhIMM8884yvTbjXGK4IgD3MpEmTzLx58/yOjR492jz++OMh6tHlaR0AGxsbTf/+/c2yZct8x2pra43b7TbPPvusMcaY8vJyEx0dbXJzc31tjh07ZiIiIsyGDRuMMcYUFRUZSSYvL8/XZtu2bUaS+fTTTwNclb/S0lIjyWzevNkYY80a+/TpY/7whz9Yqraqqipz1VVXmY0bN5qbb77ZFwCtUOOTTz5pxo8f3+5tVqjvscceMzfddNMlb7dCja0tWLDADB8+3DQ2NlqivhkzZpi5c+f6HfvWt75lvve97xljrPk9DBdMAfcgdXV12rlzp2677Ta/47fddpu2bt0aol51zcGDB3XixAm/WpxOp26++WZfLTt37lR9fb1fm7S0NI0bN87XZtu2bXK73brhhht8bSZPniy32x30/5OKigpJUlJSkiRr1ej1epWbm6uamhplZ2dbqrb58+drxowZuvXWW/2OW6XGffv2KS0tTRkZGfrOd76jAwcOWKa+N954Q1lZWfrXf/1XpaamasKECXruued8t1uhxovV1dXpxRdf1Ny5c+VwOCxR30033aS//vWv2rt3ryTpww8/1Pvvv6877rhDkvW+h+EkKtQdwAWnT5+W1+tVv379/I7369dPJ06cCFGvuqalv+3VcvjwYV+bmJgY9enTp02blvufOHFCqampbR4/NTU1qP8nxhg98sgjuummmzRu3Dhf31r6e7FwqrGwsFDZ2dmqra1VQkKC1q1bpzFjxvheMMO5NknKzc3Vrl27lJ+f3+Y2K3z/brjhBq1Zs0YjR47UyZMn9dRTT2nKlCnas2ePJeo7cOCAVqxYoUceeUSLFy/WBx98oIcfflhOp1OzZ8+2RI0Xe/3111VeXq57773X16+Wvl4snOp77LHHVFFRodGjRysyMlJer1dLly7Vd7/7XV/fWvrbuv/hUmO4IgD2QA6Hw++6MabNsXDRlVpat2mvfbD/Tx588EF99NFHev/999vcFs41jho1SgUFBSovL9err76qOXPmaPPmzZfsVzjVVlxcrAULFuidd95RbGzsJduFc42333677+trrrlG2dnZGj58uF544QVNnjy53b6FU32NjY3KysrS008/LUmaMGGC9uzZoxUrVmj27NmX7F841XixVatW6fbbb1daWprf8XCu7+WXX9aLL76oP/7xjxo7dqwKCgq0cOFCpaWlac6cOZfsXzjVGK6YAu5B+vbtq8jIyDbvVkpLS9u8O+rpWs5E7KiW/v37q66uTmVlZR22OXnyZJvHP3XqVND+Tx566CG98cYbeu+99zRo0CDfcSvUGBMToxEjRigrK0s5OTkaP368li9fbonadu7cqdLSUk2cOFFRUVGKiorS5s2b9atf/UpRUVG+5w/nGluLj4/XNddco3379lniezhgwACNGTPG79jVV1+tI0eO+PomhXeNLQ4fPqx3331X999/v++YFep79NFH9fjjj+s73/mOrrnmGs2aNUs//vGPlZOT4+ubFN41hisCYA8SExOjiRMnauPGjX7HN27cqClTpoSoV12TkZGh/v37+9VSV1enzZs3+2qZOHGioqOj/dqUlJTo448/9rXJzs5WRUWFPvjgA1+b7du3q6KiIuD/J8YYPfjgg3rttdf0t7/9TRkZGX63W6HG1owx8ng8lqht2rRpKiwsVEFBge+SlZWle+65RwUFBRo2bFjY19iax+PRJ598ogEDBljie3jjjTe22Xpp7969GjJkiCRr/Q4+//zzSk1N1YwZM3zHrFDfuXPnFBHhHzUiIyN928BYocawFZxzTXC5WraBWbVqlSkqKjILFy408fHx5tChQ6HuWhtVVVVm9+7dZvfu3UaS+eUvf2l2797t27Jm2bJlxu12m9dee80UFhaa7373u+2e2j9o0CDz7rvvml27dpmpU6e2e2p/Zmam2bZtm9m2bZu55pprgnJq/wMPPGDcbrfZtGmT3zYN586d87UJ5xoXLVpktmzZYg4ePGg++ugjs3jxYhMREWHeeeedsK/tUi4+C9iY8K/xJz/5idm0aZM5cOCAycvLM1//+tdNYmKi7/Ui3Ov74IMPTFRUlFm6dKnZt2+feemll0yvXr3Miy++6GsT7jUaY4zX6zWDBw82jz32WJvbwr2+OXPmmIEDB/q2gXnttddM3759zb//+79bpsZwRQDsgX7729+aIUOGmJiYGHPdddf5th3pad577z0jqc1lzpw5xpim0/uffPJJ079/f+N0Os2Xv/xlU1hY6PcY58+fNw8++KBJSkoycXFx5utf/7o5cuSIX5szZ86Ye+65xyQmJprExERzzz33mLKysoDX115tkszzzz/vaxPONc6dO9f3c5aSkmKmTZvmC3/hXtultA6A4V5jy35p0dHRJi0tzXzrW98ye/bssUx9xhjz5ptvmnHjxhmn02lGjx5tfv/73/vdboUa3377bSPJfPbZZ21uC/f6KisrzYIFC8zgwYNNbGysGTZsmHniiSeMx+OxTI3hymGMMSEZegQAAEBIsAYQAADAZgiAAAAANkMABAAAsBkCIAAAgM0QAAEAAGyGAAgAAGAzBEAAAACbIQACAADYDAEQAADAZgiAAAAANkMABAAAsBkCIAAAgM0QAAEAAGyGAAgAAGAzBEAAAACbIQACAADYDAEQAADAZgiAAAAANkMABAAAsBkCIAAAgM0QAAEAAGyGAAgAAGAzBEAAAACbIQACAADYDAEQAADAZgiAAAAANkMABAAAsBkCIAAAgM0QAAEAAGyGAAgAAGAzBEAAAACb+T9Yt3Deo98V3gAAAABJRU5ErkJggg==' width=640.0/>\n",
       "            </div>\n",
       "        "
      ],
      "text/plain": [
       "Canvas(toolbar=Toolbar(toolitems=[('Home', 'Reset original view', 'home', 'home'), ('Back', 'Back to previous …"
      ]
     },
     "metadata": {},
     "output_type": "display_data"
    }
   ],
   "source": [
    "plt.figure()\n",
    "plt.plot(np.concatenate(l))"
   ]
  },
  {
   "attachments": {},
   "cell_type": "markdown",
   "metadata": {},
   "source": [
    "num_workers can be > 1 with the new synchronization procedure"
   ]
  },
  {
   "attachments": {},
   "cell_type": "markdown",
   "metadata": {},
   "source": [
    "## TBPTT_Reset_Callback\n",
    "The stateful model needs to reset its hidden state, when a new sequence begins. The callback reads the reset flag and acts accordingly."
   ]
  },
  {
   "cell_type": "code",
   "execution_count": null,
   "metadata": {},
   "outputs": [],
   "source": [
    "#| export\n",
    "def reset_model_state(model):\n",
    "    for m in model.modules():\n",
    "        if hasattr(m,'reset_state'): m.reset_state()"
   ]
  },
  {
   "cell_type": "code",
   "execution_count": null,
   "metadata": {},
   "outputs": [],
   "source": [
    "#| export\n",
    "class TbpttResetCB(Callback):\n",
    "    \"`Callback` resets the rnn model with every new sequence for tbptt, calls `reset_state` in every module of the model\"\n",
    "        \n",
    "    def before_batch(self):\n",
    "        dl = self.learn.dls.train if self.training else self.learn.dls.valid\n",
    "#         if not self.training: import pdb; pdb.set_trace()\n",
    "        if (hasattr(dl,'rnn_reset') and dl.rnn_reset) or not hasattr(dl,'rnn_reset'):\n",
    "            reset_model_state(self.learn.model)\n",
    "        \n",
    "    def after_fit(self): \n",
    "        reset_model_state(self.learn.model)"
   ]
  },
  {
   "attachments": {},
   "cell_type": "markdown",
   "metadata": {},
   "source": [
    "## Example"
   ]
  },
  {
   "cell_type": "code",
   "execution_count": null,
   "metadata": {},
   "outputs": [
    {
     "data": {
      "text/plain": [
       "<fastai.learner.Learner>"
      ]
     },
     "execution_count": null,
     "metadata": {},
     "output_type": "execute_result"
    }
   ],
   "source": [
    "lrn = RNNLearner(db,num_layers=1,rnn_type='gru',stateful=False,metrics=[SkipNLoss(fun_rmse,1),fun_rmse])\n",
    "lrn.add_cb(TbpttResetCB())"
   ]
  },
  {
   "cell_type": "code",
   "execution_count": null,
   "metadata": {},
   "outputs": [
    {
     "data": {
      "text/html": [
       "<table border=\"1\" class=\"dataframe\">\n",
       "  <thead>\n",
       "    <tr style=\"text-align: left;\">\n",
       "      <th>epoch</th>\n",
       "      <th>train_loss</th>\n",
       "      <th>valid_loss</th>\n",
       "      <th>fun_rmse</th>\n",
       "      <th>fun_rmse</th>\n",
       "      <th>time</th>\n",
       "    </tr>\n",
       "  </thead>\n",
       "  <tbody>\n",
       "    <tr>\n",
       "      <td>0</td>\n",
       "      <td>1.505455</td>\n",
       "      <td>0.225024</td>\n",
       "      <td>0.348194</td>\n",
       "      <td>0.473599</td>\n",
       "      <td>00:03</td>\n",
       "    </tr>\n",
       "  </tbody>\n",
       "</table>"
      ],
      "text/plain": [
       "<IPython.core.display.HTML object>"
      ]
     },
     "metadata": {},
     "output_type": "display_data"
    }
   ],
   "source": [
    "lrn.fit_one_cycle(1,lr_max=3e-2)"
   ]
  },
  {
   "cell_type": "code",
   "execution_count": null,
   "metadata": {},
   "outputs": [],
   "source": [
    "db.train.sub_seq_len = 10"
   ]
  },
  {
   "cell_type": "code",
   "execution_count": null,
   "metadata": {},
   "outputs": [
    {
     "data": {
      "text/html": [
       "<table border=\"1\" class=\"dataframe\">\n",
       "  <thead>\n",
       "    <tr style=\"text-align: left;\">\n",
       "      <th>epoch</th>\n",
       "      <th>train_loss</th>\n",
       "      <th>valid_loss</th>\n",
       "      <th>fun_rmse</th>\n",
       "      <th>fun_rmse</th>\n",
       "      <th>time</th>\n",
       "    </tr>\n",
       "  </thead>\n",
       "  <tbody>\n",
       "    <tr>\n",
       "      <td>0</td>\n",
       "      <td>0.000064</td>\n",
       "      <td>0.000101</td>\n",
       "      <td>0.007965</td>\n",
       "      <td>0.008134</td>\n",
       "      <td>00:07</td>\n",
       "    </tr>\n",
       "  </tbody>\n",
       "</table>"
      ],
      "text/plain": [
       "<IPython.core.display.HTML object>"
      ]
     },
     "metadata": {},
     "output_type": "display_data"
    }
   ],
   "source": [
    "lrn.fit_one_cycle(1,lr_max=3e-2)"
   ]
  },
  {
   "attachments": {},
   "cell_type": "markdown",
   "metadata": {},
   "source": [
    "# Weighted Sampling Dataloader"
   ]
  },
  {
   "attachments": {},
   "cell_type": "markdown",
   "metadata": {},
   "source": [
    "A weighted sampling dataloader for nonuniforly distributed data. A factory method receives the base Dataloader class and returns the inherited weighted sampling dataloader class"
   ]
  },
  {
   "cell_type": "code",
   "execution_count": null,
   "metadata": {},
   "outputs": [],
   "source": [
    "#| export\n",
    "def WeightedDL_Factory(cls):\n",
    "    '''\n",
    "    Weighted Dataloader that provides control over sampling probabilities.\n",
    "    wgts: probability array with probability for every item\n",
    "            gets extracted from the pandas 'p_sample' column if given. \n",
    "            Otherwise uniform sampling will be enabled\n",
    "        \n",
    "    '''\n",
    "    assert issubclass(cls, TfmdDL)\n",
    "    \n",
    "    class WeightedDL(cls):\n",
    "        def __init__(self, dataset, wgts=None, **kwargs):\n",
    "#             import pdb;pdb.set_trace()\n",
    "            self.wgts = None\n",
    "            #self.items need to be assigned, but super.init needs wgts allready assigned\n",
    "            super().__init__(dataset=dataset, **kwargs) \n",
    "            if wgts is None:\n",
    "                if (isinstance(self.items,pd.DataFrame) and\n",
    "                    len(self.items) > 0 and \n",
    "                    'p_sample' in self.items):\n",
    "                    self.wgts = self.items.p_sample.to_numpy()\n",
    "                    self.wgts = self.wgts/self.wgts.sum()\n",
    "                elif (isinstance(self.items,Iterable) and\n",
    "                    len(self.items) > 0 and \n",
    "                    hasattr(self.items[0],'keys') and \n",
    "                    'p_sample' in self.items[0].keys()):\n",
    "                    self.wgts = np.array([x['p_sample'] for x in self.items])\n",
    "                    self.wgts = self.wgts/self.wgts.sum()\n",
    "                else:\n",
    "                    print('No wgts provided for WeightedDL. Was that intentional?')\n",
    "            else:\n",
    "                self.wgts = wgts/np.sum(wgts)\n",
    "\n",
    "        def get_idxs(self):\n",
    "            if self.n==0: return []\n",
    "            if not self.shuffle or self.wgts is None: return super().get_idxs()\n",
    "            #calculate number of elements with length of the dataset, for batch truncation\n",
    "            idxs = list(np.random.choice(self.n, size=len(self)*self.bs, p=self.wgts))\n",
    "            return idxs\n",
    "    return WeightedDL"
   ]
  },
  {
   "cell_type": "code",
   "execution_count": null,
   "metadata": {},
   "outputs": [],
   "source": [
    "dl = WeightedDL_Factory(TfmdDL)([1,2]*5,bs=10,wgts=[2,1]*5)"
   ]
  },
  {
   "cell_type": "code",
   "execution_count": null,
   "metadata": {},
   "outputs": [
    {
     "data": {
      "text/html": [
       "<table border=\"1\" class=\"dataframe\">\n",
       "  <thead>\n",
       "    <tr style=\"text-align: left;\">\n",
       "      <th>epoch</th>\n",
       "      <th>train_loss</th>\n",
       "      <th>valid_loss</th>\n",
       "      <th>fun_rmse</th>\n",
       "      <th>fun_rmse</th>\n",
       "      <th>time</th>\n",
       "    </tr>\n",
       "  </thead>\n",
       "  <tbody>\n",
       "    <tr>\n",
       "      <td>0</td>\n",
       "      <td>0.000429</td>\n",
       "      <td>0.019677</td>\n",
       "      <td>0.140848</td>\n",
       "      <td>0.140151</td>\n",
       "      <td>00:07</td>\n",
       "    </tr>\n",
       "  </tbody>\n",
       "</table>"
      ],
      "text/plain": [
       "<IPython.core.display.HTML object>"
      ]
     },
     "metadata": {},
     "output_type": "display_data"
    }
   ],
   "source": [
    "lrn = RNNLearner(db,num_layers=1,rnn_type='gru',stateful=False,metrics=[SkipNLoss(fun_rmse,1),fun_rmse])\n",
    "lrn.fit_one_cycle(1,lr_max=3e-2)"
   ]
  },
  {
   "cell_type": "code",
   "execution_count": null,
   "metadata": {},
   "outputs": [
    {
     "data": {
      "text/plain": [
       "array([0.13333333, 0.06666667, 0.13333333, 0.06666667, 0.13333333,\n",
       "       0.06666667, 0.13333333, 0.06666667, 0.13333333, 0.06666667])"
      ]
     },
     "execution_count": null,
     "metadata": {},
     "output_type": "execute_result"
    }
   ],
   "source": [
    "dl.wgts"
   ]
  },
  {
   "cell_type": "code",
   "execution_count": null,
   "metadata": {},
   "outputs": [
    {
     "data": {
      "text/plain": [
       "tensor([1, 2, 1, 2, 1, 2, 1, 2, 1, 2])"
      ]
     },
     "execution_count": null,
     "metadata": {},
     "output_type": "execute_result"
    }
   ],
   "source": [
    "dl.one_batch()"
   ]
  },
  {
   "attachments": {},
   "cell_type": "markdown",
   "metadata": {},
   "source": [
    "## ItemLst Transform for weight calculation"
   ]
  },
  {
   "cell_type": "code",
   "execution_count": null,
   "metadata": {},
   "outputs": [],
   "source": [
    "#| export\n",
    "def uniform_p_of_category(cat_name):  \n",
    "    '''Scales sampling weights for an even distribution between every category'''\n",
    "    def _inner(df):\n",
    "        if 'p_sample' in df:\n",
    "            df_targ = df.drop('p_sample',axis='columns')\n",
    "        else:\n",
    "            df_targ = df\n",
    "            \n",
    "        counts = df_targ[cat_name].value_counts()\n",
    "        sample_prob =  1/counts\n",
    "        sample_prob.name = 'p_sample'\n",
    "        df_res = df_targ.merge(sample_prob,left_on=cat_name,right_index=True)\n",
    "        \n",
    "        if 'p_sample' in df: \n",
    "            df_res.p_sample = df_res.p_sample* df.p_sample.values\n",
    "            \n",
    "        df_res.p_sample /= df_res.p_sample.sum()\n",
    "            \n",
    "        return df_res\n",
    "    \n",
    "    return _inner"
   ]
  },
  {
   "cell_type": "code",
   "execution_count": null,
   "metadata": {},
   "outputs": [],
   "source": [
    "#| export\n",
    "def uniform_p_of_float(var_name,bins = 10):\n",
    "    '''Scales sampling weights for an even distribution of the continous variable by creating equi sized bins'''\n",
    "    def _inner(df):\n",
    "        if 'p_sample' in df:\n",
    "            df_targ = df.drop('p_sample',axis='columns')\n",
    "        else:\n",
    "            df_targ = df\n",
    "            \n",
    "        df_targ['bins'] = pd.cut(df_targ[var_name], bins)\n",
    "        counts = df_targ['bins'].value_counts()\n",
    "        sample_prob =  1/counts\n",
    "        sample_prob.name = 'p_sample'\n",
    "        df_res = df_targ.merge(sample_prob,left_on='bins',right_index=True)\n",
    "        df_res.drop(['bins'],axis='columns',inplace=True)\n",
    "        \n",
    "        if 'p_sample' in df: \n",
    "            df_res.p_sample = df_res.p_sample* df.p_sample.values\n",
    "            \n",
    "        df_res.p_sample /= df_res.p_sample.sum()\n",
    "        \n",
    "        return df_res\n",
    "\n",
    "    return _inner"
   ]
  },
  {
   "cell_type": "code",
   "execution_count": null,
   "metadata": {},
   "outputs": [],
   "source": [
    "#| export\n",
    "def uniform_p_of_float_with_gaps(var_name,bins = 100):\n",
    "    '''Scales sampling weights for an even distribution of the continous variable by creating equi sized bins'''\n",
    "    def _inner(df):\n",
    "        if 'p_sample' in df:\n",
    "            df_targ = df.drop('p_sample',axis='columns')\n",
    "        else:\n",
    "            df_targ = df\n",
    "            \n",
    "        l = df_targ[var_name].max()-df_targ[var_name].min() #value range\n",
    "        df_targ['bins'] = pd.qcut(df_targ[var_name],bins,duplicates='drop') #bins with rougly the same size\n",
    "        df_targ['p_sample'] =  df_targ['bins'].apply(lambda x: x.length).astype('f8')/l #sample_prob by bin width\n",
    "        sample_prob =  1/df_targ['bins'].value_counts() #correct uneven bin distribution\n",
    "        sample_prob.name = 'p_sample_correction'\n",
    "        df_res = df_targ.merge(sample_prob,left_on='bins',right_index=True)\n",
    "        \n",
    "        df_res.p_sample *= df_res.p_sample_correction\n",
    "        df_res.drop(['bins','p_sample_correction'],axis='columns',inplace=True)\n",
    "\n",
    "        if 'p_sample' in df: \n",
    "            df_res.p_sample = df_res.p_sample* df.p_sample.values\n",
    "            \n",
    "        df_res.p_sample /= df_res.p_sample.sum()\n",
    "        \n",
    "        return df_res\n",
    "\n",
    "    return _inner"
   ]
  },
  {
   "cell_type": "code",
   "execution_count": null,
   "metadata": {},
   "outputs": [],
   "source": [
    "def train_valid(df):   \n",
    "    ''' test function that extracts valid and train from the path string'''\n",
    "    df['train'] = df.path.astype(str).str.contains('train',regex=False)\n",
    "    return df"
   ]
  },
  {
   "cell_type": "code",
   "execution_count": null,
   "metadata": {},
   "outputs": [
    {
     "data": {
      "text/html": [
       "<div>\n",
       "<style scoped>\n",
       "    .dataframe tbody tr th:only-of-type {\n",
       "        vertical-align: middle;\n",
       "    }\n",
       "\n",
       "    .dataframe tbody tr th {\n",
       "        vertical-align: top;\n",
       "    }\n",
       "\n",
       "    .dataframe thead th {\n",
       "        text-align: right;\n",
       "    }\n",
       "</style>\n",
       "<table border=\"1\" class=\"dataframe\">\n",
       "  <thead>\n",
       "    <tr style=\"text-align: right;\">\n",
       "      <th></th>\n",
       "      <th>path</th>\n",
       "      <th>train</th>\n",
       "      <th>l_slc</th>\n",
       "      <th>r_slc</th>\n",
       "      <th>p_sample</th>\n",
       "    </tr>\n",
       "  </thead>\n",
       "  <tbody>\n",
       "    <tr>\n",
       "      <th>0</th>\n",
       "      <td>test_data/battery/train/Sim_RealisticCycle1.hdf5</td>\n",
       "      <td>True</td>\n",
       "      <td>0</td>\n",
       "      <td>1001</td>\n",
       "      <td>0.000619</td>\n",
       "    </tr>\n",
       "    <tr>\n",
       "      <th>0</th>\n",
       "      <td>test_data/battery/train/Sim_RealisticCycle1.hdf5</td>\n",
       "      <td>True</td>\n",
       "      <td>1000</td>\n",
       "      <td>2001</td>\n",
       "      <td>0.000619</td>\n",
       "    </tr>\n",
       "    <tr>\n",
       "      <th>0</th>\n",
       "      <td>test_data/battery/train/Sim_RealisticCycle1.hdf5</td>\n",
       "      <td>True</td>\n",
       "      <td>2000</td>\n",
       "      <td>3001</td>\n",
       "      <td>0.000619</td>\n",
       "    </tr>\n",
       "    <tr>\n",
       "      <th>0</th>\n",
       "      <td>test_data/battery/train/Sim_RealisticCycle1.hdf5</td>\n",
       "      <td>True</td>\n",
       "      <td>3000</td>\n",
       "      <td>4001</td>\n",
       "      <td>0.000929</td>\n",
       "    </tr>\n",
       "    <tr>\n",
       "      <th>0</th>\n",
       "      <td>test_data/battery/train/Sim_RealisticCycle1.hdf5</td>\n",
       "      <td>True</td>\n",
       "      <td>4000</td>\n",
       "      <td>5001</td>\n",
       "      <td>0.000929</td>\n",
       "    </tr>\n",
       "    <tr>\n",
       "      <th>...</th>\n",
       "      <td>...</td>\n",
       "      <td>...</td>\n",
       "      <td>...</td>\n",
       "      <td>...</td>\n",
       "      <td>...</td>\n",
       "    </tr>\n",
       "    <tr>\n",
       "      <th>2</th>\n",
       "      <td>test_data/battery/valid/Sim_RealisticCycle3.hdf5</td>\n",
       "      <td>False</td>\n",
       "      <td>260000</td>\n",
       "      <td>261001</td>\n",
       "      <td>0.001858</td>\n",
       "    </tr>\n",
       "    <tr>\n",
       "      <th>2</th>\n",
       "      <td>test_data/battery/valid/Sim_RealisticCycle3.hdf5</td>\n",
       "      <td>False</td>\n",
       "      <td>261000</td>\n",
       "      <td>262001</td>\n",
       "      <td>0.001858</td>\n",
       "    </tr>\n",
       "    <tr>\n",
       "      <th>2</th>\n",
       "      <td>test_data/battery/valid/Sim_RealisticCycle3.hdf5</td>\n",
       "      <td>False</td>\n",
       "      <td>262000</td>\n",
       "      <td>263001</td>\n",
       "      <td>0.001858</td>\n",
       "    </tr>\n",
       "    <tr>\n",
       "      <th>2</th>\n",
       "      <td>test_data/battery/valid/Sim_RealisticCycle3.hdf5</td>\n",
       "      <td>False</td>\n",
       "      <td>263000</td>\n",
       "      <td>264001</td>\n",
       "      <td>0.001858</td>\n",
       "    </tr>\n",
       "    <tr>\n",
       "      <th>2</th>\n",
       "      <td>test_data/battery/valid/Sim_RealisticCycle3.hdf5</td>\n",
       "      <td>False</td>\n",
       "      <td>264000</td>\n",
       "      <td>265001</td>\n",
       "      <td>0.001858</td>\n",
       "    </tr>\n",
       "  </tbody>\n",
       "</table>\n",
       "<p>795 rows × 5 columns</p>\n",
       "</div>"
      ],
      "text/plain": [
       "                                                path  train   l_slc   r_slc  \\\n",
       "0   test_data/battery/train/Sim_RealisticCycle1.hdf5   True       0    1001   \n",
       "0   test_data/battery/train/Sim_RealisticCycle1.hdf5   True    1000    2001   \n",
       "0   test_data/battery/train/Sim_RealisticCycle1.hdf5   True    2000    3001   \n",
       "0   test_data/battery/train/Sim_RealisticCycle1.hdf5   True    3000    4001   \n",
       "0   test_data/battery/train/Sim_RealisticCycle1.hdf5   True    4000    5001   \n",
       "..                                               ...    ...     ...     ...   \n",
       "2   test_data/battery/valid/Sim_RealisticCycle3.hdf5  False  260000  261001   \n",
       "2   test_data/battery/valid/Sim_RealisticCycle3.hdf5  False  261000  262001   \n",
       "2   test_data/battery/valid/Sim_RealisticCycle3.hdf5  False  262000  263001   \n",
       "2   test_data/battery/valid/Sim_RealisticCycle3.hdf5  False  263000  264001   \n",
       "2   test_data/battery/valid/Sim_RealisticCycle3.hdf5  False  264000  265001   \n",
       "\n",
       "    p_sample  \n",
       "0   0.000619  \n",
       "0   0.000619  \n",
       "0   0.000619  \n",
       "0   0.000929  \n",
       "0   0.000929  \n",
       "..       ...  \n",
       "2   0.001858  \n",
       "2   0.001858  \n",
       "2   0.001858  \n",
       "2   0.001858  \n",
       "2   0.001858  \n",
       "\n",
       "[795 rows x 5 columns]"
      ]
     },
     "execution_count": null,
     "metadata": {},
     "output_type": "execute_result"
    }
   ],
   "source": [
    "# %%time\n",
    "tfm_lst = [train_valid, DfHDFCreateWindows(win_sz=1000+1,stp_sz=1000,clm='current') ,uniform_p_of_category('train'),uniform_p_of_float('l_slc'),uniform_p_of_float_with_gaps('r_slc')]\n",
    "apply_df_tfms(get_hdf_files('test_data/battery'),tfm_lst) "
   ]
  },
  {
   "cell_type": "code",
   "execution_count": null,
   "metadata": {},
   "outputs": [],
   "source": [
    "seq = DataBlock(blocks=(SequenceBlock.from_hdf(['current','voltage'],TensorSequencesInput,clm_shift=[-1,-1]),\n",
    "                        SequenceBlock.from_hdf(['voltage'],TensorSequencesOutput,clm_shift=[1])),\n",
    "                 get_items=CreateDict(tfm_lst),\n",
    "                 splitter=ApplyToDict(ParentSplitter()))\n",
    "# db = seq.dataloaders(get_hdf_files('test_data/battery'),dl_type=TbpttDl,sub_seq_len=200)\n",
    "db = seq.dataloaders(get_hdf_files('test_data/battery'),dl_type=WeightedDL_Factory(TbpttDl),sub_seq_len=500)"
   ]
  },
  {
   "cell_type": "code",
   "execution_count": null,
   "metadata": {},
   "outputs": [
    {
     "data": {
      "text/plain": [
       "(530,)"
      ]
     },
     "execution_count": null,
     "metadata": {},
     "output_type": "execute_result"
    }
   ],
   "source": [
    "db.train.wgts.shape"
   ]
  },
  {
   "cell_type": "code",
   "execution_count": null,
   "metadata": {},
   "outputs": [
    {
     "data": {
      "text/plain": [
       "(array([0.00123895, 0.00123895, 0.00123895, 0.00185842, 0.00185842]),\n",
       " array([0.00247789, 0.00247789, 0.00247789, 0.00371683, 0.00371683]))"
      ]
     },
     "execution_count": null,
     "metadata": {},
     "output_type": "execute_result"
    }
   ],
   "source": [
    "db.train.wgts[:5],db.valid.wgts[:5]"
   ]
  },
  {
   "cell_type": "code",
   "execution_count": null,
   "metadata": {},
   "outputs": [
    {
     "data": {
      "text/html": [
       "<table border=\"1\" class=\"dataframe\">\n",
       "  <thead>\n",
       "    <tr style=\"text-align: left;\">\n",
       "      <th>epoch</th>\n",
       "      <th>train_loss</th>\n",
       "      <th>valid_loss</th>\n",
       "      <th>fun_rmse</th>\n",
       "      <th>fun_rmse</th>\n",
       "      <th>time</th>\n",
       "    </tr>\n",
       "  </thead>\n",
       "  <tbody>\n",
       "    <tr>\n",
       "      <td>0</td>\n",
       "      <td>5.394642</td>\n",
       "      <td>0.385504</td>\n",
       "      <td>0.578141</td>\n",
       "      <td>0.595691</td>\n",
       "      <td>00:01</td>\n",
       "    </tr>\n",
       "  </tbody>\n",
       "</table>"
      ],
      "text/plain": [
       "<IPython.core.display.HTML object>"
      ]
     },
     "metadata": {},
     "output_type": "display_data"
    }
   ],
   "source": [
    "lrn = RNNLearner(db,num_layers=1,rnn_type='gru',stateful=False,metrics=[SkipNLoss(fun_rmse,1),fun_rmse])\n",
    "lrn.add_cb(TbpttResetCB())\n",
    "lrn.fit_one_cycle(1,lr_max=3e-2)"
   ]
  },
  {
   "attachments": {},
   "cell_type": "markdown",
   "metadata": {},
   "source": [
    "## Importance Sampling Callback"
   ]
  },
  {
   "cell_type": "code",
   "execution_count": null,
   "metadata": {},
   "outputs": [],
   "source": [
    "# #| export\n",
    "# class ImportanceSampling(Callback):\n",
    "#     #modify the dataloader weights to sample items with higher loss more often\n",
    "#     def __init__(self, filter_criterion=nn.HuberLoss(reduction='none')):\n",
    "#         self.filter_criterion = filter_criterion\n",
    "#         self.loss_list = None #store loss of each item in the dataloader\n",
    "\n",
    "#     def begin_fit(self):\n",
    "#         #empty the loss list at the beginning of each fit\n",
    "#         self.loss_list = None\n",
    "\n",
    "#     def after_pred(self):\n",
    "#         # store loss of each item in the batch\n",
    "#         if not self.training: return\n",
    "#         losses = self.filter_criterion(self.learn.pred, *self.learn.yb)\n",
    "#         if losses.ndim >= 2: losses = losses.mean(tuple(range(1,losses.ndim)))  # If loss is multi-dimensional, take the mean over all but the first dimension\n",
    "#         #get the indices of each item in the batch from the dataloader\n",
    "#         # import pdb; pdb.set_trace()\n",
    "\n",
    "#         #if the loss_list is empty, initialize it with dataloader wgts\n",
    "#         if self.loss_list is None:\n",
    "#             self.loss_list = self.learn.dls.train.wgts.clone()\n",
    "#             #scale the loss_list mean to the mean loss of the batch\n",
    "#             self.loss_list *= self.loss_list.numel()/losses.mean()\n",
    "\n",
    "#         #store the loss of each item in the loss_list\n",
    "        \n",
    "#     def after_epoch(self):\n",
    "#         #modify the dataloader weights to sample items with higher loss more often\n",
    "#         if not self.training: return\n",
    "#         self.learn.dls.train.wgts = self.loss_list\n",
    "#         self.learn.dls.train.wgts /= self.learn.dls.train.wgts.sum()\n",
    "\n",
    "    \n",
    "\n",
    "        "
   ]
  },
  {
   "cell_type": "code",
   "execution_count": null,
   "metadata": {},
   "outputs": [],
   "source": [
    "# lrn = RNNLearner(db,num_layers=1,stateful=False,metrics=[SkipNLoss(fun_rmse,1),fun_rmse],cbs=ImportanceSampling())\n",
    "# lrn.fit(1)"
   ]
  },
  {
   "cell_type": "code",
   "execution_count": null,
   "metadata": {},
   "outputs": [],
   "source": [
    "# tfm_lst = [train_valid, DfHDFCreateWindows(win_sz=500+1,stp_sz=500,clm='current')]\n",
    "# seq = DataBlock(blocks=(SequenceBlock.from_hdf(['current','voltage'],TensorSequencesInput,clm_shift=[-1,-1]),\n",
    "#                         SequenceBlock.from_hdf(['voltage'],TensorSequencesOutput,clm_shift=[1])),\n",
    "#                  get_items=CreateDict(tfm_lst),\n",
    "#                  splitter=ApplyToDict(ParentSplitter()))\n",
    "# # db = seq.dataloaders(get_hdf_files('test_data/battery'),dl_type=TbpttDl,sub_seq_len=200)\n",
    "# db = seq.dataloaders(get_hdf_files('test_data/battery'),dl_type=WeightedDL_Factory(TfmdDL))\n",
    "\n",
    "# RNNLearner(db,num_layers=1,stateful=False,metrics=[SkipNLoss(fun_rmse,1),fun_rmse],cbs=ImportanceSampling()).fit(1)"
   ]
  },
  {
   "attachments": {},
   "cell_type": "markdown",
   "metadata": {},
   "source": [
    "# Mini Batch Limiter Dataloader"
   ]
  },
  {
   "attachments": {},
   "cell_type": "markdown",
   "metadata": {},
   "source": [
    "A weighted sampling dataloader for nonuniforly distributed data. A factory method receives the base Dataloader class and returns the inherited weighted sampling dataloader class"
   ]
  },
  {
   "cell_type": "code",
   "execution_count": null,
   "metadata": {},
   "outputs": [],
   "source": [
    "#| export\n",
    "def BatchLimit_Factory(cls):\n",
    "    '''\n",
    "    Batch limited Dataloader that provides an upper limit for the number of mini batches per epoch\n",
    "    max_batches: upper limit for minibatch count per epoch\n",
    "        \n",
    "    '''\n",
    "    assert issubclass(cls, TfmdDL)\n",
    "    \n",
    "    class BatchLimitDL(cls):\n",
    "        def __init__(self, dataset, max_batches=None, **kwargs):\n",
    "            self.max_batches = max_batches\n",
    "            # kwargs['n'] = max_batches*kwargs['bs'] n has to remain the full size, in order to create all indices if shuffled\n",
    "            super().__init__(dataset=dataset, **kwargs)\n",
    "\n",
    "        def __len__(self):\n",
    "            l = super().__len__() \n",
    "            if self.max_batches is not None: l = min(l,self.max_batches)\n",
    "            return l\n",
    "\n",
    "        def __iter__(self):\n",
    "            if self.max_batches is None: \n",
    "                yield from super().__iter__()\n",
    "            else:\n",
    "                for idx,b in enumerate(super().__iter__()):\n",
    "                    if idx >= self.max_batches: break\n",
    "                    yield b\n",
    "                    \n",
    "        #shuffle function that is called in super().get_idxs, truncated for faster execution\n",
    "        def shuffle_fn(self, idxs): return self.rng.sample(idxs, min(len(self)*self.bs,len(idxs)))\n",
    "                    \n",
    "        #get_idxs is truncated for the non-shuffling case, otherwise shuffle_fn is already truncated\n",
    "        def get_idxs(self):\n",
    "            return super().get_idxs()[:len(self)*self.bs]\n",
    "\n",
    "    return BatchLimitDL"
   ]
  },
  {
   "cell_type": "code",
   "execution_count": null,
   "metadata": {},
   "outputs": [],
   "source": [
    "dl = BatchLimit_Factory(TfmdDL)([1,2]*5,bs=2,max_batches=3,shuffle=False)"
   ]
  },
  {
   "cell_type": "code",
   "execution_count": null,
   "metadata": {},
   "outputs": [
    {
     "data": {
      "text/plain": [
       "3"
      ]
     },
     "execution_count": null,
     "metadata": {},
     "output_type": "execute_result"
    }
   ],
   "source": [
    "len(dl)"
   ]
  },
  {
   "cell_type": "code",
   "execution_count": null,
   "metadata": {},
   "outputs": [
    {
     "data": {
      "text/plain": [
       "[0, 1, 2, 3, 4, 5]"
      ]
     },
     "execution_count": null,
     "metadata": {},
     "output_type": "execute_result"
    }
   ],
   "source": [
    "dl.get_idxs()"
   ]
  },
  {
   "cell_type": "code",
   "execution_count": null,
   "metadata": {},
   "outputs": [
    {
     "data": {
      "text/plain": [
       "[6, 0, 7, 2, 5, 4]"
      ]
     },
     "execution_count": null,
     "metadata": {},
     "output_type": "execute_result"
    }
   ],
   "source": [
    "BatchLimit_Factory(TfmdDL)([1,2]*5,bs=2,max_batches=3,shuffle=True).get_idxs()"
   ]
  },
  {
   "cell_type": "code",
   "execution_count": null,
   "metadata": {},
   "outputs": [
    {
     "data": {
      "text/plain": [
       "[tensor([1, 2]), tensor([1, 2]), tensor([1, 2])]"
      ]
     },
     "execution_count": null,
     "metadata": {},
     "output_type": "execute_result"
    }
   ],
   "source": [
    "[x for x in dl]"
   ]
  },
  {
   "cell_type": "code",
   "execution_count": null,
   "metadata": {},
   "outputs": [
    {
     "data": {
      "text/plain": [
       "3"
      ]
     },
     "execution_count": null,
     "metadata": {},
     "output_type": "execute_result"
    }
   ],
   "source": [
    "len(dl)"
   ]
  },
  {
   "cell_type": "code",
   "execution_count": null,
   "metadata": {},
   "outputs": [],
   "source": [
    "#| include: false\n",
    "import nbdev; nbdev.nbdev_export()"
   ]
  },
  {
   "cell_type": "code",
   "execution_count": null,
   "metadata": {},
   "outputs": [],
   "source": []
  }
 ],
 "metadata": {
  "kernelspec": {
   "display_name": "python3",
   "language": "python",
   "name": "python3"
  }
 },
 "nbformat": 4,
 "nbformat_minor": 4
}
