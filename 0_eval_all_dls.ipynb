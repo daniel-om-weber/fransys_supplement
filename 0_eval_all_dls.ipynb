{
 "cells": [
  {
   "cell_type": "code",
   "execution_count": null,
   "id": "cc910618-46f6-4e21-83e7-c9f45253a0d0",
   "metadata": {},
   "outputs": [],
   "source": [
    "import paper_dataloaders\n",
    "import paper_models\n",
    "\n",
    "from seqdata.core import *\n",
    "from seqdata.models.core import *\n",
    "from seqdata.learner import *\n",
    "from seqdata.dataloaders import *\n",
    "from seqdata.dualrnn import *\n",
    "from seqdata.hpopt import *\n",
    "from fastai.basics import *\n",
    "from fastai.callback.all import *\n",
    "from seqdata.quaternions import *\n",
    "from pathlib import Path\n",
    "from ray import tune\n",
    "import pickle\n",
    "\n",
    "from paper_dataloaders import *\n",
    "from paper_models import *"
   ]
  },
  {
   "cell_type": "code",
   "execution_count": null,
   "id": "4cf72dc6",
   "metadata": {},
   "outputs": [],
   "source": [
    "for id in dict_dls_fransys.keys():\n",
    "    print(id)\n",
    "    dls = dict_dls_fransys[id](bs=1024)  "
   ]
  },
  {
   "cell_type": "code",
   "execution_count": null,
   "id": "4b6f426f",
   "metadata": {},
   "outputs": [],
   "source": [
    "for id in dict_dls_fransys_test.keys():\n",
    "    print(id)\n",
    "    dls = dict_dls_fransys[id](bs=1024)  \n"
   ]
  },
  {
   "cell_type": "code",
   "execution_count": null,
   "id": "ee027f80",
   "metadata": {},
   "outputs": [],
   "source": [
    "with open( 'dls_normalize.p', \"rb\" ) as f:\n",
    "            dls_normalize_values = pickle.load( f )"
   ]
  },
  {
   "cell_type": "code",
   "execution_count": null,
   "id": "dd2a3063",
   "metadata": {},
   "outputs": [],
   "source": [
    "dls_normalize_values"
   ]
  },
  {
   "cell_type": "code",
   "execution_count": null,
   "id": "dc3c2f3e",
   "metadata": {},
   "outputs": [],
   "source": [
    "dl = 'Ship'\n",
    "dls = dict_dls_fransys[dl]()\n",
    "n_u, n_y, n_x, init_sz, _ = get_dls_parameters(dict_dls_fransys[dl])\n",
    "model = model_narprog_small(n_u,n_x,n_y,init_sz)\n",
    "lrn = Learner(dls,model,loss_func=SkipNLoss(nrmse_std,init_sz),\n",
    "                metrics=[SkipNLoss(rmse,init_sz),\n",
    "                        SkipNLoss(nrmse_std,init_sz),\n",
    "                        SkipNLoss(nrmse,init_sz)])\n",
    "lrn.fit_flat_cos(30,lr=3e-3,pct_start=0.2)"
   ]
  },
  {
   "cell_type": "code",
   "execution_count": null,
   "id": "c8dd3bbd-e69f-4d5c-97e7-6a030e4f66a4",
   "metadata": {},
   "outputs": [],
   "source": [
    "dl = 'Robot'\n",
    "dls = dict_dls_fransys[dl](pred_sz=60)\n",
    "n_u, n_y, n_x, init_sz, _ = get_dls_parameters(dict_dls_fransys[dl])\n",
    "model = model_narprog_small(n_u,n_x,n_y,init_sz)\n",
    "lrn = Learner(dls,model,loss_func=SkipNLoss(mae,init_sz),\n",
    "                metrics=[SkipNLoss(rmse,init_sz),\n",
    "                        SkipNLoss(nrmse_std,init_sz),\n",
    "                        SkipNLoss(nrmse,init_sz)])\n",
    "lrn.add_cb(TbpttResetCB())\n",
    "lrn.fit_flat_cos(30,lr=3e-3,pct_start=0.2)"
   ]
  },
  {
   "cell_type": "code",
   "execution_count": null,
   "id": "217c4a18-4cc4-41fa-8bff-997c446b868b",
   "metadata": {},
   "outputs": [],
   "source": [
    "dls = dict_dls_fransys[dl]()\n",
    "lrn = Learner(dls,model,loss_func=SkipNLoss(mae,init_sz),\n",
    "                metrics=[SkipNLoss(rmse,init_sz),\n",
    "                        SkipNLoss(nrmse_std,init_sz),\n",
    "                        SkipNLoss(nrmse,init_sz)])\n",
    "lrn.show_results(max_n=3)"
   ]
  },
  {
   "cell_type": "code",
   "execution_count": null,
   "id": "8a13157f-c3e4-44a5-964c-b2c0572c0dad",
   "metadata": {},
   "outputs": [],
   "source": [
    "dls = dict_dls_fransys_test[dl](valid_stp_sz=1)\n",
    "# dls = create_dls_ship_prediction_test_ood()\n",
    "lrn = Learner(dls,model,loss_func=SkipNLoss(mae,init_sz),\n",
    "                metrics=[SkipNLoss(rmse,init_sz),\n",
    "                        SkipNLoss(nrmse_std,init_sz),\n",
    "                        SkipNLoss(nrmse,init_sz)])\n",
    "lrn.validate()"
   ]
  },
  {
   "cell_type": "code",
   "execution_count": null,
   "id": "0dd595b2-d849-4965-a39d-f2c11c93d228",
   "metadata": {},
   "outputs": [],
   "source": [
    "dls = dict_dls_fransys_test[dl](pred_sz=60,valid_stp_sz=60)\n",
    "# dls = create_dls_ship_prediction_test_ood()\n",
    "lrn = Learner(dls,model,loss_func=SkipNLoss(mae,init_sz),\n",
    "                metrics=[SkipNLoss(rmse,init_sz),\n",
    "                        SkipNLoss(nrmse_std,init_sz),\n",
    "                        SkipNLoss(nrmse,init_sz)])\n",
    "lrn.add_cb(TbpttResetCB())\n",
    "lrn.validate()"
   ]
  },
  {
   "cell_type": "code",
   "execution_count": null,
   "id": "203279ec-bf38-4e70-b2a2-ae28f572d1be",
   "metadata": {},
   "outputs": [],
   "source": [
    "lrn.show_results(max_n=3)"
   ]
  },
  {
   "cell_type": "code",
   "execution_count": null,
   "id": "acc1b9d2-6f83-4931-b8c5-5262175bb3b4",
   "metadata": {},
   "outputs": [],
   "source": [
    "lrn.validate()"
   ]
  },
  {
   "cell_type": "code",
   "execution_count": null,
   "id": "e242c8b3",
   "metadata": {},
   "outputs": [],
   "source": []
  }
 ],
 "metadata": {
  "kernelspec": {
   "display_name": "python3",
   "language": "python",
   "name": "python3"
  },
  "language_info": {
   "codemirror_mode": {
    "name": "ipython",
    "version": 3
   },
   "file_extension": ".py",
   "mimetype": "text/x-python",
   "name": "python",
   "nbconvert_exporter": "python",
   "pygments_lexer": "ipython3",
   "version": "3.10.14"
  }
 },
 "nbformat": 4,
 "nbformat_minor": 5
}
